{
 "cells": [
  {
   "cell_type": "markdown",
   "metadata": {},
   "source": [
    "http://mapfrappe.com/?show=51352"
   ]
  },
  {
   "cell_type": "code",
   "execution_count": 1,
   "metadata": {},
   "outputs": [],
   "source": [
    "import time\n",
    "import planarity\n",
    "import warnings\n",
    "import numpy as np\n",
    "import pandas as pd\n",
    "import geopandas as gpd\n",
    "import matplotlib.pyplot as plt\n",
    "import requests\n",
    "import osmnx as ox\n",
    "from shapely.geometry import Point, Polygon, LineString, MultiLineString\n",
    "\n",
    "from planar import *\n",
    "\n",
    "ox.config(use_cache=True, log_console=True)\n",
    "%matplotlib inline"
   ]
  },
  {
   "cell_type": "markdown",
   "metadata": {},
   "source": [
    "## Configure the script"
   ]
  },
  {
   "cell_type": "code",
   "execution_count": 2,
   "metadata": {},
   "outputs": [],
   "source": [
    "df_places = pd.read_csv('data/places.csv')\n",
    "\n",
    "distances = [805] #804.67 meters in each direction makes for 1 square mile, 500 meters is 1 sq km\n",
    "\n",
    "network_types = ['drive', 'walk']"
   ]
  },
  {
   "cell_type": "code",
   "execution_count": 3,
   "metadata": {},
   "outputs": [
    {
     "data": {
      "text/html": [
       "<div>\n",
       "<style scoped>\n",
       "    .dataframe tbody tr th:only-of-type {\n",
       "        vertical-align: middle;\n",
       "    }\n",
       "\n",
       "    .dataframe tbody tr th {\n",
       "        vertical-align: top;\n",
       "    }\n",
       "\n",
       "    .dataframe thead th {\n",
       "        text-align: right;\n",
       "    }\n",
       "</style>\n",
       "<table border=\"1\" class=\"dataframe\">\n",
       "  <thead>\n",
       "    <tr style=\"text-align: right;\">\n",
       "      <th></th>\n",
       "      <th>country</th>\n",
       "      <th>city</th>\n",
       "      <th>lat</th>\n",
       "      <th>lng</th>\n",
       "    </tr>\n",
       "  </thead>\n",
       "  <tbody>\n",
       "    <tr>\n",
       "      <th>0</th>\n",
       "      <td>Argentina</td>\n",
       "      <td>Buenos Aires</td>\n",
       "      <td>-34.608657</td>\n",
       "      <td>-58.375547</td>\n",
       "    </tr>\n",
       "    <tr>\n",
       "      <th>1</th>\n",
       "      <td>Australia</td>\n",
       "      <td>Sydney</td>\n",
       "      <td>-33.863616</td>\n",
       "      <td>151.208977</td>\n",
       "    </tr>\n",
       "    <tr>\n",
       "      <th>2</th>\n",
       "      <td>Brazil</td>\n",
       "      <td>Sao Paulo</td>\n",
       "      <td>-23.549155</td>\n",
       "      <td>-46.633600</td>\n",
       "    </tr>\n",
       "    <tr>\n",
       "      <th>3</th>\n",
       "      <td>Canada</td>\n",
       "      <td>Toronto</td>\n",
       "      <td>43.649903</td>\n",
       "      <td>-79.380838</td>\n",
       "    </tr>\n",
       "    <tr>\n",
       "      <th>4</th>\n",
       "      <td>Canada</td>\n",
       "      <td>Vancouver</td>\n",
       "      <td>49.281651</td>\n",
       "      <td>-123.121363</td>\n",
       "    </tr>\n",
       "    <tr>\n",
       "      <th>5</th>\n",
       "      <td>Chile</td>\n",
       "      <td>Santiago</td>\n",
       "      <td>-33.439754</td>\n",
       "      <td>-70.654296</td>\n",
       "    </tr>\n",
       "    <tr>\n",
       "      <th>6</th>\n",
       "      <td>China</td>\n",
       "      <td>Beijing</td>\n",
       "      <td>39.908427</td>\n",
       "      <td>116.465505</td>\n",
       "    </tr>\n",
       "    <tr>\n",
       "      <th>7</th>\n",
       "      <td>China</td>\n",
       "      <td>Shanghai</td>\n",
       "      <td>31.236286</td>\n",
       "      <td>121.503787</td>\n",
       "    </tr>\n",
       "    <tr>\n",
       "      <th>8</th>\n",
       "      <td>China</td>\n",
       "      <td>Hong Kong</td>\n",
       "      <td>22.282321</td>\n",
       "      <td>114.156843</td>\n",
       "    </tr>\n",
       "    <tr>\n",
       "      <th>9</th>\n",
       "      <td>Denmark</td>\n",
       "      <td>Copenhagen</td>\n",
       "      <td>55.679443</td>\n",
       "      <td>12.578284</td>\n",
       "    </tr>\n",
       "    <tr>\n",
       "      <th>10</th>\n",
       "      <td>Egypt</td>\n",
       "      <td>Cairo</td>\n",
       "      <td>30.044485</td>\n",
       "      <td>31.235725</td>\n",
       "    </tr>\n",
       "    <tr>\n",
       "      <th>11</th>\n",
       "      <td>France</td>\n",
       "      <td>Lyon</td>\n",
       "      <td>45.761016</td>\n",
       "      <td>4.833705</td>\n",
       "    </tr>\n",
       "    <tr>\n",
       "      <th>12</th>\n",
       "      <td>France</td>\n",
       "      <td>Paris</td>\n",
       "      <td>48.865579</td>\n",
       "      <td>2.352091</td>\n",
       "    </tr>\n",
       "    <tr>\n",
       "      <th>13</th>\n",
       "      <td>Germany</td>\n",
       "      <td>Berlin</td>\n",
       "      <td>52.521881</td>\n",
       "      <td>13.412545</td>\n",
       "    </tr>\n",
       "    <tr>\n",
       "      <th>14</th>\n",
       "      <td>India</td>\n",
       "      <td>Delhi</td>\n",
       "      <td>28.653108</td>\n",
       "      <td>77.229937</td>\n",
       "    </tr>\n",
       "    <tr>\n",
       "      <th>15</th>\n",
       "      <td>Indonesia</td>\n",
       "      <td>Jakarta</td>\n",
       "      <td>-6.194934</td>\n",
       "      <td>106.822871</td>\n",
       "    </tr>\n",
       "    <tr>\n",
       "      <th>16</th>\n",
       "      <td>Iran</td>\n",
       "      <td>Tehran</td>\n",
       "      <td>35.691883</td>\n",
       "      <td>51.383896</td>\n",
       "    </tr>\n",
       "    <tr>\n",
       "      <th>17</th>\n",
       "      <td>Italy</td>\n",
       "      <td>Bologna</td>\n",
       "      <td>44.494856</td>\n",
       "      <td>11.342612</td>\n",
       "    </tr>\n",
       "    <tr>\n",
       "      <th>18</th>\n",
       "      <td>Italy</td>\n",
       "      <td>Florence</td>\n",
       "      <td>43.772912</td>\n",
       "      <td>11.255328</td>\n",
       "    </tr>\n",
       "    <tr>\n",
       "      <th>19</th>\n",
       "      <td>Italy</td>\n",
       "      <td>Milan</td>\n",
       "      <td>45.468243</td>\n",
       "      <td>9.182484</td>\n",
       "    </tr>\n",
       "    <tr>\n",
       "      <th>20</th>\n",
       "      <td>Japan</td>\n",
       "      <td>Osaka</td>\n",
       "      <td>34.693758</td>\n",
       "      <td>135.501093</td>\n",
       "    </tr>\n",
       "    <tr>\n",
       "      <th>21</th>\n",
       "      <td>Japan</td>\n",
       "      <td>Tokyo</td>\n",
       "      <td>35.658103</td>\n",
       "      <td>139.701195</td>\n",
       "    </tr>\n",
       "    <tr>\n",
       "      <th>22</th>\n",
       "      <td>Kenya</td>\n",
       "      <td>Nairobi</td>\n",
       "      <td>-1.281490</td>\n",
       "      <td>36.822077</td>\n",
       "    </tr>\n",
       "    <tr>\n",
       "      <th>23</th>\n",
       "      <td>Mexico</td>\n",
       "      <td>Mexico City</td>\n",
       "      <td>19.426895</td>\n",
       "      <td>-99.167636</td>\n",
       "    </tr>\n",
       "    <tr>\n",
       "      <th>24</th>\n",
       "      <td>Nigeria</td>\n",
       "      <td>Lagos</td>\n",
       "      <td>6.458257</td>\n",
       "      <td>3.388064</td>\n",
       "    </tr>\n",
       "    <tr>\n",
       "      <th>25</th>\n",
       "      <td>Peru</td>\n",
       "      <td>Lima</td>\n",
       "      <td>-12.043384</td>\n",
       "      <td>-77.043067</td>\n",
       "    </tr>\n",
       "    <tr>\n",
       "      <th>26</th>\n",
       "      <td>Philippines</td>\n",
       "      <td>Manila</td>\n",
       "      <td>14.598500</td>\n",
       "      <td>120.978404</td>\n",
       "    </tr>\n",
       "    <tr>\n",
       "      <th>27</th>\n",
       "      <td>Russia</td>\n",
       "      <td>Moscow</td>\n",
       "      <td>55.749165</td>\n",
       "      <td>37.537873</td>\n",
       "    </tr>\n",
       "    <tr>\n",
       "      <th>28</th>\n",
       "      <td>Singapore</td>\n",
       "      <td>Singapore</td>\n",
       "      <td>1.293987</td>\n",
       "      <td>103.856525</td>\n",
       "    </tr>\n",
       "    <tr>\n",
       "      <th>29</th>\n",
       "      <td>Somalia</td>\n",
       "      <td>Mogadishu</td>\n",
       "      <td>2.045684</td>\n",
       "      <td>45.319750</td>\n",
       "    </tr>\n",
       "    <tr>\n",
       "      <th>30</th>\n",
       "      <td>South Africa</td>\n",
       "      <td>Johannesburg</td>\n",
       "      <td>-26.206864</td>\n",
       "      <td>28.044249</td>\n",
       "    </tr>\n",
       "    <tr>\n",
       "      <th>31</th>\n",
       "      <td>Spain</td>\n",
       "      <td>Barcelona</td>\n",
       "      <td>41.388428</td>\n",
       "      <td>2.171327</td>\n",
       "    </tr>\n",
       "    <tr>\n",
       "      <th>32</th>\n",
       "      <td>Switzerland</td>\n",
       "      <td>Geneva</td>\n",
       "      <td>46.201351</td>\n",
       "      <td>6.148301</td>\n",
       "    </tr>\n",
       "    <tr>\n",
       "      <th>33</th>\n",
       "      <td>Thailand</td>\n",
       "      <td>Bangkok</td>\n",
       "      <td>13.755901</td>\n",
       "      <td>100.505214</td>\n",
       "    </tr>\n",
       "    <tr>\n",
       "      <th>34</th>\n",
       "      <td>Turkey</td>\n",
       "      <td>Istanbul</td>\n",
       "      <td>41.013308</td>\n",
       "      <td>28.961120</td>\n",
       "    </tr>\n",
       "    <tr>\n",
       "      <th>35</th>\n",
       "      <td>UAE</td>\n",
       "      <td>Dubai</td>\n",
       "      <td>25.202671</td>\n",
       "      <td>55.274985</td>\n",
       "    </tr>\n",
       "    <tr>\n",
       "      <th>36</th>\n",
       "      <td>UK</td>\n",
       "      <td>Edinburgh</td>\n",
       "      <td>55.953325</td>\n",
       "      <td>-3.189150</td>\n",
       "    </tr>\n",
       "    <tr>\n",
       "      <th>37</th>\n",
       "      <td>UK</td>\n",
       "      <td>London</td>\n",
       "      <td>51.513387</td>\n",
       "      <td>-0.088985</td>\n",
       "    </tr>\n",
       "    <tr>\n",
       "      <th>38</th>\n",
       "      <td>USA</td>\n",
       "      <td>Atlanta</td>\n",
       "      <td>33.756297</td>\n",
       "      <td>-84.386107</td>\n",
       "    </tr>\n",
       "    <tr>\n",
       "      <th>39</th>\n",
       "      <td>USA</td>\n",
       "      <td>Chicago</td>\n",
       "      <td>41.880601</td>\n",
       "      <td>-87.632326</td>\n",
       "    </tr>\n",
       "    <tr>\n",
       "      <th>40</th>\n",
       "      <td>USA</td>\n",
       "      <td>Cincinnati</td>\n",
       "      <td>39.101593</td>\n",
       "      <td>-84.514753</td>\n",
       "    </tr>\n",
       "    <tr>\n",
       "      <th>41</th>\n",
       "      <td>USA</td>\n",
       "      <td>Dallas</td>\n",
       "      <td>32.777714</td>\n",
       "      <td>-96.805628</td>\n",
       "    </tr>\n",
       "    <tr>\n",
       "      <th>42</th>\n",
       "      <td>USA</td>\n",
       "      <td>Los Angeles</td>\n",
       "      <td>34.056394</td>\n",
       "      <td>-118.249837</td>\n",
       "    </tr>\n",
       "    <tr>\n",
       "      <th>43</th>\n",
       "      <td>USA</td>\n",
       "      <td>Miami</td>\n",
       "      <td>25.772500</td>\n",
       "      <td>-80.194432</td>\n",
       "    </tr>\n",
       "    <tr>\n",
       "      <th>44</th>\n",
       "      <td>USA</td>\n",
       "      <td>New York</td>\n",
       "      <td>40.713951</td>\n",
       "      <td>-74.005871</td>\n",
       "    </tr>\n",
       "    <tr>\n",
       "      <th>45</th>\n",
       "      <td>USA</td>\n",
       "      <td>Phoenix</td>\n",
       "      <td>33.448217</td>\n",
       "      <td>-112.073827</td>\n",
       "    </tr>\n",
       "    <tr>\n",
       "      <th>46</th>\n",
       "      <td>USA</td>\n",
       "      <td>San Francisco</td>\n",
       "      <td>37.789269</td>\n",
       "      <td>-122.401411</td>\n",
       "    </tr>\n",
       "    <tr>\n",
       "      <th>47</th>\n",
       "      <td>USA</td>\n",
       "      <td>Seattle</td>\n",
       "      <td>47.611170</td>\n",
       "      <td>-122.334450</td>\n",
       "    </tr>\n",
       "    <tr>\n",
       "      <th>48</th>\n",
       "      <td>USA</td>\n",
       "      <td>Washington DC</td>\n",
       "      <td>38.904701</td>\n",
       "      <td>-77.036535</td>\n",
       "    </tr>\n",
       "    <tr>\n",
       "      <th>49</th>\n",
       "      <td>Venezuela</td>\n",
       "      <td>Caracas</td>\n",
       "      <td>10.494903</td>\n",
       "      <td>-66.850865</td>\n",
       "    </tr>\n",
       "  </tbody>\n",
       "</table>\n",
       "</div>"
      ],
      "text/plain": [
       "         country           city        lat         lng\n",
       "0      Argentina   Buenos Aires -34.608657  -58.375547\n",
       "1      Australia         Sydney -33.863616  151.208977\n",
       "2         Brazil      Sao Paulo -23.549155  -46.633600\n",
       "3         Canada        Toronto  43.649903  -79.380838\n",
       "4         Canada      Vancouver  49.281651 -123.121363\n",
       "5          Chile       Santiago -33.439754  -70.654296\n",
       "6          China        Beijing  39.908427  116.465505\n",
       "7          China       Shanghai  31.236286  121.503787\n",
       "8          China      Hong Kong  22.282321  114.156843\n",
       "9        Denmark     Copenhagen  55.679443   12.578284\n",
       "10         Egypt          Cairo  30.044485   31.235725\n",
       "11        France           Lyon  45.761016    4.833705\n",
       "12        France          Paris  48.865579    2.352091\n",
       "13       Germany         Berlin  52.521881   13.412545\n",
       "14         India          Delhi  28.653108   77.229937\n",
       "15     Indonesia        Jakarta  -6.194934  106.822871\n",
       "16          Iran         Tehran  35.691883   51.383896\n",
       "17         Italy        Bologna  44.494856   11.342612\n",
       "18         Italy       Florence  43.772912   11.255328\n",
       "19         Italy          Milan  45.468243    9.182484\n",
       "20         Japan          Osaka  34.693758  135.501093\n",
       "21         Japan          Tokyo  35.658103  139.701195\n",
       "22         Kenya        Nairobi  -1.281490   36.822077\n",
       "23        Mexico    Mexico City  19.426895  -99.167636\n",
       "24       Nigeria          Lagos   6.458257    3.388064\n",
       "25          Peru           Lima -12.043384  -77.043067\n",
       "26   Philippines         Manila  14.598500  120.978404\n",
       "27        Russia         Moscow  55.749165   37.537873\n",
       "28     Singapore      Singapore   1.293987  103.856525\n",
       "29       Somalia      Mogadishu   2.045684   45.319750\n",
       "30  South Africa   Johannesburg -26.206864   28.044249\n",
       "31         Spain      Barcelona  41.388428    2.171327\n",
       "32   Switzerland         Geneva  46.201351    6.148301\n",
       "33      Thailand        Bangkok  13.755901  100.505214\n",
       "34        Turkey       Istanbul  41.013308   28.961120\n",
       "35           UAE          Dubai  25.202671   55.274985\n",
       "36            UK      Edinburgh  55.953325   -3.189150\n",
       "37            UK         London  51.513387   -0.088985\n",
       "38           USA        Atlanta  33.756297  -84.386107\n",
       "39           USA        Chicago  41.880601  -87.632326\n",
       "40           USA     Cincinnati  39.101593  -84.514753\n",
       "41           USA         Dallas  32.777714  -96.805628\n",
       "42           USA    Los Angeles  34.056394 -118.249837\n",
       "43           USA          Miami  25.772500  -80.194432\n",
       "44           USA       New York  40.713951  -74.005871\n",
       "45           USA        Phoenix  33.448217 -112.073827\n",
       "46           USA  San Francisco  37.789269 -122.401411\n",
       "47           USA        Seattle  47.611170 -122.334450\n",
       "48           USA  Washington DC  38.904701  -77.036535\n",
       "49     Venezuela        Caracas  10.494903  -66.850865"
      ]
     },
     "execution_count": 3,
     "metadata": {},
     "output_type": "execute_result"
    }
   ],
   "source": [
    "#df_places = df_places.loc[0:6]\n",
    "df_places"
   ]
  },
  {
   "cell_type": "markdown",
   "metadata": {},
   "source": [
    "## Execute the script"
   ]
  },
  {
   "cell_type": "code",
   "execution_count": 4,
   "metadata": {},
   "outputs": [],
   "source": [
    "# convert df to dict for execution\n",
    "places = {}\n",
    "for label, row in df_places.iterrows():\n",
    "    key = '{}_{}'.format(row['country'], row['city'])\n",
    "    value = (row['lat'], row['lng'])\n",
    "    places[key] = value\n",
    "    \n",
    "places = df_places"
   ]
  },
  {
   "cell_type": "code",
   "execution_count": 5,
   "metadata": {},
   "outputs": [
    {
     "name": "stdout",
     "output_type": "stream",
     "text": [
      "Argentina Buenos Aires drive 805 8.21\n",
      "Argentina Buenos Aires walk 805 "
     ]
    },
    {
     "name": "stderr",
     "output_type": "stream",
     "text": [
      "g:\\geoff\\dropbox\\documents\\school\\phd\\projects\\code\\osmnx-repos\\osmnx\\osmnx\\core.py:112: ResourceWarning: unclosed file <_io.TextIOWrapper name='cache/f02ccae7041ed2992dd986d557f2973a.json' mode='r' encoding='utf-8'>\n",
      "  response_json = json.load(io.open(cache_path_filename, encoding='utf-8'))\n",
      "g:\\geoff\\dropbox\\documents\\school\\phd\\projects\\code\\osmnx-repos\\osmnx\\osmnx\\core.py:112: ResourceWarning: unclosed file <_io.TextIOWrapper name='cache/08e26ad7b03cbe0aa62de7d90f7d27e4.json' mode='r' encoding='utf-8'>\n",
      "  response_json = json.load(io.open(cache_path_filename, encoding='utf-8'))\n"
     ]
    },
    {
     "name": "stdout",
     "output_type": "stream",
     "text": [
      "63.17\n",
      "Australia Sydney drive 805 "
     ]
    },
    {
     "name": "stderr",
     "output_type": "stream",
     "text": [
      "g:\\geoff\\dropbox\\documents\\school\\phd\\projects\\code\\osmnx-repos\\osmnx\\osmnx\\core.py:112: ResourceWarning: unclosed file <_io.TextIOWrapper name='cache/78c0ce84465289c5b79fea7cbe961c4c.json' mode='r' encoding='utf-8'>\n",
      "  response_json = json.load(io.open(cache_path_filename, encoding='utf-8'))\n",
      "g:\\geoff\\dropbox\\documents\\school\\phd\\projects\\code\\osmnx-repos\\osmnx\\osmnx\\core.py:112: ResourceWarning: unclosed file <_io.TextIOWrapper name='cache/2975128ec65f4e97082a57bb1beff199.json' mode='r' encoding='utf-8'>\n",
      "  response_json = json.load(io.open(cache_path_filename, encoding='utf-8'))\n"
     ]
    },
    {
     "name": "stdout",
     "output_type": "stream",
     "text": [
      "5.6\n",
      "Australia Sydney walk 805 "
     ]
    },
    {
     "name": "stderr",
     "output_type": "stream",
     "text": [
      "g:\\geoff\\dropbox\\documents\\school\\phd\\projects\\code\\osmnx-repos\\osmnx\\osmnx\\core.py:112: ResourceWarning: unclosed file <_io.TextIOWrapper name='cache/674505a008d6f9075abbc81728b89a5c.json' mode='r' encoding='utf-8'>\n",
      "  response_json = json.load(io.open(cache_path_filename, encoding='utf-8'))\n",
      "g:\\geoff\\dropbox\\documents\\school\\phd\\projects\\code\\osmnx-repos\\osmnx\\osmnx\\core.py:112: ResourceWarning: unclosed file <_io.TextIOWrapper name='cache/7c01e55335ca366cde9224d192f2ec1b.json' mode='r' encoding='utf-8'>\n",
      "  response_json = json.load(io.open(cache_path_filename, encoding='utf-8'))\n"
     ]
    },
    {
     "name": "stdout",
     "output_type": "stream",
     "text": [
      "78.67\n",
      "Brazil Sao Paulo drive 805 "
     ]
    },
    {
     "name": "stderr",
     "output_type": "stream",
     "text": [
      "g:\\geoff\\dropbox\\documents\\school\\phd\\projects\\code\\osmnx-repos\\osmnx\\osmnx\\core.py:112: ResourceWarning: unclosed file <_io.TextIOWrapper name='cache/eefd7351ab03c9bfd3cbf94f7cee87b0.json' mode='r' encoding='utf-8'>\n",
      "  response_json = json.load(io.open(cache_path_filename, encoding='utf-8'))\n",
      "g:\\geoff\\dropbox\\documents\\school\\phd\\projects\\code\\osmnx-repos\\osmnx\\osmnx\\core.py:112: ResourceWarning: unclosed file <_io.TextIOWrapper name='cache/d316bd76d8b21f7ce651d4012e5cd4ef.json' mode='r' encoding='utf-8'>\n",
      "  response_json = json.load(io.open(cache_path_filename, encoding='utf-8'))\n"
     ]
    },
    {
     "name": "stdout",
     "output_type": "stream",
     "text": [
      "14.19\n",
      "Brazil Sao Paulo walk 805 "
     ]
    },
    {
     "name": "stderr",
     "output_type": "stream",
     "text": [
      "g:\\geoff\\dropbox\\documents\\school\\phd\\projects\\code\\osmnx-repos\\osmnx\\osmnx\\core.py:112: ResourceWarning: unclosed file <_io.TextIOWrapper name='cache/01e5045772bf66aee71e5df16e81acca.json' mode='r' encoding='utf-8'>\n",
      "  response_json = json.load(io.open(cache_path_filename, encoding='utf-8'))\n",
      "g:\\geoff\\dropbox\\documents\\school\\phd\\projects\\code\\osmnx-repos\\osmnx\\osmnx\\core.py:112: ResourceWarning: unclosed file <_io.TextIOWrapper name='cache/c9a125963510080870d14f4f55ac557c.json' mode='r' encoding='utf-8'>\n",
      "  response_json = json.load(io.open(cache_path_filename, encoding='utf-8'))\n"
     ]
    },
    {
     "name": "stdout",
     "output_type": "stream",
     "text": [
      "44.91\n",
      "Canada Toronto drive 805 "
     ]
    },
    {
     "name": "stderr",
     "output_type": "stream",
     "text": [
      "g:\\geoff\\dropbox\\documents\\school\\phd\\projects\\code\\osmnx-repos\\osmnx\\osmnx\\core.py:112: ResourceWarning: unclosed file <_io.TextIOWrapper name='cache/dfde2914697e09f33c0fc92cf1d766d8.json' mode='r' encoding='utf-8'>\n",
      "  response_json = json.load(io.open(cache_path_filename, encoding='utf-8'))\n",
      "g:\\geoff\\dropbox\\documents\\school\\phd\\projects\\code\\osmnx-repos\\osmnx\\osmnx\\core.py:112: ResourceWarning: unclosed file <_io.TextIOWrapper name='cache/6d96c5a59e90c65e2cb08f813ca8329e.json' mode='r' encoding='utf-8'>\n",
      "  response_json = json.load(io.open(cache_path_filename, encoding='utf-8'))\n"
     ]
    },
    {
     "name": "stdout",
     "output_type": "stream",
     "text": [
      "7.96\n",
      "Canada Toronto walk 805 "
     ]
    },
    {
     "name": "stderr",
     "output_type": "stream",
     "text": [
      "g:\\geoff\\dropbox\\documents\\school\\phd\\projects\\code\\osmnx-repos\\osmnx\\osmnx\\core.py:112: ResourceWarning: unclosed file <_io.TextIOWrapper name='cache/60480897eb74b4bc307265d01e7453c2.json' mode='r' encoding='utf-8'>\n",
      "  response_json = json.load(io.open(cache_path_filename, encoding='utf-8'))\n",
      "g:\\geoff\\dropbox\\documents\\school\\phd\\projects\\code\\osmnx-repos\\osmnx\\osmnx\\core.py:112: ResourceWarning: unclosed file <_io.TextIOWrapper name='cache/b28f82f6194f7b9ffa83a0c17022adbc.json' mode='r' encoding='utf-8'>\n",
      "  response_json = json.load(io.open(cache_path_filename, encoding='utf-8'))\n"
     ]
    },
    {
     "name": "stdout",
     "output_type": "stream",
     "text": [
      "1030.25\n",
      "Canada Vancouver drive 805 "
     ]
    },
    {
     "name": "stderr",
     "output_type": "stream",
     "text": [
      "g:\\geoff\\dropbox\\documents\\school\\phd\\projects\\code\\osmnx-repos\\osmnx\\osmnx\\core.py:112: ResourceWarning: unclosed file <_io.TextIOWrapper name='cache/9aa08aed64bb98092f8fdd18b94f8c38.json' mode='r' encoding='utf-8'>\n",
      "  response_json = json.load(io.open(cache_path_filename, encoding='utf-8'))\n",
      "g:\\geoff\\dropbox\\documents\\school\\phd\\projects\\code\\osmnx-repos\\osmnx\\osmnx\\core.py:112: ResourceWarning: unclosed file <_io.TextIOWrapper name='cache/3a0bcb9ba0c0fe249bc795114d656860.json' mode='r' encoding='utf-8'>\n",
      "  response_json = json.load(io.open(cache_path_filename, encoding='utf-8'))\n"
     ]
    },
    {
     "name": "stdout",
     "output_type": "stream",
     "text": [
      "6.37\n",
      "Canada Vancouver walk 805 "
     ]
    },
    {
     "name": "stderr",
     "output_type": "stream",
     "text": [
      "g:\\geoff\\dropbox\\documents\\school\\phd\\projects\\code\\osmnx-repos\\osmnx\\osmnx\\core.py:112: ResourceWarning: unclosed file <_io.TextIOWrapper name='cache/16b182d608a814963d44914caf6403a9.json' mode='r' encoding='utf-8'>\n",
      "  response_json = json.load(io.open(cache_path_filename, encoding='utf-8'))\n",
      "g:\\geoff\\dropbox\\documents\\school\\phd\\projects\\code\\osmnx-repos\\osmnx\\osmnx\\core.py:112: ResourceWarning: unclosed file <_io.TextIOWrapper name='cache/1f6cb39bd2b2e7896e1ae6069180825a.json' mode='r' encoding='utf-8'>\n",
      "  response_json = json.load(io.open(cache_path_filename, encoding='utf-8'))\n"
     ]
    },
    {
     "name": "stdout",
     "output_type": "stream",
     "text": [
      "64.43\n",
      "Chile Santiago drive 805 "
     ]
    },
    {
     "name": "stderr",
     "output_type": "stream",
     "text": [
      "g:\\geoff\\dropbox\\documents\\school\\phd\\projects\\code\\osmnx-repos\\osmnx\\osmnx\\core.py:112: ResourceWarning: unclosed file <_io.TextIOWrapper name='cache/cd3a3cfd9856a555065b8ac6e2b5747a.json' mode='r' encoding='utf-8'>\n",
      "  response_json = json.load(io.open(cache_path_filename, encoding='utf-8'))\n",
      "g:\\geoff\\dropbox\\documents\\school\\phd\\projects\\code\\osmnx-repos\\osmnx\\osmnx\\core.py:112: ResourceWarning: unclosed file <_io.TextIOWrapper name='cache/29af18f01a990cccb4efe0d262adabfb.json' mode='r' encoding='utf-8'>\n",
      "  response_json = json.load(io.open(cache_path_filename, encoding='utf-8'))\n"
     ]
    },
    {
     "name": "stdout",
     "output_type": "stream",
     "text": [
      "8.56\n",
      "Chile Santiago walk 805 "
     ]
    },
    {
     "name": "stderr",
     "output_type": "stream",
     "text": [
      "g:\\geoff\\dropbox\\documents\\school\\phd\\projects\\code\\osmnx-repos\\osmnx\\osmnx\\core.py:112: ResourceWarning: unclosed file <_io.TextIOWrapper name='cache/47391779ff220c31d75020668f3c995b.json' mode='r' encoding='utf-8'>\n",
      "  response_json = json.load(io.open(cache_path_filename, encoding='utf-8'))\n",
      "g:\\geoff\\dropbox\\documents\\school\\phd\\projects\\code\\osmnx-repos\\osmnx\\osmnx\\core.py:112: ResourceWarning: unclosed file <_io.TextIOWrapper name='cache/55d6a5c2d1870a2c9774945efecf540b.json' mode='r' encoding='utf-8'>\n",
      "  response_json = json.load(io.open(cache_path_filename, encoding='utf-8'))\n"
     ]
    },
    {
     "name": "stdout",
     "output_type": "stream",
     "text": [
      "29.25\n",
      "China Beijing drive 805 "
     ]
    },
    {
     "name": "stderr",
     "output_type": "stream",
     "text": [
      "g:\\geoff\\dropbox\\documents\\school\\phd\\projects\\code\\osmnx-repos\\osmnx\\osmnx\\core.py:112: ResourceWarning: unclosed file <_io.TextIOWrapper name='cache/b0736eec6d93698fc62be2cba6ef3417.json' mode='r' encoding='utf-8'>\n",
      "  response_json = json.load(io.open(cache_path_filename, encoding='utf-8'))\n",
      "g:\\geoff\\dropbox\\documents\\school\\phd\\projects\\code\\osmnx-repos\\osmnx\\osmnx\\core.py:112: ResourceWarning: unclosed file <_io.TextIOWrapper name='cache/674b4bbac9b1a81be5ed8fbe5cbd06d8.json' mode='r' encoding='utf-8'>\n",
      "  response_json = json.load(io.open(cache_path_filename, encoding='utf-8'))\n"
     ]
    },
    {
     "name": "stdout",
     "output_type": "stream",
     "text": [
      "2.72\n",
      "China Beijing walk 805 "
     ]
    },
    {
     "name": "stderr",
     "output_type": "stream",
     "text": [
      "g:\\geoff\\dropbox\\documents\\school\\phd\\projects\\code\\osmnx-repos\\osmnx\\osmnx\\core.py:112: ResourceWarning: unclosed file <_io.TextIOWrapper name='cache/a597605d476b12fe5d35e4b9278ffa33.json' mode='r' encoding='utf-8'>\n",
      "  response_json = json.load(io.open(cache_path_filename, encoding='utf-8'))\n",
      "g:\\geoff\\dropbox\\documents\\school\\phd\\projects\\code\\osmnx-repos\\osmnx\\osmnx\\core.py:112: ResourceWarning: unclosed file <_io.TextIOWrapper name='cache/216d397dd9f1f805b3140734b1b46e75.json' mode='r' encoding='utf-8'>\n",
      "  response_json = json.load(io.open(cache_path_filename, encoding='utf-8'))\n"
     ]
    },
    {
     "name": "stdout",
     "output_type": "stream",
     "text": [
      "7.17\n",
      "China Shanghai drive 805 "
     ]
    },
    {
     "name": "stderr",
     "output_type": "stream",
     "text": [
      "g:\\geoff\\dropbox\\documents\\school\\phd\\projects\\code\\osmnx-repos\\osmnx\\osmnx\\core.py:112: ResourceWarning: unclosed file <_io.TextIOWrapper name='cache/5360f116e17279894453f0986236e736.json' mode='r' encoding='utf-8'>\n",
      "  response_json = json.load(io.open(cache_path_filename, encoding='utf-8'))\n",
      "g:\\geoff\\dropbox\\documents\\school\\phd\\projects\\code\\osmnx-repos\\osmnx\\osmnx\\core.py:112: ResourceWarning: unclosed file <_io.TextIOWrapper name='cache/c19f3695b932b0b0e38b1258fe536309.json' mode='r' encoding='utf-8'>\n",
      "  response_json = json.load(io.open(cache_path_filename, encoding='utf-8'))\n"
     ]
    },
    {
     "name": "stdout",
     "output_type": "stream",
     "text": [
      "5.28\n",
      "China Shanghai walk 805 "
     ]
    },
    {
     "name": "stderr",
     "output_type": "stream",
     "text": [
      "g:\\geoff\\dropbox\\documents\\school\\phd\\projects\\code\\osmnx-repos\\osmnx\\osmnx\\core.py:112: ResourceWarning: unclosed file <_io.TextIOWrapper name='cache/12e430b7cdc89781e565cfd5f5facb9f.json' mode='r' encoding='utf-8'>\n",
      "  response_json = json.load(io.open(cache_path_filename, encoding='utf-8'))\n",
      "g:\\geoff\\dropbox\\documents\\school\\phd\\projects\\code\\osmnx-repos\\osmnx\\osmnx\\core.py:112: ResourceWarning: unclosed file <_io.TextIOWrapper name='cache/ac61ccfde8ea44fc69cd193e66bfb7b1.json' mode='r' encoding='utf-8'>\n",
      "  response_json = json.load(io.open(cache_path_filename, encoding='utf-8'))\n"
     ]
    },
    {
     "name": "stdout",
     "output_type": "stream",
     "text": [
      "16.59\n",
      "China Hong Kong drive 805 "
     ]
    },
    {
     "name": "stderr",
     "output_type": "stream",
     "text": [
      "g:\\geoff\\dropbox\\documents\\school\\phd\\projects\\code\\osmnx-repos\\osmnx\\osmnx\\core.py:112: ResourceWarning: unclosed file <_io.TextIOWrapper name='cache/4168405de91f28dd4eab168372bfa57f.json' mode='r' encoding='utf-8'>\n",
      "  response_json = json.load(io.open(cache_path_filename, encoding='utf-8'))\n",
      "g:\\geoff\\dropbox\\documents\\school\\phd\\projects\\code\\osmnx-repos\\osmnx\\osmnx\\core.py:112: ResourceWarning: unclosed file <_io.TextIOWrapper name='cache/0518cb95887bfed18abecaaf0cd4c4fe.json' mode='r' encoding='utf-8'>\n",
      "  response_json = json.load(io.open(cache_path_filename, encoding='utf-8'))\n"
     ]
    },
    {
     "name": "stdout",
     "output_type": "stream",
     "text": [
      "13.7\n",
      "China Hong Kong walk 805 "
     ]
    },
    {
     "name": "stderr",
     "output_type": "stream",
     "text": [
      "g:\\geoff\\dropbox\\documents\\school\\phd\\projects\\code\\osmnx-repos\\osmnx\\osmnx\\core.py:112: ResourceWarning: unclosed file <_io.TextIOWrapper name='cache/f42caab212a0061281f0243a0ca8c68a.json' mode='r' encoding='utf-8'>\n",
      "  response_json = json.load(io.open(cache_path_filename, encoding='utf-8'))\n",
      "g:\\geoff\\dropbox\\documents\\school\\phd\\projects\\code\\osmnx-repos\\osmnx\\osmnx\\core.py:112: ResourceWarning: unclosed file <_io.TextIOWrapper name='cache/1ddbeb0b56edf923549140af2e700eaf.json' mode='r' encoding='utf-8'>\n",
      "  response_json = json.load(io.open(cache_path_filename, encoding='utf-8'))\n"
     ]
    },
    {
     "name": "stdout",
     "output_type": "stream",
     "text": [
      "132.83\n",
      "Denmark Copenhagen drive 805 "
     ]
    },
    {
     "name": "stderr",
     "output_type": "stream",
     "text": [
      "g:\\geoff\\dropbox\\documents\\school\\phd\\projects\\code\\osmnx-repos\\osmnx\\osmnx\\core.py:112: ResourceWarning: unclosed file <_io.TextIOWrapper name='cache/5503a8ae88b7a3261091b5fb59db3c94.json' mode='r' encoding='utf-8'>\n",
      "  response_json = json.load(io.open(cache_path_filename, encoding='utf-8'))\n",
      "g:\\geoff\\dropbox\\documents\\school\\phd\\projects\\code\\osmnx-repos\\osmnx\\osmnx\\core.py:112: ResourceWarning: unclosed file <_io.TextIOWrapper name='cache/a191e9a6d71c90949b3b26463ad91976.json' mode='r' encoding='utf-8'>\n",
      "  response_json = json.load(io.open(cache_path_filename, encoding='utf-8'))\n"
     ]
    },
    {
     "name": "stdout",
     "output_type": "stream",
     "text": [
      "9.43\n",
      "Denmark Copenhagen walk 805 "
     ]
    },
    {
     "name": "stderr",
     "output_type": "stream",
     "text": [
      "g:\\geoff\\dropbox\\documents\\school\\phd\\projects\\code\\osmnx-repos\\osmnx\\osmnx\\core.py:112: ResourceWarning: unclosed file <_io.TextIOWrapper name='cache/a865031948871c9e74395b220fec4351.json' mode='r' encoding='utf-8'>\n",
      "  response_json = json.load(io.open(cache_path_filename, encoding='utf-8'))\n",
      "g:\\geoff\\dropbox\\documents\\school\\phd\\projects\\code\\osmnx-repos\\osmnx\\osmnx\\core.py:112: ResourceWarning: unclosed file <_io.TextIOWrapper name='cache/e23e87522635b94a458b7442ddd78e19.json' mode='r' encoding='utf-8'>\n",
      "  response_json = json.load(io.open(cache_path_filename, encoding='utf-8'))\n"
     ]
    },
    {
     "name": "stdout",
     "output_type": "stream",
     "text": [
      "89.92\n",
      "Egypt Cairo drive 805 "
     ]
    },
    {
     "name": "stderr",
     "output_type": "stream",
     "text": [
      "g:\\geoff\\dropbox\\documents\\school\\phd\\projects\\code\\osmnx-repos\\osmnx\\osmnx\\core.py:112: ResourceWarning: unclosed file <_io.TextIOWrapper name='cache/907ec55dc716dd6e2ce34e32ceb6de09.json' mode='r' encoding='utf-8'>\n",
      "  response_json = json.load(io.open(cache_path_filename, encoding='utf-8'))\n",
      "g:\\geoff\\dropbox\\documents\\school\\phd\\projects\\code\\osmnx-repos\\osmnx\\osmnx\\core.py:112: ResourceWarning: unclosed file <_io.TextIOWrapper name='cache/1ea742d2c1c1302f70b6fc70b3d5a9c2.json' mode='r' encoding='utf-8'>\n",
      "  response_json = json.load(io.open(cache_path_filename, encoding='utf-8'))\n"
     ]
    },
    {
     "name": "stdout",
     "output_type": "stream",
     "text": [
      "12.08\n",
      "Egypt Cairo walk 805 "
     ]
    },
    {
     "name": "stderr",
     "output_type": "stream",
     "text": [
      "g:\\geoff\\dropbox\\documents\\school\\phd\\projects\\code\\osmnx-repos\\osmnx\\osmnx\\core.py:112: ResourceWarning: unclosed file <_io.TextIOWrapper name='cache/c5ada45be05d74845cd4916362260cb9.json' mode='r' encoding='utf-8'>\n",
      "  response_json = json.load(io.open(cache_path_filename, encoding='utf-8'))\n",
      "g:\\geoff\\dropbox\\documents\\school\\phd\\projects\\code\\osmnx-repos\\osmnx\\osmnx\\core.py:112: ResourceWarning: unclosed file <_io.TextIOWrapper name='cache/cee9aca3de21456a65f5dee7ac4dfab6.json' mode='r' encoding='utf-8'>\n",
      "  response_json = json.load(io.open(cache_path_filename, encoding='utf-8'))\n"
     ]
    },
    {
     "name": "stdout",
     "output_type": "stream",
     "text": [
      "21.23\n",
      "France Lyon drive 805 "
     ]
    },
    {
     "name": "stderr",
     "output_type": "stream",
     "text": [
      "g:\\geoff\\dropbox\\documents\\school\\phd\\projects\\code\\osmnx-repos\\osmnx\\osmnx\\core.py:112: ResourceWarning: unclosed file <_io.TextIOWrapper name='cache/c39244440b0fbf8132fca650069896a4.json' mode='r' encoding='utf-8'>\n",
      "  response_json = json.load(io.open(cache_path_filename, encoding='utf-8'))\n",
      "g:\\geoff\\dropbox\\documents\\school\\phd\\projects\\code\\osmnx-repos\\osmnx\\osmnx\\core.py:112: ResourceWarning: unclosed file <_io.TextIOWrapper name='cache/83a4ac8032e53997bc929c0741c48864.json' mode='r' encoding='utf-8'>\n",
      "  response_json = json.load(io.open(cache_path_filename, encoding='utf-8'))\n"
     ]
    },
    {
     "name": "stdout",
     "output_type": "stream",
     "text": [
      "21.13\n",
      "France Lyon walk 805 "
     ]
    },
    {
     "name": "stderr",
     "output_type": "stream",
     "text": [
      "g:\\geoff\\dropbox\\documents\\school\\phd\\projects\\code\\osmnx-repos\\osmnx\\osmnx\\core.py:112: ResourceWarning: unclosed file <_io.TextIOWrapper name='cache/a894c8436a13ff8e435df769574329d9.json' mode='r' encoding='utf-8'>\n",
      "  response_json = json.load(io.open(cache_path_filename, encoding='utf-8'))\n",
      "g:\\geoff\\dropbox\\documents\\school\\phd\\projects\\code\\osmnx-repos\\osmnx\\osmnx\\core.py:112: ResourceWarning: unclosed file <_io.TextIOWrapper name='cache/39f5a789ee7d0c2d8df9dd088eb5cb88.json' mode='r' encoding='utf-8'>\n",
      "  response_json = json.load(io.open(cache_path_filename, encoding='utf-8'))\n"
     ]
    },
    {
     "name": "stdout",
     "output_type": "stream",
     "text": [
      "105.55\n",
      "France Paris drive 805 "
     ]
    },
    {
     "name": "stderr",
     "output_type": "stream",
     "text": [
      "g:\\geoff\\dropbox\\documents\\school\\phd\\projects\\code\\osmnx-repos\\osmnx\\osmnx\\core.py:112: ResourceWarning: unclosed file <_io.TextIOWrapper name='cache/458e25cf4f2b43914d2286c8fe19348e.json' mode='r' encoding='utf-8'>\n",
      "  response_json = json.load(io.open(cache_path_filename, encoding='utf-8'))\n",
      "g:\\geoff\\dropbox\\documents\\school\\phd\\projects\\code\\osmnx-repos\\osmnx\\osmnx\\core.py:112: ResourceWarning: unclosed file <_io.TextIOWrapper name='cache/50c01ca1a9a47de4ab66a7e616b07c0d.json' mode='r' encoding='utf-8'>\n",
      "  response_json = json.load(io.open(cache_path_filename, encoding='utf-8'))\n"
     ]
    },
    {
     "name": "stdout",
     "output_type": "stream",
     "text": [
      "14.37\n",
      "France Paris walk 805 "
     ]
    },
    {
     "name": "stderr",
     "output_type": "stream",
     "text": [
      "g:\\geoff\\dropbox\\documents\\school\\phd\\projects\\code\\osmnx-repos\\osmnx\\osmnx\\core.py:112: ResourceWarning: unclosed file <_io.TextIOWrapper name='cache/6193243c343338b0933eebd36520723c.json' mode='r' encoding='utf-8'>\n",
      "  response_json = json.load(io.open(cache_path_filename, encoding='utf-8'))\n",
      "g:\\geoff\\dropbox\\documents\\school\\phd\\projects\\code\\osmnx-repos\\osmnx\\osmnx\\core.py:112: ResourceWarning: unclosed file <_io.TextIOWrapper name='cache/e54ce6fceb786a6186e876faf6f3a16c.json' mode='r' encoding='utf-8'>\n",
      "  response_json = json.load(io.open(cache_path_filename, encoding='utf-8'))\n"
     ]
    },
    {
     "name": "stdout",
     "output_type": "stream",
     "text": [
      "96.03\n",
      "Germany Berlin drive 805 "
     ]
    },
    {
     "name": "stderr",
     "output_type": "stream",
     "text": [
      "g:\\geoff\\dropbox\\documents\\school\\phd\\projects\\code\\osmnx-repos\\osmnx\\osmnx\\core.py:112: ResourceWarning: unclosed file <_io.TextIOWrapper name='cache/0492d599989278126aaa6983f3a1d216.json' mode='r' encoding='utf-8'>\n",
      "  response_json = json.load(io.open(cache_path_filename, encoding='utf-8'))\n",
      "g:\\geoff\\dropbox\\documents\\school\\phd\\projects\\code\\osmnx-repos\\osmnx\\osmnx\\core.py:112: ResourceWarning: unclosed file <_io.TextIOWrapper name='cache/e0cc4fbe2f8970a0aec8955f02a4bc61.json' mode='r' encoding='utf-8'>\n",
      "  response_json = json.load(io.open(cache_path_filename, encoding='utf-8'))\n"
     ]
    },
    {
     "name": "stdout",
     "output_type": "stream",
     "text": [
      "6.34\n",
      "Germany Berlin walk 805 "
     ]
    },
    {
     "name": "stderr",
     "output_type": "stream",
     "text": [
      "g:\\geoff\\dropbox\\documents\\school\\phd\\projects\\code\\osmnx-repos\\osmnx\\osmnx\\core.py:112: ResourceWarning: unclosed file <_io.TextIOWrapper name='cache/ecbcc3091c2bc2761cdeddc18f82954b.json' mode='r' encoding='utf-8'>\n",
      "  response_json = json.load(io.open(cache_path_filename, encoding='utf-8'))\n",
      "g:\\geoff\\dropbox\\documents\\school\\phd\\projects\\code\\osmnx-repos\\osmnx\\osmnx\\core.py:112: ResourceWarning: unclosed file <_io.TextIOWrapper name='cache/cad884e84eb818b184e500fe0ce0ef50.json' mode='r' encoding='utf-8'>\n",
      "  response_json = json.load(io.open(cache_path_filename, encoding='utf-8'))\n"
     ]
    },
    {
     "name": "stdout",
     "output_type": "stream",
     "text": [
      "191.56\n",
      "India Delhi drive 805 "
     ]
    },
    {
     "name": "stderr",
     "output_type": "stream",
     "text": [
      "g:\\geoff\\dropbox\\documents\\school\\phd\\projects\\code\\osmnx-repos\\osmnx\\osmnx\\core.py:112: ResourceWarning: unclosed file <_io.TextIOWrapper name='cache/47ba4608aeee20694d95766a973afaae.json' mode='r' encoding='utf-8'>\n",
      "  response_json = json.load(io.open(cache_path_filename, encoding='utf-8'))\n",
      "g:\\geoff\\dropbox\\documents\\school\\phd\\projects\\code\\osmnx-repos\\osmnx\\osmnx\\core.py:112: ResourceWarning: unclosed file <_io.TextIOWrapper name='cache/8d203bbc8f48ee6681b3d46c8275e552.json' mode='r' encoding='utf-8'>\n",
      "  response_json = json.load(io.open(cache_path_filename, encoding='utf-8'))\n"
     ]
    },
    {
     "name": "stdout",
     "output_type": "stream",
     "text": [
      "2.03\n",
      "India Delhi walk 805 "
     ]
    },
    {
     "name": "stderr",
     "output_type": "stream",
     "text": [
      "g:\\geoff\\dropbox\\documents\\school\\phd\\projects\\code\\osmnx-repos\\osmnx\\osmnx\\core.py:112: ResourceWarning: unclosed file <_io.TextIOWrapper name='cache/b92cb49f96d38da3a1c18dd35a9ddf05.json' mode='r' encoding='utf-8'>\n",
      "  response_json = json.load(io.open(cache_path_filename, encoding='utf-8'))\n",
      "g:\\geoff\\dropbox\\documents\\school\\phd\\projects\\code\\osmnx-repos\\osmnx\\osmnx\\core.py:112: ResourceWarning: unclosed file <_io.TextIOWrapper name='cache/e6b1c0f7ea80dd174518098251bb4943.json' mode='r' encoding='utf-8'>\n",
      "  response_json = json.load(io.open(cache_path_filename, encoding='utf-8'))\n"
     ]
    },
    {
     "name": "stdout",
     "output_type": "stream",
     "text": [
      "12.01\n",
      "Indonesia Jakarta drive 805 "
     ]
    },
    {
     "name": "stderr",
     "output_type": "stream",
     "text": [
      "g:\\geoff\\dropbox\\documents\\school\\phd\\projects\\code\\osmnx-repos\\osmnx\\osmnx\\core.py:112: ResourceWarning: unclosed file <_io.TextIOWrapper name='cache/d536052f884ff9b25fc02d4c3910b23f.json' mode='r' encoding='utf-8'>\n",
      "  response_json = json.load(io.open(cache_path_filename, encoding='utf-8'))\n",
      "g:\\geoff\\dropbox\\documents\\school\\phd\\projects\\code\\osmnx-repos\\osmnx\\osmnx\\core.py:112: ResourceWarning: unclosed file <_io.TextIOWrapper name='cache/f3062e44d40a9931d1d58871eb18f7d5.json' mode='r' encoding='utf-8'>\n",
      "  response_json = json.load(io.open(cache_path_filename, encoding='utf-8'))\n"
     ]
    },
    {
     "name": "stdout",
     "output_type": "stream",
     "text": [
      "11.93\n",
      "Indonesia Jakarta walk 805 "
     ]
    },
    {
     "name": "stderr",
     "output_type": "stream",
     "text": [
      "g:\\geoff\\dropbox\\documents\\school\\phd\\projects\\code\\osmnx-repos\\osmnx\\osmnx\\core.py:112: ResourceWarning: unclosed file <_io.TextIOWrapper name='cache/4db4e63203b35a01d5b15428bd87c65d.json' mode='r' encoding='utf-8'>\n",
      "  response_json = json.load(io.open(cache_path_filename, encoding='utf-8'))\n",
      "g:\\geoff\\dropbox\\documents\\school\\phd\\projects\\code\\osmnx-repos\\osmnx\\osmnx\\core.py:112: ResourceWarning: unclosed file <_io.TextIOWrapper name='cache/873ebdc3ef9f0cd3a0c46acc2f082e3a.json' mode='r' encoding='utf-8'>\n",
      "  response_json = json.load(io.open(cache_path_filename, encoding='utf-8'))\n"
     ]
    },
    {
     "name": "stdout",
     "output_type": "stream",
     "text": [
      "25.54\n",
      "Iran Tehran drive 805 "
     ]
    },
    {
     "name": "stderr",
     "output_type": "stream",
     "text": [
      "g:\\geoff\\dropbox\\documents\\school\\phd\\projects\\code\\osmnx-repos\\osmnx\\osmnx\\core.py:112: ResourceWarning: unclosed file <_io.TextIOWrapper name='cache/ab973ffe7fbc95385137cb911500b285.json' mode='r' encoding='utf-8'>\n",
      "  response_json = json.load(io.open(cache_path_filename, encoding='utf-8'))\n",
      "g:\\geoff\\dropbox\\documents\\school\\phd\\projects\\code\\osmnx-repos\\osmnx\\osmnx\\core.py:112: ResourceWarning: unclosed file <_io.TextIOWrapper name='cache/f70e05e8a80a4eb317b09973e0f0c2c0.json' mode='r' encoding='utf-8'>\n",
      "  response_json = json.load(io.open(cache_path_filename, encoding='utf-8'))\n"
     ]
    },
    {
     "name": "stdout",
     "output_type": "stream",
     "text": [
      "43.6\n",
      "Iran Tehran walk 805 "
     ]
    },
    {
     "name": "stderr",
     "output_type": "stream",
     "text": [
      "g:\\geoff\\dropbox\\documents\\school\\phd\\projects\\code\\osmnx-repos\\osmnx\\osmnx\\core.py:112: ResourceWarning: unclosed file <_io.TextIOWrapper name='cache/7fdd51f879cb1955e00bd5fbc41b379a.json' mode='r' encoding='utf-8'>\n",
      "  response_json = json.load(io.open(cache_path_filename, encoding='utf-8'))\n",
      "g:\\geoff\\dropbox\\documents\\school\\phd\\projects\\code\\osmnx-repos\\osmnx\\osmnx\\core.py:112: ResourceWarning: unclosed file <_io.TextIOWrapper name='cache/25f1bc72f20cf2852db9aa9609e4e4ea.json' mode='r' encoding='utf-8'>\n",
      "  response_json = json.load(io.open(cache_path_filename, encoding='utf-8'))\n"
     ]
    },
    {
     "name": "stdout",
     "output_type": "stream",
     "text": [
      "107.85\n",
      "Italy Bologna drive 805 "
     ]
    },
    {
     "name": "stderr",
     "output_type": "stream",
     "text": [
      "g:\\geoff\\dropbox\\documents\\school\\phd\\projects\\code\\osmnx-repos\\osmnx\\osmnx\\core.py:112: ResourceWarning: unclosed file <_io.TextIOWrapper name='cache/ba3aeb09e53359c227b9f1eb65545b37.json' mode='r' encoding='utf-8'>\n",
      "  response_json = json.load(io.open(cache_path_filename, encoding='utf-8'))\n",
      "g:\\geoff\\dropbox\\documents\\school\\phd\\projects\\code\\osmnx-repos\\osmnx\\osmnx\\core.py:112: ResourceWarning: unclosed file <_io.TextIOWrapper name='cache/4bfb9e7116c9afdb769799255ac6ab36.json' mode='r' encoding='utf-8'>\n",
      "  response_json = json.load(io.open(cache_path_filename, encoding='utf-8'))\n"
     ]
    },
    {
     "name": "stdout",
     "output_type": "stream",
     "text": [
      "15.76\n",
      "Italy Bologna walk 805 "
     ]
    },
    {
     "name": "stderr",
     "output_type": "stream",
     "text": [
      "g:\\geoff\\dropbox\\documents\\school\\phd\\projects\\code\\osmnx-repos\\osmnx\\osmnx\\core.py:112: ResourceWarning: unclosed file <_io.TextIOWrapper name='cache/f22ca9ed30c7bf8fac515889e517bb3d.json' mode='r' encoding='utf-8'>\n",
      "  response_json = json.load(io.open(cache_path_filename, encoding='utf-8'))\n",
      "g:\\geoff\\dropbox\\documents\\school\\phd\\projects\\code\\osmnx-repos\\osmnx\\osmnx\\core.py:112: ResourceWarning: unclosed file <_io.TextIOWrapper name='cache/27a0574e6939b0ef9a36d343ac2d4bfe.json' mode='r' encoding='utf-8'>\n",
      "  response_json = json.load(io.open(cache_path_filename, encoding='utf-8'))\n"
     ]
    },
    {
     "name": "stdout",
     "output_type": "stream",
     "text": [
      "121.56\n",
      "Italy Florence drive 805 "
     ]
    },
    {
     "name": "stderr",
     "output_type": "stream",
     "text": [
      "g:\\geoff\\dropbox\\documents\\school\\phd\\projects\\code\\osmnx-repos\\osmnx\\osmnx\\core.py:112: ResourceWarning: unclosed file <_io.TextIOWrapper name='cache/aef80e6842c89090a9099028ed04130d.json' mode='r' encoding='utf-8'>\n",
      "  response_json = json.load(io.open(cache_path_filename, encoding='utf-8'))\n",
      "g:\\geoff\\dropbox\\documents\\school\\phd\\projects\\code\\osmnx-repos\\osmnx\\osmnx\\core.py:112: ResourceWarning: unclosed file <_io.TextIOWrapper name='cache/d71204b517302c7e4fa708335431ffc9.json' mode='r' encoding='utf-8'>\n",
      "  response_json = json.load(io.open(cache_path_filename, encoding='utf-8'))\n"
     ]
    },
    {
     "name": "stdout",
     "output_type": "stream",
     "text": [
      "13.24\n",
      "Italy Florence walk 805 "
     ]
    },
    {
     "name": "stderr",
     "output_type": "stream",
     "text": [
      "g:\\geoff\\dropbox\\documents\\school\\phd\\projects\\code\\osmnx-repos\\osmnx\\osmnx\\core.py:112: ResourceWarning: unclosed file <_io.TextIOWrapper name='cache/9efce9e6de60a6a71797f6f82d38e7ea.json' mode='r' encoding='utf-8'>\n",
      "  response_json = json.load(io.open(cache_path_filename, encoding='utf-8'))\n",
      "g:\\geoff\\dropbox\\documents\\school\\phd\\projects\\code\\osmnx-repos\\osmnx\\osmnx\\core.py:112: ResourceWarning: unclosed file <_io.TextIOWrapper name='cache/bfa784d22160c4a2fb61c0d0e31d96d7.json' mode='r' encoding='utf-8'>\n",
      "  response_json = json.load(io.open(cache_path_filename, encoding='utf-8'))\n"
     ]
    },
    {
     "name": "stdout",
     "output_type": "stream",
     "text": [
      "58.2\n",
      "Italy Milan drive 805 "
     ]
    },
    {
     "name": "stderr",
     "output_type": "stream",
     "text": [
      "g:\\geoff\\dropbox\\documents\\school\\phd\\projects\\code\\osmnx-repos\\osmnx\\osmnx\\core.py:112: ResourceWarning: unclosed file <_io.TextIOWrapper name='cache/fdada34da96653c1e44a466b6f6f9e7d.json' mode='r' encoding='utf-8'>\n",
      "  response_json = json.load(io.open(cache_path_filename, encoding='utf-8'))\n",
      "g:\\geoff\\dropbox\\documents\\school\\phd\\projects\\code\\osmnx-repos\\osmnx\\osmnx\\core.py:112: ResourceWarning: unclosed file <_io.TextIOWrapper name='cache/954748f1889d45cc55abbb3524928e2b.json' mode='r' encoding='utf-8'>\n",
      "  response_json = json.load(io.open(cache_path_filename, encoding='utf-8'))\n"
     ]
    },
    {
     "name": "stdout",
     "output_type": "stream",
     "text": [
      "12.78\n",
      "Italy Milan walk 805 "
     ]
    },
    {
     "name": "stderr",
     "output_type": "stream",
     "text": [
      "g:\\geoff\\dropbox\\documents\\school\\phd\\projects\\code\\osmnx-repos\\osmnx\\osmnx\\core.py:112: ResourceWarning: unclosed file <_io.TextIOWrapper name='cache/2d2a9d2f60cd3c0b416538346ce3ecd6.json' mode='r' encoding='utf-8'>\n",
      "  response_json = json.load(io.open(cache_path_filename, encoding='utf-8'))\n",
      "g:\\geoff\\dropbox\\documents\\school\\phd\\projects\\code\\osmnx-repos\\osmnx\\osmnx\\core.py:112: ResourceWarning: unclosed file <_io.TextIOWrapper name='cache/1065e1808c2cf80b5afa53045751e211.json' mode='r' encoding='utf-8'>\n",
      "  response_json = json.load(io.open(cache_path_filename, encoding='utf-8'))\n"
     ]
    },
    {
     "name": "stdout",
     "output_type": "stream",
     "text": [
      "159.32\n",
      "Japan Osaka drive 805 "
     ]
    },
    {
     "name": "stderr",
     "output_type": "stream",
     "text": [
      "g:\\geoff\\dropbox\\documents\\school\\phd\\projects\\code\\osmnx-repos\\osmnx\\osmnx\\core.py:112: ResourceWarning: unclosed file <_io.TextIOWrapper name='cache/be9cc5e44cf20b36048fb43af5f61e87.json' mode='r' encoding='utf-8'>\n",
      "  response_json = json.load(io.open(cache_path_filename, encoding='utf-8'))\n",
      "g:\\geoff\\dropbox\\documents\\school\\phd\\projects\\code\\osmnx-repos\\osmnx\\osmnx\\core.py:112: ResourceWarning: unclosed file <_io.TextIOWrapper name='cache/354dd9adbbe966d0632cfa2d9a5196f7.json' mode='r' encoding='utf-8'>\n",
      "  response_json = json.load(io.open(cache_path_filename, encoding='utf-8'))\n"
     ]
    },
    {
     "name": "stdout",
     "output_type": "stream",
     "text": [
      "36.04\n",
      "Japan Osaka walk 805 "
     ]
    },
    {
     "name": "stderr",
     "output_type": "stream",
     "text": [
      "g:\\geoff\\dropbox\\documents\\school\\phd\\projects\\code\\osmnx-repos\\osmnx\\osmnx\\core.py:112: ResourceWarning: unclosed file <_io.TextIOWrapper name='cache/3fd88ad4a98d91970d2dbfa26ed8f9e3.json' mode='r' encoding='utf-8'>\n",
      "  response_json = json.load(io.open(cache_path_filename, encoding='utf-8'))\n",
      "g:\\geoff\\dropbox\\documents\\school\\phd\\projects\\code\\osmnx-repos\\osmnx\\osmnx\\core.py:112: ResourceWarning: unclosed file <_io.TextIOWrapper name='cache/b99f0783eea1c01356d624c894bd6446.json' mode='r' encoding='utf-8'>\n",
      "  response_json = json.load(io.open(cache_path_filename, encoding='utf-8'))\n"
     ]
    },
    {
     "name": "stdout",
     "output_type": "stream",
     "text": [
      "207.2\n",
      "Japan Tokyo drive 805 "
     ]
    },
    {
     "name": "stderr",
     "output_type": "stream",
     "text": [
      "g:\\geoff\\dropbox\\documents\\school\\phd\\projects\\code\\osmnx-repos\\osmnx\\osmnx\\core.py:112: ResourceWarning: unclosed file <_io.TextIOWrapper name='cache/6bc54ef9b961a4efb5fe53f80f7e85da.json' mode='r' encoding='utf-8'>\n",
      "  response_json = json.load(io.open(cache_path_filename, encoding='utf-8'))\n",
      "g:\\geoff\\dropbox\\documents\\school\\phd\\projects\\code\\osmnx-repos\\osmnx\\osmnx\\core.py:112: ResourceWarning: unclosed file <_io.TextIOWrapper name='cache/f787aa6f9269404fd6de887d1f925651.json' mode='r' encoding='utf-8'>\n",
      "  response_json = json.load(io.open(cache_path_filename, encoding='utf-8'))\n"
     ]
    },
    {
     "name": "stdout",
     "output_type": "stream",
     "text": [
      "64.11\n",
      "Japan Tokyo walk 805 "
     ]
    },
    {
     "name": "stderr",
     "output_type": "stream",
     "text": [
      "g:\\geoff\\dropbox\\documents\\school\\phd\\projects\\code\\osmnx-repos\\osmnx\\osmnx\\core.py:112: ResourceWarning: unclosed file <_io.TextIOWrapper name='cache/4b24e5b39e457d0120f5f993b8391411.json' mode='r' encoding='utf-8'>\n",
      "  response_json = json.load(io.open(cache_path_filename, encoding='utf-8'))\n",
      "g:\\geoff\\dropbox\\documents\\school\\phd\\projects\\code\\osmnx-repos\\osmnx\\osmnx\\core.py:112: ResourceWarning: unclosed file <_io.TextIOWrapper name='cache/605be3bb8ae56c326b8f09fa5a18bd2d.json' mode='r' encoding='utf-8'>\n",
      "  response_json = json.load(io.open(cache_path_filename, encoding='utf-8'))\n"
     ]
    },
    {
     "name": "stdout",
     "output_type": "stream",
     "text": [
      "152.08\n",
      "Kenya Nairobi drive 805 "
     ]
    },
    {
     "name": "stderr",
     "output_type": "stream",
     "text": [
      "g:\\geoff\\dropbox\\documents\\school\\phd\\projects\\code\\osmnx-repos\\osmnx\\osmnx\\core.py:112: ResourceWarning: unclosed file <_io.TextIOWrapper name='cache/b1e26a2e4e2aa464b6098813715be02a.json' mode='r' encoding='utf-8'>\n",
      "  response_json = json.load(io.open(cache_path_filename, encoding='utf-8'))\n",
      "g:\\geoff\\dropbox\\documents\\school\\phd\\projects\\code\\osmnx-repos\\osmnx\\osmnx\\core.py:112: ResourceWarning: unclosed file <_io.TextIOWrapper name='cache/eb0032b3a7c80a6b038f682e3a851083.json' mode='r' encoding='utf-8'>\n",
      "  response_json = json.load(io.open(cache_path_filename, encoding='utf-8'))\n"
     ]
    },
    {
     "name": "stdout",
     "output_type": "stream",
     "text": [
      "10.88\n",
      "Kenya Nairobi walk 805 "
     ]
    },
    {
     "name": "stderr",
     "output_type": "stream",
     "text": [
      "g:\\geoff\\dropbox\\documents\\school\\phd\\projects\\code\\osmnx-repos\\osmnx\\osmnx\\core.py:112: ResourceWarning: unclosed file <_io.TextIOWrapper name='cache/62510a0574ae555d6c9f1294bde0423c.json' mode='r' encoding='utf-8'>\n",
      "  response_json = json.load(io.open(cache_path_filename, encoding='utf-8'))\n",
      "g:\\geoff\\dropbox\\documents\\school\\phd\\projects\\code\\osmnx-repos\\osmnx\\osmnx\\core.py:112: ResourceWarning: unclosed file <_io.TextIOWrapper name='cache/70c19651becb83f93c8e1a80aa1a8e92.json' mode='r' encoding='utf-8'>\n",
      "  response_json = json.load(io.open(cache_path_filename, encoding='utf-8'))\n"
     ]
    },
    {
     "name": "stdout",
     "output_type": "stream",
     "text": [
      "19.14\n",
      "Mexico Mexico City drive 805 "
     ]
    },
    {
     "name": "stderr",
     "output_type": "stream",
     "text": [
      "g:\\geoff\\dropbox\\documents\\school\\phd\\projects\\code\\osmnx-repos\\osmnx\\osmnx\\core.py:112: ResourceWarning: unclosed file <_io.TextIOWrapper name='cache/94b8f445d255106b3d0c1d33aea17a43.json' mode='r' encoding='utf-8'>\n",
      "  response_json = json.load(io.open(cache_path_filename, encoding='utf-8'))\n",
      "g:\\geoff\\dropbox\\documents\\school\\phd\\projects\\code\\osmnx-repos\\osmnx\\osmnx\\core.py:112: ResourceWarning: unclosed file <_io.TextIOWrapper name='cache/0c717cf066e04925221c2b5c6e969eb8.json' mode='r' encoding='utf-8'>\n",
      "  response_json = json.load(io.open(cache_path_filename, encoding='utf-8'))\n"
     ]
    },
    {
     "name": "stdout",
     "output_type": "stream",
     "text": [
      "20.22\n",
      "Mexico Mexico City walk 805 "
     ]
    },
    {
     "name": "stderr",
     "output_type": "stream",
     "text": [
      "g:\\geoff\\dropbox\\documents\\school\\phd\\projects\\code\\osmnx-repos\\osmnx\\osmnx\\core.py:112: ResourceWarning: unclosed file <_io.TextIOWrapper name='cache/a9b63a8c381baab893fca0fa40921ec5.json' mode='r' encoding='utf-8'>\n",
      "  response_json = json.load(io.open(cache_path_filename, encoding='utf-8'))\n",
      "g:\\geoff\\dropbox\\documents\\school\\phd\\projects\\code\\osmnx-repos\\osmnx\\osmnx\\core.py:112: ResourceWarning: unclosed file <_io.TextIOWrapper name='cache/4815cac8d4b98902bef42d10a463c47d.json' mode='r' encoding='utf-8'>\n",
      "  response_json = json.load(io.open(cache_path_filename, encoding='utf-8'))\n"
     ]
    },
    {
     "name": "stdout",
     "output_type": "stream",
     "text": [
      "29.88\n",
      "Nigeria Lagos drive 805 "
     ]
    },
    {
     "name": "stderr",
     "output_type": "stream",
     "text": [
      "g:\\geoff\\dropbox\\documents\\school\\phd\\projects\\code\\osmnx-repos\\osmnx\\osmnx\\core.py:112: ResourceWarning: unclosed file <_io.TextIOWrapper name='cache/4abef9f1c426b66725ee7087a61f80d4.json' mode='r' encoding='utf-8'>\n",
      "  response_json = json.load(io.open(cache_path_filename, encoding='utf-8'))\n",
      "g:\\geoff\\dropbox\\documents\\school\\phd\\projects\\code\\osmnx-repos\\osmnx\\osmnx\\core.py:112: ResourceWarning: unclosed file <_io.TextIOWrapper name='cache/2f7d24df10667374b73c612cac29cbfd.json' mode='r' encoding='utf-8'>\n",
      "  response_json = json.load(io.open(cache_path_filename, encoding='utf-8'))\n"
     ]
    },
    {
     "name": "stdout",
     "output_type": "stream",
     "text": [
      "15.43\n",
      "Nigeria Lagos walk 805 "
     ]
    },
    {
     "name": "stderr",
     "output_type": "stream",
     "text": [
      "g:\\geoff\\dropbox\\documents\\school\\phd\\projects\\code\\osmnx-repos\\osmnx\\osmnx\\core.py:112: ResourceWarning: unclosed file <_io.TextIOWrapper name='cache/5ad535cf8da544154ea02e87e588303e.json' mode='r' encoding='utf-8'>\n",
      "  response_json = json.load(io.open(cache_path_filename, encoding='utf-8'))\n",
      "g:\\geoff\\dropbox\\documents\\school\\phd\\projects\\code\\osmnx-repos\\osmnx\\osmnx\\core.py:112: ResourceWarning: unclosed file <_io.TextIOWrapper name='cache/552cb0e9fa039646abab4921360f0e32.json' mode='r' encoding='utf-8'>\n",
      "  response_json = json.load(io.open(cache_path_filename, encoding='utf-8'))\n"
     ]
    },
    {
     "name": "stdout",
     "output_type": "stream",
     "text": [
      "14.19\n",
      "Peru Lima drive 805 "
     ]
    },
    {
     "name": "stderr",
     "output_type": "stream",
     "text": [
      "g:\\geoff\\dropbox\\documents\\school\\phd\\projects\\code\\osmnx-repos\\osmnx\\osmnx\\core.py:112: ResourceWarning: unclosed file <_io.TextIOWrapper name='cache/7405f6a547c9f490c2de8d8a272e43c9.json' mode='r' encoding='utf-8'>\n",
      "  response_json = json.load(io.open(cache_path_filename, encoding='utf-8'))\n",
      "g:\\geoff\\dropbox\\documents\\school\\phd\\projects\\code\\osmnx-repos\\osmnx\\osmnx\\core.py:112: ResourceWarning: unclosed file <_io.TextIOWrapper name='cache/e56d1ec4e06511ebbd0b6c86239623a1.json' mode='r' encoding='utf-8'>\n",
      "  response_json = json.load(io.open(cache_path_filename, encoding='utf-8'))\n"
     ]
    },
    {
     "name": "stdout",
     "output_type": "stream",
     "text": [
      "15.75\n",
      "Peru Lima walk 805 "
     ]
    },
    {
     "name": "stderr",
     "output_type": "stream",
     "text": [
      "g:\\geoff\\dropbox\\documents\\school\\phd\\projects\\code\\osmnx-repos\\osmnx\\osmnx\\core.py:112: ResourceWarning: unclosed file <_io.TextIOWrapper name='cache/f0553aa0497d517bd66ecb2db203feff.json' mode='r' encoding='utf-8'>\n",
      "  response_json = json.load(io.open(cache_path_filename, encoding='utf-8'))\n",
      "g:\\geoff\\dropbox\\documents\\school\\phd\\projects\\code\\osmnx-repos\\osmnx\\osmnx\\core.py:112: ResourceWarning: unclosed file <_io.TextIOWrapper name='cache/1310b22a920b2d85c50ade433a02e155.json' mode='r' encoding='utf-8'>\n",
      "  response_json = json.load(io.open(cache_path_filename, encoding='utf-8'))\n"
     ]
    },
    {
     "name": "stdout",
     "output_type": "stream",
     "text": [
      "44.14\n",
      "Philippines Manila drive 805 "
     ]
    },
    {
     "name": "stderr",
     "output_type": "stream",
     "text": [
      "g:\\geoff\\dropbox\\documents\\school\\phd\\projects\\code\\osmnx-repos\\osmnx\\osmnx\\core.py:112: ResourceWarning: unclosed file <_io.TextIOWrapper name='cache/10469c105b9116f9222f7ddcc25977fa.json' mode='r' encoding='utf-8'>\n",
      "  response_json = json.load(io.open(cache_path_filename, encoding='utf-8'))\n",
      "g:\\geoff\\dropbox\\documents\\school\\phd\\projects\\code\\osmnx-repos\\osmnx\\osmnx\\core.py:112: ResourceWarning: unclosed file <_io.TextIOWrapper name='cache/b8663f40ae7af3b98bbdace7aecbfe69.json' mode='r' encoding='utf-8'>\n",
      "  response_json = json.load(io.open(cache_path_filename, encoding='utf-8'))\n"
     ]
    },
    {
     "name": "stdout",
     "output_type": "stream",
     "text": [
      "13.02\n",
      "Philippines Manila walk 805 "
     ]
    },
    {
     "name": "stderr",
     "output_type": "stream",
     "text": [
      "g:\\geoff\\dropbox\\documents\\school\\phd\\projects\\code\\osmnx-repos\\osmnx\\osmnx\\core.py:112: ResourceWarning: unclosed file <_io.TextIOWrapper name='cache/e1af2e6247f38e4ffbe578c3c1cf3a2c.json' mode='r' encoding='utf-8'>\n",
      "  response_json = json.load(io.open(cache_path_filename, encoding='utf-8'))\n",
      "g:\\geoff\\dropbox\\documents\\school\\phd\\projects\\code\\osmnx-repos\\osmnx\\osmnx\\core.py:112: ResourceWarning: unclosed file <_io.TextIOWrapper name='cache/096e8a2a3330c5454a8d160c5c37b676.json' mode='r' encoding='utf-8'>\n",
      "  response_json = json.load(io.open(cache_path_filename, encoding='utf-8'))\n"
     ]
    },
    {
     "name": "stdout",
     "output_type": "stream",
     "text": [
      "38.08\n",
      "Russia Moscow drive 805 "
     ]
    },
    {
     "name": "stderr",
     "output_type": "stream",
     "text": [
      "g:\\geoff\\dropbox\\documents\\school\\phd\\projects\\code\\osmnx-repos\\osmnx\\osmnx\\core.py:112: ResourceWarning: unclosed file <_io.TextIOWrapper name='cache/08c0eb6fada7ec634c63c70be555577f.json' mode='r' encoding='utf-8'>\n",
      "  response_json = json.load(io.open(cache_path_filename, encoding='utf-8'))\n",
      "g:\\geoff\\dropbox\\documents\\school\\phd\\projects\\code\\osmnx-repos\\osmnx\\osmnx\\core.py:112: ResourceWarning: unclosed file <_io.TextIOWrapper name='cache/248378b4a9c38df45217bf1211927730.json' mode='r' encoding='utf-8'>\n",
      "  response_json = json.load(io.open(cache_path_filename, encoding='utf-8'))\n"
     ]
    },
    {
     "name": "stdout",
     "output_type": "stream",
     "text": [
      "2.02\n",
      "Russia Moscow walk 805 "
     ]
    },
    {
     "name": "stderr",
     "output_type": "stream",
     "text": [
      "g:\\geoff\\dropbox\\documents\\school\\phd\\projects\\code\\osmnx-repos\\osmnx\\osmnx\\core.py:112: ResourceWarning: unclosed file <_io.TextIOWrapper name='cache/723787ccc87880ea8928209065584e45.json' mode='r' encoding='utf-8'>\n",
      "  response_json = json.load(io.open(cache_path_filename, encoding='utf-8'))\n",
      "g:\\geoff\\dropbox\\documents\\school\\phd\\projects\\code\\osmnx-repos\\osmnx\\osmnx\\core.py:112: ResourceWarning: unclosed file <_io.TextIOWrapper name='cache/1deb2186d08e5cbe22382e8d1e7a0850.json' mode='r' encoding='utf-8'>\n",
      "  response_json = json.load(io.open(cache_path_filename, encoding='utf-8'))\n"
     ]
    },
    {
     "name": "stdout",
     "output_type": "stream",
     "text": [
      "66.36\n",
      "Singapore Singapore drive 805 "
     ]
    },
    {
     "name": "stderr",
     "output_type": "stream",
     "text": [
      "g:\\geoff\\dropbox\\documents\\school\\phd\\projects\\code\\osmnx-repos\\osmnx\\osmnx\\core.py:112: ResourceWarning: unclosed file <_io.TextIOWrapper name='cache/4f623dd1c096d6eac6209e2d3bd13adb.json' mode='r' encoding='utf-8'>\n",
      "  response_json = json.load(io.open(cache_path_filename, encoding='utf-8'))\n",
      "g:\\geoff\\dropbox\\documents\\school\\phd\\projects\\code\\osmnx-repos\\osmnx\\osmnx\\core.py:112: ResourceWarning: unclosed file <_io.TextIOWrapper name='cache/b5277db6f880929e731ceb169279c206.json' mode='r' encoding='utf-8'>\n",
      "  response_json = json.load(io.open(cache_path_filename, encoding='utf-8'))\n"
     ]
    },
    {
     "name": "stdout",
     "output_type": "stream",
     "text": [
      "4.69\n",
      "Singapore Singapore walk 805 "
     ]
    },
    {
     "name": "stderr",
     "output_type": "stream",
     "text": [
      "g:\\geoff\\dropbox\\documents\\school\\phd\\projects\\code\\osmnx-repos\\osmnx\\osmnx\\core.py:112: ResourceWarning: unclosed file <_io.TextIOWrapper name='cache/fb24482574761c26a9bfbd67f1227d61.json' mode='r' encoding='utf-8'>\n",
      "  response_json = json.load(io.open(cache_path_filename, encoding='utf-8'))\n",
      "g:\\geoff\\dropbox\\documents\\school\\phd\\projects\\code\\osmnx-repos\\osmnx\\osmnx\\core.py:112: ResourceWarning: unclosed file <_io.TextIOWrapper name='cache/59334659fd4ebe472c43458935b8fb58.json' mode='r' encoding='utf-8'>\n",
      "  response_json = json.load(io.open(cache_path_filename, encoding='utf-8'))\n"
     ]
    },
    {
     "name": "stdout",
     "output_type": "stream",
     "text": [
      "96.56\n",
      "Somalia Mogadishu drive 805 "
     ]
    },
    {
     "name": "stderr",
     "output_type": "stream",
     "text": [
      "g:\\geoff\\dropbox\\documents\\school\\phd\\projects\\code\\osmnx-repos\\osmnx\\osmnx\\core.py:112: ResourceWarning: unclosed file <_io.TextIOWrapper name='cache/45528b12bcbcb3a2b2b02510ade16fb9.json' mode='r' encoding='utf-8'>\n",
      "  response_json = json.load(io.open(cache_path_filename, encoding='utf-8'))\n",
      "g:\\geoff\\dropbox\\documents\\school\\phd\\projects\\code\\osmnx-repos\\osmnx\\osmnx\\core.py:112: ResourceWarning: unclosed file <_io.TextIOWrapper name='cache/0a7091cd15dd1ef45a51674d0540d973.json' mode='r' encoding='utf-8'>\n",
      "  response_json = json.load(io.open(cache_path_filename, encoding='utf-8'))\n"
     ]
    },
    {
     "name": "stdout",
     "output_type": "stream",
     "text": [
      "228.12\n",
      "Somalia Mogadishu walk 805 "
     ]
    },
    {
     "name": "stderr",
     "output_type": "stream",
     "text": [
      "g:\\geoff\\dropbox\\documents\\school\\phd\\projects\\code\\osmnx-repos\\osmnx\\osmnx\\core.py:112: ResourceWarning: unclosed file <_io.TextIOWrapper name='cache/734ab1fb8f040e192080978b02d52e94.json' mode='r' encoding='utf-8'>\n",
      "  response_json = json.load(io.open(cache_path_filename, encoding='utf-8'))\n",
      "g:\\geoff\\dropbox\\documents\\school\\phd\\projects\\code\\osmnx-repos\\osmnx\\osmnx\\core.py:112: ResourceWarning: unclosed file <_io.TextIOWrapper name='cache/f9f642097a4c277b57ea32f89dd31178.json' mode='r' encoding='utf-8'>\n",
      "  response_json = json.load(io.open(cache_path_filename, encoding='utf-8'))\n"
     ]
    },
    {
     "name": "stdout",
     "output_type": "stream",
     "text": [
      "234.11\n",
      "South Africa Johannesburg drive 805 "
     ]
    },
    {
     "name": "stderr",
     "output_type": "stream",
     "text": [
      "g:\\geoff\\dropbox\\documents\\school\\phd\\projects\\code\\osmnx-repos\\osmnx\\osmnx\\core.py:112: ResourceWarning: unclosed file <_io.TextIOWrapper name='cache/dc02723da4853ae293b7aa9f11c9db77.json' mode='r' encoding='utf-8'>\n",
      "  response_json = json.load(io.open(cache_path_filename, encoding='utf-8'))\n",
      "g:\\geoff\\dropbox\\documents\\school\\phd\\projects\\code\\osmnx-repos\\osmnx\\osmnx\\core.py:112: ResourceWarning: unclosed file <_io.TextIOWrapper name='cache/4f2e531e5df7f2e717eb55536d6032c8.json' mode='r' encoding='utf-8'>\n",
      "  response_json = json.load(io.open(cache_path_filename, encoding='utf-8'))\n"
     ]
    },
    {
     "name": "stdout",
     "output_type": "stream",
     "text": [
      "13.48\n",
      "South Africa Johannesburg walk 805 "
     ]
    },
    {
     "name": "stderr",
     "output_type": "stream",
     "text": [
      "g:\\geoff\\dropbox\\documents\\school\\phd\\projects\\code\\osmnx-repos\\osmnx\\osmnx\\core.py:112: ResourceWarning: unclosed file <_io.TextIOWrapper name='cache/984cd26a27f8a3c05f981cf71a41cec0.json' mode='r' encoding='utf-8'>\n",
      "  response_json = json.load(io.open(cache_path_filename, encoding='utf-8'))\n",
      "g:\\geoff\\dropbox\\documents\\school\\phd\\projects\\code\\osmnx-repos\\osmnx\\osmnx\\core.py:112: ResourceWarning: unclosed file <_io.TextIOWrapper name='cache/d9069abbe8f5c6f7ac674380c0480a38.json' mode='r' encoding='utf-8'>\n",
      "  response_json = json.load(io.open(cache_path_filename, encoding='utf-8'))\n"
     ]
    },
    {
     "name": "stdout",
     "output_type": "stream",
     "text": [
      "14.48\n",
      "Spain Barcelona drive 805 "
     ]
    },
    {
     "name": "stderr",
     "output_type": "stream",
     "text": [
      "g:\\geoff\\dropbox\\documents\\school\\phd\\projects\\code\\osmnx-repos\\osmnx\\osmnx\\core.py:112: ResourceWarning: unclosed file <_io.TextIOWrapper name='cache/84814bc4bc5b1721799960c6dbac6cbb.json' mode='r' encoding='utf-8'>\n",
      "  response_json = json.load(io.open(cache_path_filename, encoding='utf-8'))\n",
      "g:\\geoff\\dropbox\\documents\\school\\phd\\projects\\code\\osmnx-repos\\osmnx\\osmnx\\core.py:112: ResourceWarning: unclosed file <_io.TextIOWrapper name='cache/94fdc3b82721f9d3674f83129a9e1d79.json' mode='r' encoding='utf-8'>\n",
      "  response_json = json.load(io.open(cache_path_filename, encoding='utf-8'))\n"
     ]
    },
    {
     "name": "stdout",
     "output_type": "stream",
     "text": [
      "7.68\n",
      "Spain Barcelona walk 805 "
     ]
    },
    {
     "name": "stderr",
     "output_type": "stream",
     "text": [
      "g:\\geoff\\dropbox\\documents\\school\\phd\\projects\\code\\osmnx-repos\\osmnx\\osmnx\\core.py:112: ResourceWarning: unclosed file <_io.TextIOWrapper name='cache/ac80b3fa9af7bd1d5be517f63b930e2e.json' mode='r' encoding='utf-8'>\n",
      "  response_json = json.load(io.open(cache_path_filename, encoding='utf-8'))\n",
      "g:\\geoff\\dropbox\\documents\\school\\phd\\projects\\code\\osmnx-repos\\osmnx\\osmnx\\core.py:112: ResourceWarning: unclosed file <_io.TextIOWrapper name='cache/2eb9518412ba4d32aebe471c936fbb82.json' mode='r' encoding='utf-8'>\n",
      "  response_json = json.load(io.open(cache_path_filename, encoding='utf-8'))\n"
     ]
    },
    {
     "name": "stdout",
     "output_type": "stream",
     "text": [
      "131.17\n",
      "Switzerland Geneva drive 805 "
     ]
    },
    {
     "name": "stderr",
     "output_type": "stream",
     "text": [
      "g:\\geoff\\dropbox\\documents\\school\\phd\\projects\\code\\osmnx-repos\\osmnx\\osmnx\\core.py:112: ResourceWarning: unclosed file <_io.TextIOWrapper name='cache/61a3330311369b849c459ca9b9bab0a6.json' mode='r' encoding='utf-8'>\n",
      "  response_json = json.load(io.open(cache_path_filename, encoding='utf-8'))\n",
      "g:\\geoff\\dropbox\\documents\\school\\phd\\projects\\code\\osmnx-repos\\osmnx\\osmnx\\core.py:112: ResourceWarning: unclosed file <_io.TextIOWrapper name='cache/3d70205f90461271207572083961c9cc.json' mode='r' encoding='utf-8'>\n",
      "  response_json = json.load(io.open(cache_path_filename, encoding='utf-8'))\n"
     ]
    },
    {
     "name": "stdout",
     "output_type": "stream",
     "text": [
      "30.98\n",
      "Switzerland Geneva walk 805 "
     ]
    },
    {
     "name": "stderr",
     "output_type": "stream",
     "text": [
      "g:\\geoff\\dropbox\\documents\\school\\phd\\projects\\code\\osmnx-repos\\osmnx\\osmnx\\core.py:112: ResourceWarning: unclosed file <_io.TextIOWrapper name='cache/422a1aca32e8fc43f6df48687d2501e8.json' mode='r' encoding='utf-8'>\n",
      "  response_json = json.load(io.open(cache_path_filename, encoding='utf-8'))\n",
      "g:\\geoff\\dropbox\\documents\\school\\phd\\projects\\code\\osmnx-repos\\osmnx\\osmnx\\core.py:112: ResourceWarning: unclosed file <_io.TextIOWrapper name='cache/203cb01d53132b1adaf06a75b70f01c7.json' mode='r' encoding='utf-8'>\n",
      "  response_json = json.load(io.open(cache_path_filename, encoding='utf-8'))\n"
     ]
    },
    {
     "name": "stdout",
     "output_type": "stream",
     "text": [
      "426.94\n",
      "Thailand Bangkok drive 805 "
     ]
    },
    {
     "name": "stderr",
     "output_type": "stream",
     "text": [
      "g:\\geoff\\dropbox\\documents\\school\\phd\\projects\\code\\osmnx-repos\\osmnx\\osmnx\\core.py:112: ResourceWarning: unclosed file <_io.TextIOWrapper name='cache/90f4be8001855854f26509066c26232c.json' mode='r' encoding='utf-8'>\n",
      "  response_json = json.load(io.open(cache_path_filename, encoding='utf-8'))\n",
      "g:\\geoff\\dropbox\\documents\\school\\phd\\projects\\code\\osmnx-repos\\osmnx\\osmnx\\core.py:112: ResourceWarning: unclosed file <_io.TextIOWrapper name='cache/2d3430a46e13316982736806e9410325.json' mode='r' encoding='utf-8'>\n",
      "  response_json = json.load(io.open(cache_path_filename, encoding='utf-8'))\n"
     ]
    },
    {
     "name": "stdout",
     "output_type": "stream",
     "text": [
      "21.67\n",
      "Thailand Bangkok walk 805 "
     ]
    },
    {
     "name": "stderr",
     "output_type": "stream",
     "text": [
      "g:\\geoff\\dropbox\\documents\\school\\phd\\projects\\code\\osmnx-repos\\osmnx\\osmnx\\core.py:112: ResourceWarning: unclosed file <_io.TextIOWrapper name='cache/cad3dbf6dfabeb58f6bd333fb74d5981.json' mode='r' encoding='utf-8'>\n",
      "  response_json = json.load(io.open(cache_path_filename, encoding='utf-8'))\n",
      "g:\\geoff\\dropbox\\documents\\school\\phd\\projects\\code\\osmnx-repos\\osmnx\\osmnx\\core.py:112: ResourceWarning: unclosed file <_io.TextIOWrapper name='cache/160bc9fc8a7e046f19569147a3c61d9d.json' mode='r' encoding='utf-8'>\n",
      "  response_json = json.load(io.open(cache_path_filename, encoding='utf-8'))\n"
     ]
    },
    {
     "name": "stdout",
     "output_type": "stream",
     "text": [
      "42.73\n",
      "Turkey Istanbul drive 805 "
     ]
    },
    {
     "name": "stderr",
     "output_type": "stream",
     "text": [
      "g:\\geoff\\dropbox\\documents\\school\\phd\\projects\\code\\osmnx-repos\\osmnx\\osmnx\\core.py:112: ResourceWarning: unclosed file <_io.TextIOWrapper name='cache/e2a408cc5c8bbd803f3bd633fe210e82.json' mode='r' encoding='utf-8'>\n",
      "  response_json = json.load(io.open(cache_path_filename, encoding='utf-8'))\n",
      "g:\\geoff\\dropbox\\documents\\school\\phd\\projects\\code\\osmnx-repos\\osmnx\\osmnx\\core.py:112: ResourceWarning: unclosed file <_io.TextIOWrapper name='cache/f5b2f4262f4ad61f2caf3faafa2ada84.json' mode='r' encoding='utf-8'>\n",
      "  response_json = json.load(io.open(cache_path_filename, encoding='utf-8'))\n"
     ]
    },
    {
     "name": "stdout",
     "output_type": "stream",
     "text": [
      "37.27\n",
      "Turkey Istanbul walk 805 "
     ]
    },
    {
     "name": "stderr",
     "output_type": "stream",
     "text": [
      "g:\\geoff\\dropbox\\documents\\school\\phd\\projects\\code\\osmnx-repos\\osmnx\\osmnx\\core.py:112: ResourceWarning: unclosed file <_io.TextIOWrapper name='cache/06f660b8091992b63c0e7ab63579e46d.json' mode='r' encoding='utf-8'>\n",
      "  response_json = json.load(io.open(cache_path_filename, encoding='utf-8'))\n",
      "g:\\geoff\\dropbox\\documents\\school\\phd\\projects\\code\\osmnx-repos\\osmnx\\osmnx\\core.py:112: ResourceWarning: unclosed file <_io.TextIOWrapper name='cache/ad460b519b24cf6123553eb4dd20d569.json' mode='r' encoding='utf-8'>\n",
      "  response_json = json.load(io.open(cache_path_filename, encoding='utf-8'))\n"
     ]
    },
    {
     "name": "stdout",
     "output_type": "stream",
     "text": [
      "124.15\n",
      "UAE Dubai drive 805 "
     ]
    },
    {
     "name": "stderr",
     "output_type": "stream",
     "text": [
      "g:\\geoff\\dropbox\\documents\\school\\phd\\projects\\code\\osmnx-repos\\osmnx\\osmnx\\core.py:112: ResourceWarning: unclosed file <_io.TextIOWrapper name='cache/3b5195f9f9e5d0dd8180e36d6799519c.json' mode='r' encoding='utf-8'>\n",
      "  response_json = json.load(io.open(cache_path_filename, encoding='utf-8'))\n",
      "g:\\geoff\\dropbox\\documents\\school\\phd\\projects\\code\\osmnx-repos\\osmnx\\osmnx\\core.py:112: ResourceWarning: unclosed file <_io.TextIOWrapper name='cache/c7df283bf93e6e8d48ba490263e615da.json' mode='r' encoding='utf-8'>\n",
      "  response_json = json.load(io.open(cache_path_filename, encoding='utf-8'))\n"
     ]
    },
    {
     "name": "stdout",
     "output_type": "stream",
     "text": [
      "5.93\n",
      "UAE Dubai walk 805 "
     ]
    },
    {
     "name": "stderr",
     "output_type": "stream",
     "text": [
      "g:\\geoff\\dropbox\\documents\\school\\phd\\projects\\code\\osmnx-repos\\osmnx\\osmnx\\core.py:112: ResourceWarning: unclosed file <_io.TextIOWrapper name='cache/82acfb15663b8ff48da31234e4964d2d.json' mode='r' encoding='utf-8'>\n",
      "  response_json = json.load(io.open(cache_path_filename, encoding='utf-8'))\n",
      "g:\\geoff\\dropbox\\documents\\school\\phd\\projects\\code\\osmnx-repos\\osmnx\\osmnx\\core.py:112: ResourceWarning: unclosed file <_io.TextIOWrapper name='cache/a18479b76859c0acfe5018e75cd3ce0d.json' mode='r' encoding='utf-8'>\n",
      "  response_json = json.load(io.open(cache_path_filename, encoding='utf-8'))\n"
     ]
    },
    {
     "name": "stdout",
     "output_type": "stream",
     "text": [
      "14.22\n",
      "UK Edinburgh drive 805 "
     ]
    },
    {
     "name": "stderr",
     "output_type": "stream",
     "text": [
      "g:\\geoff\\dropbox\\documents\\school\\phd\\projects\\code\\osmnx-repos\\osmnx\\osmnx\\core.py:112: ResourceWarning: unclosed file <_io.TextIOWrapper name='cache/5a14228d4ca7cea4e7db4823229d683e.json' mode='r' encoding='utf-8'>\n",
      "  response_json = json.load(io.open(cache_path_filename, encoding='utf-8'))\n",
      "g:\\geoff\\dropbox\\documents\\school\\phd\\projects\\code\\osmnx-repos\\osmnx\\osmnx\\core.py:112: ResourceWarning: unclosed file <_io.TextIOWrapper name='cache/00d3b655d7a04a22811136280362beb7.json' mode='r' encoding='utf-8'>\n",
      "  response_json = json.load(io.open(cache_path_filename, encoding='utf-8'))\n"
     ]
    },
    {
     "name": "stdout",
     "output_type": "stream",
     "text": [
      "9.75\n",
      "UK Edinburgh walk 805 "
     ]
    },
    {
     "name": "stderr",
     "output_type": "stream",
     "text": [
      "g:\\geoff\\dropbox\\documents\\school\\phd\\projects\\code\\osmnx-repos\\osmnx\\osmnx\\core.py:112: ResourceWarning: unclosed file <_io.TextIOWrapper name='cache/a8c740c54e6b835259ddfd5b552df47a.json' mode='r' encoding='utf-8'>\n",
      "  response_json = json.load(io.open(cache_path_filename, encoding='utf-8'))\n",
      "g:\\geoff\\dropbox\\documents\\school\\phd\\projects\\code\\osmnx-repos\\osmnx\\osmnx\\core.py:112: ResourceWarning: unclosed file <_io.TextIOWrapper name='cache/49f0c16734c4444bcd078b2f02163410.json' mode='r' encoding='utf-8'>\n",
      "  response_json = json.load(io.open(cache_path_filename, encoding='utf-8'))\n"
     ]
    },
    {
     "name": "stdout",
     "output_type": "stream",
     "text": [
      "272.1\n",
      "UK London drive 805 "
     ]
    },
    {
     "name": "stderr",
     "output_type": "stream",
     "text": [
      "g:\\geoff\\dropbox\\documents\\school\\phd\\projects\\code\\osmnx-repos\\osmnx\\osmnx\\core.py:112: ResourceWarning: unclosed file <_io.TextIOWrapper name='cache/510bed7bfcd76fa65ea573cc426518f8.json' mode='r' encoding='utf-8'>\n",
      "  response_json = json.load(io.open(cache_path_filename, encoding='utf-8'))\n",
      "g:\\geoff\\dropbox\\documents\\school\\phd\\projects\\code\\osmnx-repos\\osmnx\\osmnx\\core.py:112: ResourceWarning: unclosed file <_io.TextIOWrapper name='cache/9f9eaddc4c73378d353473f265a1b070.json' mode='r' encoding='utf-8'>\n",
      "  response_json = json.load(io.open(cache_path_filename, encoding='utf-8'))\n"
     ]
    },
    {
     "name": "stdout",
     "output_type": "stream",
     "text": [
      "24.56\n",
      "UK London walk 805 "
     ]
    },
    {
     "name": "stderr",
     "output_type": "stream",
     "text": [
      "g:\\geoff\\dropbox\\documents\\school\\phd\\projects\\code\\osmnx-repos\\osmnx\\osmnx\\core.py:112: ResourceWarning: unclosed file <_io.TextIOWrapper name='cache/97b9236cc986b76fa417980956bd31a1.json' mode='r' encoding='utf-8'>\n",
      "  response_json = json.load(io.open(cache_path_filename, encoding='utf-8'))\n",
      "g:\\geoff\\dropbox\\documents\\school\\phd\\projects\\code\\osmnx-repos\\osmnx\\osmnx\\core.py:112: ResourceWarning: unclosed file <_io.TextIOWrapper name='cache/bf9329225e43e615bede5023f5e1e6c3.json' mode='r' encoding='utf-8'>\n",
      "  response_json = json.load(io.open(cache_path_filename, encoding='utf-8'))\n"
     ]
    },
    {
     "name": "stdout",
     "output_type": "stream",
     "text": [
      "467.9\n",
      "USA Atlanta drive 805 "
     ]
    },
    {
     "name": "stderr",
     "output_type": "stream",
     "text": [
      "g:\\geoff\\dropbox\\documents\\school\\phd\\projects\\code\\osmnx-repos\\osmnx\\osmnx\\core.py:112: ResourceWarning: unclosed file <_io.TextIOWrapper name='cache/29719a18a93d351eb2333f637fec09a7.json' mode='r' encoding='utf-8'>\n",
      "  response_json = json.load(io.open(cache_path_filename, encoding='utf-8'))\n",
      "g:\\geoff\\dropbox\\documents\\school\\phd\\projects\\code\\osmnx-repos\\osmnx\\osmnx\\core.py:112: ResourceWarning: unclosed file <_io.TextIOWrapper name='cache/99b2a37cd9098dbad58cf3633be39fae.json' mode='r' encoding='utf-8'>\n",
      "  response_json = json.load(io.open(cache_path_filename, encoding='utf-8'))\n"
     ]
    },
    {
     "name": "stdout",
     "output_type": "stream",
     "text": [
      "8.3\n",
      "USA Atlanta walk 805 "
     ]
    },
    {
     "name": "stderr",
     "output_type": "stream",
     "text": [
      "g:\\geoff\\dropbox\\documents\\school\\phd\\projects\\code\\osmnx-repos\\osmnx\\osmnx\\core.py:112: ResourceWarning: unclosed file <_io.TextIOWrapper name='cache/58f43c2ce4861bcb0698b1231ffd9c14.json' mode='r' encoding='utf-8'>\n",
      "  response_json = json.load(io.open(cache_path_filename, encoding='utf-8'))\n",
      "g:\\geoff\\dropbox\\documents\\school\\phd\\projects\\code\\osmnx-repos\\osmnx\\osmnx\\core.py:112: ResourceWarning: unclosed file <_io.TextIOWrapper name='cache/d5e0d67b1818420bd22c7ab8a2b94eb1.json' mode='r' encoding='utf-8'>\n",
      "  response_json = json.load(io.open(cache_path_filename, encoding='utf-8'))\n"
     ]
    },
    {
     "name": "stdout",
     "output_type": "stream",
     "text": [
      "33.86\n",
      "USA Chicago drive 805 "
     ]
    },
    {
     "name": "stderr",
     "output_type": "stream",
     "text": [
      "g:\\geoff\\dropbox\\documents\\school\\phd\\projects\\code\\osmnx-repos\\osmnx\\osmnx\\core.py:112: ResourceWarning: unclosed file <_io.TextIOWrapper name='cache/6f2fca8272f4163f07b7bf3966460029.json' mode='r' encoding='utf-8'>\n",
      "  response_json = json.load(io.open(cache_path_filename, encoding='utf-8'))\n",
      "g:\\geoff\\dropbox\\documents\\school\\phd\\projects\\code\\osmnx-repos\\osmnx\\osmnx\\core.py:112: ResourceWarning: unclosed file <_io.TextIOWrapper name='cache/aa40873e89ffd7ef769122914fac9c44.json' mode='r' encoding='utf-8'>\n",
      "  response_json = json.load(io.open(cache_path_filename, encoding='utf-8'))\n"
     ]
    },
    {
     "name": "stdout",
     "output_type": "stream",
     "text": [
      "10.55\n",
      "USA Chicago walk 805 "
     ]
    },
    {
     "name": "stderr",
     "output_type": "stream",
     "text": [
      "g:\\geoff\\dropbox\\documents\\school\\phd\\projects\\code\\osmnx-repos\\osmnx\\osmnx\\core.py:112: ResourceWarning: unclosed file <_io.TextIOWrapper name='cache/fa6e6e85e494ddfb0dc151b44da3da35.json' mode='r' encoding='utf-8'>\n",
      "  response_json = json.load(io.open(cache_path_filename, encoding='utf-8'))\n",
      "g:\\geoff\\dropbox\\documents\\school\\phd\\projects\\code\\osmnx-repos\\osmnx\\osmnx\\core.py:112: ResourceWarning: unclosed file <_io.TextIOWrapper name='cache/9f3665003cb202c9e29c3525bb8eeb07.json' mode='r' encoding='utf-8'>\n",
      "  response_json = json.load(io.open(cache_path_filename, encoding='utf-8'))\n"
     ]
    },
    {
     "name": "stdout",
     "output_type": "stream",
     "text": [
      "195.55\n",
      "USA Cincinnati drive 805 "
     ]
    },
    {
     "name": "stderr",
     "output_type": "stream",
     "text": [
      "g:\\geoff\\dropbox\\documents\\school\\phd\\projects\\code\\osmnx-repos\\osmnx\\osmnx\\core.py:112: ResourceWarning: unclosed file <_io.TextIOWrapper name='cache/84281e91664ada8c69b2f6a413f09ce8.json' mode='r' encoding='utf-8'>\n",
      "  response_json = json.load(io.open(cache_path_filename, encoding='utf-8'))\n",
      "g:\\geoff\\dropbox\\documents\\school\\phd\\projects\\code\\osmnx-repos\\osmnx\\osmnx\\core.py:112: ResourceWarning: unclosed file <_io.TextIOWrapper name='cache/e95c4278df9bb9c46372400d0b52366b.json' mode='r' encoding='utf-8'>\n",
      "  response_json = json.load(io.open(cache_path_filename, encoding='utf-8'))\n"
     ]
    },
    {
     "name": "stdout",
     "output_type": "stream",
     "text": [
      "11.07\n",
      "USA Cincinnati walk 805 "
     ]
    },
    {
     "name": "stderr",
     "output_type": "stream",
     "text": [
      "g:\\geoff\\dropbox\\documents\\school\\phd\\projects\\code\\osmnx-repos\\osmnx\\osmnx\\core.py:112: ResourceWarning: unclosed file <_io.TextIOWrapper name='cache/aa2792b5b587b04f289de0b2bc24c906.json' mode='r' encoding='utf-8'>\n",
      "  response_json = json.load(io.open(cache_path_filename, encoding='utf-8'))\n",
      "g:\\geoff\\dropbox\\documents\\school\\phd\\projects\\code\\osmnx-repos\\osmnx\\osmnx\\core.py:112: ResourceWarning: unclosed file <_io.TextIOWrapper name='cache/9575aed51f4b3f15bd91f5d4276ce78b.json' mode='r' encoding='utf-8'>\n",
      "  response_json = json.load(io.open(cache_path_filename, encoding='utf-8'))\n"
     ]
    },
    {
     "name": "stdout",
     "output_type": "stream",
     "text": [
      "76.49\n",
      "USA Dallas drive 805 "
     ]
    },
    {
     "name": "stderr",
     "output_type": "stream",
     "text": [
      "g:\\geoff\\dropbox\\documents\\school\\phd\\projects\\code\\osmnx-repos\\osmnx\\osmnx\\core.py:112: ResourceWarning: unclosed file <_io.TextIOWrapper name='cache/17bfdef6839e8d2a8d0164bb2474f431.json' mode='r' encoding='utf-8'>\n",
      "  response_json = json.load(io.open(cache_path_filename, encoding='utf-8'))\n",
      "g:\\geoff\\dropbox\\documents\\school\\phd\\projects\\code\\osmnx-repos\\osmnx\\osmnx\\core.py:112: ResourceWarning: unclosed file <_io.TextIOWrapper name='cache/5a963c6268d2c73b0300ea1e705eba60.json' mode='r' encoding='utf-8'>\n",
      "  response_json = json.load(io.open(cache_path_filename, encoding='utf-8'))\n"
     ]
    },
    {
     "name": "stdout",
     "output_type": "stream",
     "text": [
      "16.28\n",
      "USA Dallas walk 805 "
     ]
    },
    {
     "name": "stderr",
     "output_type": "stream",
     "text": [
      "g:\\geoff\\dropbox\\documents\\school\\phd\\projects\\code\\osmnx-repos\\osmnx\\osmnx\\core.py:112: ResourceWarning: unclosed file <_io.TextIOWrapper name='cache/860adf192d1ab0f1ab62e667e1afbdd9.json' mode='r' encoding='utf-8'>\n",
      "  response_json = json.load(io.open(cache_path_filename, encoding='utf-8'))\n",
      "g:\\geoff\\dropbox\\documents\\school\\phd\\projects\\code\\osmnx-repos\\osmnx\\osmnx\\core.py:112: ResourceWarning: unclosed file <_io.TextIOWrapper name='cache/f347663bd3426418c7aa360f0c78c36c.json' mode='r' encoding='utf-8'>\n",
      "  response_json = json.load(io.open(cache_path_filename, encoding='utf-8'))\n"
     ]
    },
    {
     "name": "stdout",
     "output_type": "stream",
     "text": [
      "48.89\n",
      "USA Los Angeles drive 805 "
     ]
    },
    {
     "name": "stderr",
     "output_type": "stream",
     "text": [
      "g:\\geoff\\dropbox\\documents\\school\\phd\\projects\\code\\osmnx-repos\\osmnx\\osmnx\\core.py:112: ResourceWarning: unclosed file <_io.TextIOWrapper name='cache/ea493d53d78ce83cc2429f97a923f092.json' mode='r' encoding='utf-8'>\n",
      "  response_json = json.load(io.open(cache_path_filename, encoding='utf-8'))\n",
      "g:\\geoff\\dropbox\\documents\\school\\phd\\projects\\code\\osmnx-repos\\osmnx\\osmnx\\core.py:112: ResourceWarning: unclosed file <_io.TextIOWrapper name='cache/616c1fa6b96c71b9a304a41105d03aa4.json' mode='r' encoding='utf-8'>\n",
      "  response_json = json.load(io.open(cache_path_filename, encoding='utf-8'))\n"
     ]
    },
    {
     "name": "stdout",
     "output_type": "stream",
     "text": [
      "8.1\n",
      "USA Los Angeles walk 805 "
     ]
    },
    {
     "name": "stderr",
     "output_type": "stream",
     "text": [
      "g:\\geoff\\dropbox\\documents\\school\\phd\\projects\\code\\osmnx-repos\\osmnx\\osmnx\\core.py:112: ResourceWarning: unclosed file <_io.TextIOWrapper name='cache/db18b07b5fc72f967c5f5efa5375f6b8.json' mode='r' encoding='utf-8'>\n",
      "  response_json = json.load(io.open(cache_path_filename, encoding='utf-8'))\n",
      "g:\\geoff\\dropbox\\documents\\school\\phd\\projects\\code\\osmnx-repos\\osmnx\\osmnx\\core.py:112: ResourceWarning: unclosed file <_io.TextIOWrapper name='cache/a0f23f021b124472844143dbd05f2750.json' mode='r' encoding='utf-8'>\n",
      "  response_json = json.load(io.open(cache_path_filename, encoding='utf-8'))\n"
     ]
    },
    {
     "name": "stdout",
     "output_type": "stream",
     "text": [
      "57.02\n",
      "USA Miami drive 805 "
     ]
    },
    {
     "name": "stderr",
     "output_type": "stream",
     "text": [
      "g:\\geoff\\dropbox\\documents\\school\\phd\\projects\\code\\osmnx-repos\\osmnx\\osmnx\\core.py:112: ResourceWarning: unclosed file <_io.TextIOWrapper name='cache/e7dfa7fe34f21b85ededdcfde9ab803b.json' mode='r' encoding='utf-8'>\n",
      "  response_json = json.load(io.open(cache_path_filename, encoding='utf-8'))\n",
      "g:\\geoff\\dropbox\\documents\\school\\phd\\projects\\code\\osmnx-repos\\osmnx\\osmnx\\core.py:112: ResourceWarning: unclosed file <_io.TextIOWrapper name='cache/bc67008006354621cf30b99a1b1af238.json' mode='r' encoding='utf-8'>\n",
      "  response_json = json.load(io.open(cache_path_filename, encoding='utf-8'))\n"
     ]
    },
    {
     "name": "stdout",
     "output_type": "stream",
     "text": [
      "8.52\n",
      "USA Miami walk 805 "
     ]
    },
    {
     "name": "stderr",
     "output_type": "stream",
     "text": [
      "g:\\geoff\\dropbox\\documents\\school\\phd\\projects\\code\\osmnx-repos\\osmnx\\osmnx\\core.py:112: ResourceWarning: unclosed file <_io.TextIOWrapper name='cache/1fee45d6cc82c7e9154ec02d8e695212.json' mode='r' encoding='utf-8'>\n",
      "  response_json = json.load(io.open(cache_path_filename, encoding='utf-8'))\n",
      "g:\\geoff\\dropbox\\documents\\school\\phd\\projects\\code\\osmnx-repos\\osmnx\\osmnx\\core.py:112: ResourceWarning: unclosed file <_io.TextIOWrapper name='cache/655d1ebeccc3e2605e94a26f24e7d51c.json' mode='r' encoding='utf-8'>\n",
      "  response_json = json.load(io.open(cache_path_filename, encoding='utf-8'))\n"
     ]
    },
    {
     "name": "stdout",
     "output_type": "stream",
     "text": [
      "26.3\n",
      "USA New York drive 805 "
     ]
    },
    {
     "name": "stderr",
     "output_type": "stream",
     "text": [
      "g:\\geoff\\dropbox\\documents\\school\\phd\\projects\\code\\osmnx-repos\\osmnx\\osmnx\\core.py:112: ResourceWarning: unclosed file <_io.TextIOWrapper name='cache/3a2b0c87a7dd67874cc25f10228ce6b3.json' mode='r' encoding='utf-8'>\n",
      "  response_json = json.load(io.open(cache_path_filename, encoding='utf-8'))\n",
      "g:\\geoff\\dropbox\\documents\\school\\phd\\projects\\code\\osmnx-repos\\osmnx\\osmnx\\core.py:112: ResourceWarning: unclosed file <_io.TextIOWrapper name='cache/161278c7e9a649b1b45f936bbf441db9.json' mode='r' encoding='utf-8'>\n",
      "  response_json = json.load(io.open(cache_path_filename, encoding='utf-8'))\n"
     ]
    },
    {
     "name": "stdout",
     "output_type": "stream",
     "text": [
      "16.59\n",
      "USA New York walk 805 "
     ]
    },
    {
     "name": "stderr",
     "output_type": "stream",
     "text": [
      "g:\\geoff\\dropbox\\documents\\school\\phd\\projects\\code\\osmnx-repos\\osmnx\\osmnx\\core.py:112: ResourceWarning: unclosed file <_io.TextIOWrapper name='cache/bed41ed659219923d37ffcd3bc0c38d4.json' mode='r' encoding='utf-8'>\n",
      "  response_json = json.load(io.open(cache_path_filename, encoding='utf-8'))\n",
      "g:\\geoff\\dropbox\\documents\\school\\phd\\projects\\code\\osmnx-repos\\osmnx\\osmnx\\core.py:112: ResourceWarning: unclosed file <_io.TextIOWrapper name='cache/d97c4d745dca686c55e313bdcc3f37ba.json' mode='r' encoding='utf-8'>\n",
      "  response_json = json.load(io.open(cache_path_filename, encoding='utf-8'))\n"
     ]
    },
    {
     "name": "stdout",
     "output_type": "stream",
     "text": [
      "111.61\n",
      "USA Phoenix drive 805 "
     ]
    },
    {
     "name": "stderr",
     "output_type": "stream",
     "text": [
      "g:\\geoff\\dropbox\\documents\\school\\phd\\projects\\code\\osmnx-repos\\osmnx\\osmnx\\core.py:112: ResourceWarning: unclosed file <_io.TextIOWrapper name='cache/63f56b72c0df754f23272e51c050ecd6.json' mode='r' encoding='utf-8'>\n",
      "  response_json = json.load(io.open(cache_path_filename, encoding='utf-8'))\n",
      "g:\\geoff\\dropbox\\documents\\school\\phd\\projects\\code\\osmnx-repos\\osmnx\\osmnx\\core.py:112: ResourceWarning: unclosed file <_io.TextIOWrapper name='cache/cef3caa74879b4f71ddd97bd483f692d.json' mode='r' encoding='utf-8'>\n",
      "  response_json = json.load(io.open(cache_path_filename, encoding='utf-8'))\n"
     ]
    },
    {
     "name": "stdout",
     "output_type": "stream",
     "text": [
      "7.3\n",
      "USA Phoenix walk 805 "
     ]
    },
    {
     "name": "stderr",
     "output_type": "stream",
     "text": [
      "g:\\geoff\\dropbox\\documents\\school\\phd\\projects\\code\\osmnx-repos\\osmnx\\osmnx\\core.py:112: ResourceWarning: unclosed file <_io.TextIOWrapper name='cache/86e5234512eb5251a68675fda5a0292b.json' mode='r' encoding='utf-8'>\n",
      "  response_json = json.load(io.open(cache_path_filename, encoding='utf-8'))\n",
      "g:\\geoff\\dropbox\\documents\\school\\phd\\projects\\code\\osmnx-repos\\osmnx\\osmnx\\core.py:112: ResourceWarning: unclosed file <_io.TextIOWrapper name='cache/9cebfcb3069e7bb097a045e3311f7c01.json' mode='r' encoding='utf-8'>\n",
      "  response_json = json.load(io.open(cache_path_filename, encoding='utf-8'))\n"
     ]
    },
    {
     "name": "stdout",
     "output_type": "stream",
     "text": [
      "116.41\n",
      "USA San Francisco drive 805 "
     ]
    },
    {
     "name": "stderr",
     "output_type": "stream",
     "text": [
      "g:\\geoff\\dropbox\\documents\\school\\phd\\projects\\code\\osmnx-repos\\osmnx\\osmnx\\core.py:112: ResourceWarning: unclosed file <_io.TextIOWrapper name='cache/58bc8f0ca5ce06e95ac50ce7e45ae4d9.json' mode='r' encoding='utf-8'>\n",
      "  response_json = json.load(io.open(cache_path_filename, encoding='utf-8'))\n",
      "g:\\geoff\\dropbox\\documents\\school\\phd\\projects\\code\\osmnx-repos\\osmnx\\osmnx\\core.py:112: ResourceWarning: unclosed file <_io.TextIOWrapper name='cache/cfb4262fce0c9770fe3384cfc202e641.json' mode='r' encoding='utf-8'>\n",
      "  response_json = json.load(io.open(cache_path_filename, encoding='utf-8'))\n"
     ]
    },
    {
     "name": "stdout",
     "output_type": "stream",
     "text": [
      "8.21\n",
      "USA San Francisco walk 805 "
     ]
    },
    {
     "name": "stderr",
     "output_type": "stream",
     "text": [
      "g:\\geoff\\dropbox\\documents\\school\\phd\\projects\\code\\osmnx-repos\\osmnx\\osmnx\\core.py:112: ResourceWarning: unclosed file <_io.TextIOWrapper name='cache/3cf5acd173202c1c6d777a8c8d940805.json' mode='r' encoding='utf-8'>\n",
      "  response_json = json.load(io.open(cache_path_filename, encoding='utf-8'))\n",
      "g:\\geoff\\dropbox\\documents\\school\\phd\\projects\\code\\osmnx-repos\\osmnx\\osmnx\\core.py:112: ResourceWarning: unclosed file <_io.TextIOWrapper name='cache/30fa80c6009bfd9b70e5e6c4d96c0d9e.json' mode='r' encoding='utf-8'>\n",
      "  response_json = json.load(io.open(cache_path_filename, encoding='utf-8'))\n"
     ]
    },
    {
     "name": "stdout",
     "output_type": "stream",
     "text": [
      "92.39\n",
      "USA Seattle drive 805 "
     ]
    },
    {
     "name": "stderr",
     "output_type": "stream",
     "text": [
      "g:\\geoff\\dropbox\\documents\\school\\phd\\projects\\code\\osmnx-repos\\osmnx\\osmnx\\core.py:112: ResourceWarning: unclosed file <_io.TextIOWrapper name='cache/9b04c19309a2b835ef922ea085d35c32.json' mode='r' encoding='utf-8'>\n",
      "  response_json = json.load(io.open(cache_path_filename, encoding='utf-8'))\n",
      "g:\\geoff\\dropbox\\documents\\school\\phd\\projects\\code\\osmnx-repos\\osmnx\\osmnx\\core.py:112: ResourceWarning: unclosed file <_io.TextIOWrapper name='cache/76b92190f40a9969db7aef9281057581.json' mode='r' encoding='utf-8'>\n",
      "  response_json = json.load(io.open(cache_path_filename, encoding='utf-8'))\n"
     ]
    },
    {
     "name": "stdout",
     "output_type": "stream",
     "text": [
      "16.53\n",
      "USA Seattle walk 805 "
     ]
    },
    {
     "name": "stderr",
     "output_type": "stream",
     "text": [
      "g:\\geoff\\dropbox\\documents\\school\\phd\\projects\\code\\osmnx-repos\\osmnx\\osmnx\\core.py:112: ResourceWarning: unclosed file <_io.TextIOWrapper name='cache/b750f9ee67caff7595dc00d666b87c89.json' mode='r' encoding='utf-8'>\n",
      "  response_json = json.load(io.open(cache_path_filename, encoding='utf-8'))\n",
      "g:\\geoff\\dropbox\\documents\\school\\phd\\projects\\code\\osmnx-repos\\osmnx\\osmnx\\core.py:112: ResourceWarning: unclosed file <_io.TextIOWrapper name='cache/5983e6d7af5fe24b8e690d1d2bea0841.json' mode='r' encoding='utf-8'>\n",
      "  response_json = json.load(io.open(cache_path_filename, encoding='utf-8'))\n"
     ]
    },
    {
     "name": "stdout",
     "output_type": "stream",
     "text": [
      "335.44\n",
      "USA Washington DC drive 805 "
     ]
    },
    {
     "name": "stderr",
     "output_type": "stream",
     "text": [
      "g:\\geoff\\dropbox\\documents\\school\\phd\\projects\\code\\osmnx-repos\\osmnx\\osmnx\\core.py:112: ResourceWarning: unclosed file <_io.TextIOWrapper name='cache/f1a4d1f17c97440f5c6cf665f2a813bf.json' mode='r' encoding='utf-8'>\n",
      "  response_json = json.load(io.open(cache_path_filename, encoding='utf-8'))\n",
      "g:\\geoff\\dropbox\\documents\\school\\phd\\projects\\code\\osmnx-repos\\osmnx\\osmnx\\core.py:112: ResourceWarning: unclosed file <_io.TextIOWrapper name='cache/c9761ff2fc6c4fd1702eb09df3e5b923.json' mode='r' encoding='utf-8'>\n",
      "  response_json = json.load(io.open(cache_path_filename, encoding='utf-8'))\n"
     ]
    },
    {
     "name": "stdout",
     "output_type": "stream",
     "text": [
      "16.19\n",
      "USA Washington DC walk 805 "
     ]
    },
    {
     "name": "stderr",
     "output_type": "stream",
     "text": [
      "g:\\geoff\\dropbox\\documents\\school\\phd\\projects\\code\\osmnx-repos\\osmnx\\osmnx\\core.py:112: ResourceWarning: unclosed file <_io.TextIOWrapper name='cache/a143fc62d76b45971d77f0680fb26979.json' mode='r' encoding='utf-8'>\n",
      "  response_json = json.load(io.open(cache_path_filename, encoding='utf-8'))\n",
      "g:\\geoff\\dropbox\\documents\\school\\phd\\projects\\code\\osmnx-repos\\osmnx\\osmnx\\core.py:112: ResourceWarning: unclosed file <_io.TextIOWrapper name='cache/91f6e6dd1df0670f7cb5df7788af535a.json' mode='r' encoding='utf-8'>\n",
      "  response_json = json.load(io.open(cache_path_filename, encoding='utf-8'))\n"
     ]
    },
    {
     "name": "stdout",
     "output_type": "stream",
     "text": [
      "226.47\n",
      "Venezuela Caracas drive 805 "
     ]
    },
    {
     "name": "stderr",
     "output_type": "stream",
     "text": [
      "g:\\geoff\\dropbox\\documents\\school\\phd\\projects\\code\\osmnx-repos\\osmnx\\osmnx\\core.py:112: ResourceWarning: unclosed file <_io.TextIOWrapper name='cache/760316881960c213b9b2ba29ec3a14bd.json' mode='r' encoding='utf-8'>\n",
      "  response_json = json.load(io.open(cache_path_filename, encoding='utf-8'))\n",
      "g:\\geoff\\dropbox\\documents\\school\\phd\\projects\\code\\osmnx-repos\\osmnx\\osmnx\\core.py:112: ResourceWarning: unclosed file <_io.TextIOWrapper name='cache/e8b558e7b73dd649452c94099819375f.json' mode='r' encoding='utf-8'>\n",
      "  response_json = json.load(io.open(cache_path_filename, encoding='utf-8'))\n"
     ]
    },
    {
     "name": "stdout",
     "output_type": "stream",
     "text": [
      "7.67\n",
      "Venezuela Caracas walk 805 "
     ]
    },
    {
     "name": "stderr",
     "output_type": "stream",
     "text": [
      "g:\\geoff\\dropbox\\documents\\school\\phd\\projects\\code\\osmnx-repos\\osmnx\\osmnx\\core.py:112: ResourceWarning: unclosed file <_io.TextIOWrapper name='cache/b61e7e55a4c1a2eab70fc54918034254.json' mode='r' encoding='utf-8'>\n",
      "  response_json = json.load(io.open(cache_path_filename, encoding='utf-8'))\n",
      "g:\\geoff\\dropbox\\documents\\school\\phd\\projects\\code\\osmnx-repos\\osmnx\\osmnx\\core.py:112: ResourceWarning: unclosed file <_io.TextIOWrapper name='cache/47cf0803991bf286fb64c6bbbf25f1d8.json' mode='r' encoding='utf-8'>\n",
      "  response_json = json.load(io.open(cache_path_filename, encoding='utf-8'))\n"
     ]
    },
    {
     "name": "stdout",
     "output_type": "stream",
     "text": [
      "10.66\n"
     ]
    }
   ],
   "source": [
    "results = []\n",
    "for label, row in df_places.iterrows():\n",
    "    \n",
    "    coords = (row['lat'], row['lng'])\n",
    "    point = Point(row['lng'], row['lat'])\n",
    "    \n",
    "    for network_type in network_types:\n",
    "        \n",
    "        for distance in distances:\n",
    "\n",
    "            print(row['country'], row['city'], network_type, distance, end=' ')\n",
    "            try:\n",
    "\n",
    "                start_time = time.time()\n",
    "                G = get_graph(coords, distance, network_type)\n",
    "\n",
    "                # get a special buffered graph for planar analysis\n",
    "                buffer = 500\n",
    "                G_buff = get_graph(coords, distance + buffer, network_type)\n",
    "\n",
    "                # get a bounding box to trim things square\n",
    "                north, south, east, west = ox.bbox_from_point(coords, distance)\n",
    "                bbox = Polygon([(west, north), (west, south), (east, south), (east, north)])\n",
    "\n",
    "                # how many planar line intersections are there?\n",
    "                planar_intersections = calculate_planar_intersections(G_buff, bbox)\n",
    "                count_planar_intersections = len(planar_intersections)\n",
    "\n",
    "                # how many nonplanar graph edge intersections are there?\n",
    "                nonplanar_intersections = calculate_nonplanar_intersections(G, bbox)\n",
    "                count_nonplanar_intersections = len(nonplanar_intersections)\n",
    "\n",
    "                # how many cleaned, clustered intersections are there?\n",
    "                cleaned_intersections = calculate_cleaned_intersections(nonplanar_intersections, G.graph['crs'])\n",
    "                count_cleaned_intersections = len(cleaned_intersections)\n",
    "                \n",
    "                # how does planarity affect average edge length?\n",
    "                mean_edge_length, mean_planar_segment_length, edge_length_ratio = calculate_edge_length_ratios(G, planar_intersections)\n",
    "\n",
    "                if count_nonplanar_intersections > 0:\n",
    "                    # planar line intersections overcounts nonplanar graph edge intersections by xx%\n",
    "                    # ie, planar graph shows xx% more intersections than nonplanar graph with bridges/tunnels\n",
    "                    planar_nonplanar_overcount = count_planar_intersections / count_nonplanar_intersections\n",
    "                else:\n",
    "                    planar_nonplanar_overcount = None #avoid divide by zero errors\n",
    "\n",
    "                if count_cleaned_intersections > 0:\n",
    "                    # edge intersections overcounts street intersections by xx%\n",
    "                    nonplanar_cleaned_overcount = count_nonplanar_intersections / count_cleaned_intersections\n",
    "\n",
    "                    # line intersections overcounts street intersections by xx%\n",
    "                    planar_cleaned_overcount = count_planar_intersections / count_cleaned_intersections\n",
    "                else:\n",
    "                    planar_cleaned_overcount = None #avoid divide by zero errors\n",
    "                    nonplanar_cleaned_overcount = None\n",
    "\n",
    "                # is it a formally planar graph (ignoring spatial embedding)?\n",
    "                warnings.filterwarnings('ignore')\n",
    "                is_planar = planarity.is_planar(G)\n",
    "                warnings.resetwarnings()\n",
    "                \n",
    "                runtime = round(time.time() - start_time, 2)\n",
    "                print(runtime)\n",
    "                \n",
    "                # assemble the results\n",
    "                result = {'country' : row['country'], \n",
    "                          'city' : row['city'],\n",
    "                          'geometry' : point,\n",
    "                          'distance' : distance,\n",
    "                          'network_type' : network_type,\n",
    "                          'nodes' : len(G.nodes()),\n",
    "                          'count_planar_intersections' : count_planar_intersections,\n",
    "                          'count_nonplanar_intersections' : count_nonplanar_intersections,\n",
    "                          'count_cleaned_intersections' : count_cleaned_intersections,\n",
    "                          'overcount_planar_nonplanar' : planar_nonplanar_overcount,\n",
    "                          'overcount_nonplanar_cleaned' : nonplanar_cleaned_overcount,\n",
    "                          'overcount_planar_cleaned' : planar_cleaned_overcount,\n",
    "                          'mean_edge_length' : mean_edge_length,\n",
    "                          'mean_planar_segment_length' : mean_planar_segment_length,\n",
    "                          'edge_length_ratio' : edge_length_ratio,\n",
    "                          'phi' : 1 / planar_nonplanar_overcount,\n",
    "                          'is_planar' : is_planar,\n",
    "                          'runtime' : runtime}\n",
    "                results.append(result)\n",
    "\n",
    "            except Exception as e:\n",
    "                print(e)"
   ]
  },
  {
   "cell_type": "code",
   "execution_count": 6,
   "metadata": {},
   "outputs": [
    {
     "name": "stdout",
     "output_type": "stream",
     "text": [
      "finished in 118.58 minutes\n"
     ]
    }
   ],
   "source": [
    "gdf = gpd.GeoDataFrame(results, geometry='geometry').round(3)\n",
    "gdf.crs = {'init': 'epsg:4326'}\n",
    "print('finished in {:.2f} minutes'.format(gdf['runtime'].sum() / 60))"
   ]
  },
  {
   "cell_type": "markdown",
   "metadata": {},
   "source": [
    "## Save results to disk"
   ]
  },
  {
   "cell_type": "code",
   "execution_count": 14,
   "metadata": {},
   "outputs": [],
   "source": [
    "ox.save_graph_shapefile(G, filename='graph', folder='data')"
   ]
  },
  {
   "cell_type": "code",
   "execution_count": 15,
   "metadata": {},
   "outputs": [],
   "source": [
    "planar_intersections.to_file('data/graph/planar')\n",
    "nonplanar_intersections.to_file('data/graph/nonplanar')\n",
    "cleaned_intersections.to_file('data/graph/cleaned')"
   ]
  },
  {
   "cell_type": "code",
   "execution_count": 16,
   "metadata": {},
   "outputs": [],
   "source": [
    "north, south, east, west = ox.bbox_from_point(coords, distance)\n",
    "polygon = Polygon([(west, north), (west, south), (east, south), (east, north)])\n",
    "gpd.GeoSeries([polygon]).to_file('data/graph/bbox')"
   ]
  },
  {
   "cell_type": "code",
   "execution_count": 17,
   "metadata": {},
   "outputs": [],
   "source": [
    "gdf.to_csv('data/results.csv', index=True, encoding='utf-8')"
   ]
  },
  {
   "cell_type": "code",
   "execution_count": 18,
   "metadata": {},
   "outputs": [],
   "source": [
    "gdf2 = gdf.set_index(['country', 'city', 'distance', 'network_type'])\n",
    "gdf2.iloc[gdf2.index.get_level_values('network_type') == 'drive'].to_csv('data/results_drive.csv')\n",
    "gdf2.iloc[gdf2.index.get_level_values('network_type') == 'walk'].to_csv('data/results_walk.csv')"
   ]
  }
 ],
 "metadata": {
  "kernelspec": {
   "display_name": "Python 3",
   "language": "python",
   "name": "python3"
  },
  "language_info": {
   "codemirror_mode": {
    "name": "ipython",
    "version": 3
   },
   "file_extension": ".py",
   "mimetype": "text/x-python",
   "name": "python",
   "nbconvert_exporter": "python",
   "pygments_lexer": "ipython3",
   "version": "3.6.4"
  }
 },
 "nbformat": 4,
 "nbformat_minor": 2
}
