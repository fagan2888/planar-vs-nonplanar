{
 "cells": [
  {
   "cell_type": "code",
   "execution_count": 1,
   "metadata": {},
   "outputs": [],
   "source": [
    "import time\n",
    "import numpy as np\n",
    "import pandas as pd\n",
    "import geopandas as gpd\n",
    "import matplotlib.pyplot as plt\n",
    "import requests\n",
    "import osmnx as ox\n",
    "from shapely.geometry import Point, Polygon\n",
    "\n",
    "from planar import *\n",
    "\n",
    "ox.config(use_cache=True, log_console=True)\n",
    "%matplotlib inline"
   ]
  },
  {
   "cell_type": "code",
   "execution_count": 2,
   "metadata": {},
   "outputs": [],
   "source": [
    "# config\n",
    "query = 'Oakland, California, USA'\n",
    "n = 200\n",
    "distance = 805\n",
    "network_type = 'drive'"
   ]
  },
  {
   "cell_type": "markdown",
   "metadata": {},
   "source": [
    "## Random points across a single city"
   ]
  },
  {
   "cell_type": "code",
   "execution_count": 3,
   "metadata": {},
   "outputs": [],
   "source": [
    "def random_points_within(poly, n):\n",
    "    \n",
    "    np.random.seed(0)\n",
    "    min_x, min_y, max_x, max_y = poly.bounds\n",
    "    points = []\n",
    "    \n",
    "    while len(points) < n:\n",
    "        rand_x = np.random.uniform(min_x, max_x)\n",
    "        rand_y = np.random.uniform(min_y, max_y)\n",
    "        rand_pt = Point((rand_x, rand_y))\n",
    "        if (rand_pt.within(poly)):\n",
    "            points.append((rand_x, rand_y))\n",
    "\n",
    "    return points"
   ]
  },
  {
   "cell_type": "code",
   "execution_count": 4,
   "metadata": {},
   "outputs": [],
   "source": [
    "gdf = ox.gdf_from_place(query)\n",
    "poly = gdf.loc[0, 'geometry']\n",
    "points = np.array(random_points_within(poly, n=n))"
   ]
  },
  {
   "cell_type": "code",
   "execution_count": 5,
   "metadata": {},
   "outputs": [
    {
     "data": {
      "image/png": "[encoded data removed]",
      "text/plain": [
       "<matplotlib.figure.Figure at 0x1df986bd630>"
      ]
     },
     "metadata": {},
     "output_type": "display_data"
    }
   ],
   "source": [
    "x = points[:,0]\n",
    "y = points[:,1]\n",
    "fig, ax = plt.subplots()\n",
    "gdf.plot(ax=ax, facecolor='w', edgecolor='gray')\n",
    "ax.scatter(x=x, y=y, s=2, c='r')\n",
    "plt.show()"
   ]
  },
  {
   "cell_type": "code",
   "execution_count": 6,
   "metadata": {},
   "outputs": [],
   "source": [
    "places = {}\n",
    "for i, point in enumerate(points):\n",
    "    name = '{:002d}_{}'.format(i, query)\n",
    "    latlng = (point[1], point[0])\n",
    "    places[name] = latlng"
   ]
  },
  {
   "cell_type": "code",
   "execution_count": 7,
   "metadata": {},
   "outputs": [
    {
     "name": "stdout",
     "output_type": "stream",
     "text": [
      "09_Oakland, California, USA There are no data elements in the response JSON objects\n",
      "10_Oakland, California, USA There are no data elements in the response JSON objects\n",
      "calculate_cleaned_intersections error You cannot project an empty GeoDataFrame.\n",
      "13_Oakland, California, USA You cannot project an empty GeoDataFrame.\n",
      "14_Oakland, California, USA There are no data elements in the response JSON objects\n",
      "17_Oakland, California, USA There are no data elements in the response JSON objects\n",
      "28_Oakland, California, USA There are no data elements in the response JSON objects\n",
      "29_Oakland, California, USA There are no data elements in the response JSON objects\n",
      "31_Oakland, California, USA There are no data elements in the response JSON objects\n",
      "calculate_cleaned_intersections error You cannot project an empty GeoDataFrame.\n",
      "36_Oakland, California, USA You cannot project an empty GeoDataFrame.\n",
      "38_Oakland, California, USA There are no data elements in the response JSON objects\n",
      "40_Oakland, California, USA There are no data elements in the response JSON objects\n",
      "46_Oakland, California, USA There are no data elements in the response JSON objects\n",
      "47_Oakland, California, USA There are no data elements in the response JSON objects\n",
      "calculate_cleaned_intersections error You cannot project an empty GeoDataFrame.\n",
      "51_Oakland, California, USA You cannot project an empty GeoDataFrame.\n",
      "calculate_cleaned_intersections error You cannot project an empty GeoDataFrame.\n",
      "52_Oakland, California, USA You cannot project an empty GeoDataFrame.\n",
      "calculate_cleaned_intersections error You cannot project an empty GeoDataFrame.\n",
      "65_Oakland, California, USA You cannot project an empty GeoDataFrame.\n",
      "69_Oakland, California, USA There are no data elements in the response JSON objects\n",
      "calculate_cleaned_intersections error You cannot project an empty GeoDataFrame.\n",
      "73_Oakland, California, USA You cannot project an empty GeoDataFrame.\n",
      "calculate_cleaned_intersections error You cannot project an empty GeoDataFrame.\n",
      "75_Oakland, California, USA You cannot project an empty GeoDataFrame.\n",
      "calculate_cleaned_intersections error You cannot project an empty GeoDataFrame.\n",
      "77_Oakland, California, USA You cannot project an empty GeoDataFrame.\n",
      "calculate_cleaned_intersections error You cannot project an empty GeoDataFrame.\n",
      "80_Oakland, California, USA You cannot project an empty GeoDataFrame.\n",
      "81_Oakland, California, USA There are no data elements in the response JSON objects\n",
      "84_Oakland, California, USA 'Point' object is not iterable\n",
      "calculate_cleaned_intersections error You cannot project an empty GeoDataFrame.\n",
      "87_Oakland, California, USA You cannot project an empty GeoDataFrame.\n",
      "95_Oakland, California, USA There are no data elements in the response JSON objects\n",
      "100_Oakland, California, USA There are no data elements in the response JSON objects\n",
      "calculate_cleaned_intersections error You cannot project an empty GeoDataFrame.\n",
      "102_Oakland, California, USA You cannot project an empty GeoDataFrame.\n",
      "108_Oakland, California, USA There are no data elements in the response JSON objects\n",
      "110_Oakland, California, USA There are no data elements in the response JSON objects\n",
      "calculate_cleaned_intersections error You cannot project an empty GeoDataFrame.\n",
      "114_Oakland, California, USA You cannot project an empty GeoDataFrame.\n",
      "115_Oakland, California, USA There are no data elements in the response JSON objects\n",
      "116_Oakland, California, USA There are no data elements in the response JSON objects\n",
      "117_Oakland, California, USA There are no data elements in the response JSON objects\n",
      "120_Oakland, California, USA There are no data elements in the response JSON objects\n",
      "124_Oakland, California, USA There are no data elements in the response JSON objects\n",
      "127_Oakland, California, USA 'Point' object is not iterable\n",
      "calculate_cleaned_intersections error You cannot project an empty GeoDataFrame.\n",
      "141_Oakland, California, USA You cannot project an empty GeoDataFrame.\n",
      "148_Oakland, California, USA There are no data elements in the response JSON objects\n",
      "149_Oakland, California, USA There are no data elements in the response JSON objects\n",
      "151_Oakland, California, USA There are no data elements in the response JSON objects\n",
      "154_Oakland, California, USA There are no data elements in the response JSON objects\n",
      "157_Oakland, California, USA There are no data elements in the response JSON objects\n",
      "158_Oakland, California, USA There are no data elements in the response JSON objects\n",
      "calculate_cleaned_intersections error You cannot project an empty GeoDataFrame.\n",
      "162_Oakland, California, USA You cannot project an empty GeoDataFrame.\n",
      "calculate_cleaned_intersections error You cannot project an empty GeoDataFrame.\n",
      "164_Oakland, California, USA You cannot project an empty GeoDataFrame.\n",
      "166_Oakland, California, USA There are no data elements in the response JSON objects\n",
      "167_Oakland, California, USA There are no data elements in the response JSON objects\n",
      "175_Oakland, California, USA There are no data elements in the response JSON objects\n",
      "calculate_cleaned_intersections error You cannot project an empty GeoDataFrame.\n",
      "180_Oakland, California, USA You cannot project an empty GeoDataFrame.\n",
      "187_Oakland, California, USA There are no data elements in the response JSON objects\n",
      "193_Oakland, California, USA There are no data elements in the response JSON objects\n",
      "195_Oakland, California, USA There are no data elements in the response JSON objects\n"
     ]
    }
   ],
   "source": [
    "results = []\n",
    "for name, coords in places.items():\n",
    "\n",
    "    try:\n",
    "\n",
    "        ox.log('working on {} - {}.'.format(name, distance))\n",
    "        start_time = time.time()\n",
    "        G = get_graph(coords, distance, network_type=network_type)\n",
    "\n",
    "        # get a special buffered graph for planar analysis\n",
    "        buffer = 500\n",
    "        G_buff = get_graph(coords, distance + buffer, network_type=network_type)\n",
    "\n",
    "        # get a bounding box to trim things square\n",
    "        north, south, east, west = ox.bbox_from_point(coords, distance)\n",
    "        bbox = Polygon([(west, north), (west, south), (east, south), (east, north)])\n",
    "\n",
    "        # how many planar line intersections are there?\n",
    "        planar_intersections = calculate_planar_intersections(G_buff, bbox)\n",
    "        count_planar_intersections = len(planar_intersections)\n",
    "\n",
    "        # how many nonplanar graph edge intersections are there?\n",
    "        nonplanar_intersections = calculate_nonplanar_intersections(G, bbox)\n",
    "        count_nonplanar_intersections = len(nonplanar_intersections)\n",
    "\n",
    "        # how many cleaned, clustered intersections are there?\n",
    "        cleaned_intersections = calculate_cleaned_intersections(nonplanar_intersections, G.graph['crs'])\n",
    "        count_cleaned_intersections = len(cleaned_intersections)\n",
    "\n",
    "        # how does planarity affect average edge length?\n",
    "        mean_edge_length, mean_planar_segment_length, edge_length_ratio = calculate_edge_length_ratios(G, planar_intersections)\n",
    "\n",
    "        if count_nonplanar_intersections > 0:\n",
    "            # planar line intersections overcounts nonplanar graph edge intersections by xx%\n",
    "            # ie, planar graph shows xx% more intersections than nonplanar graph with bridges/tunnels\n",
    "            planar_nonplanar_overcount = count_planar_intersections / count_nonplanar_intersections\n",
    "        else:\n",
    "            planar_nonplanar_overcount = None #avoid divide by zero errors\n",
    "\n",
    "        if count_cleaned_intersections > 0:\n",
    "            # edge intersections overcounts street intersections by xx%\n",
    "            nonplanar_cleaned_overcount = count_nonplanar_intersections / count_cleaned_intersections\n",
    "\n",
    "            # line intersections overcounts street intersections by xx%\n",
    "            planar_cleaned_overcount = count_planar_intersections / count_cleaned_intersections\n",
    "        else:\n",
    "            planar_cleaned_overcount = None #avoid divide by zero errors\n",
    "            nonplanar_cleaned_overcount = None\n",
    "\n",
    "        # assemble the results\n",
    "        result = {'name' : name,\n",
    "                  'coords' : coords,\n",
    "                  'distance' : distance,\n",
    "                  'network_type' : network_type,\n",
    "                  'nodes' : len(G.nodes()),\n",
    "                  'count_planar_intersections' : count_planar_intersections,\n",
    "                  'count_nonplanar_intersections' : count_nonplanar_intersections,\n",
    "                  'count_cleaned_intersections' : count_cleaned_intersections,\n",
    "                  'overcount_planar_nonplanar' : planar_nonplanar_overcount,\n",
    "                  'overcount_nonplanar_cleaned' : nonplanar_cleaned_overcount,\n",
    "                  'overcount_planar_cleaned' : planar_cleaned_overcount,\n",
    "                  'mean_edge_length' : mean_edge_length,\n",
    "                  'mean_planar_segment_length' : mean_planar_segment_length,\n",
    "                  'edge_length_ratio' : edge_length_ratio,\n",
    "                  'runtime' : time.time() - start_time}\n",
    "        results.append(result)\n",
    "\n",
    "    except Exception as e:\n",
    "        print(name, e)"
   ]
  },
  {
   "cell_type": "code",
   "execution_count": 8,
   "metadata": {},
   "outputs": [
    {
     "data": {
      "text/plain": [
       "1.0694574130649634"
      ]
     },
     "execution_count": 8,
     "metadata": {},
     "output_type": "execute_result"
    }
   ],
   "source": [
    "df = pd.DataFrame(results)\n",
    "df['overcount_planar_nonplanar'].mean()"
   ]
  },
  {
   "cell_type": "code",
   "execution_count": 9,
   "metadata": {},
   "outputs": [
    {
     "data": {
      "text/html": [
       "<div>\n",
       "<style scoped>\n",
       "    .dataframe tbody tr th:only-of-type {\n",
       "        vertical-align: middle;\n",
       "    }\n",
       "\n",
       "    .dataframe tbody tr th {\n",
       "        vertical-align: top;\n",
       "    }\n",
       "\n",
       "    .dataframe thead th {\n",
       "        text-align: right;\n",
       "    }\n",
       "</style>\n",
       "<table border=\"1\" class=\"dataframe\">\n",
       "  <thead>\n",
       "    <tr style=\"text-align: right;\">\n",
       "      <th></th>\n",
       "      <th>coords</th>\n",
       "      <th>count_cleaned_intersections</th>\n",
       "      <th>count_nonplanar_intersections</th>\n",
       "      <th>count_planar_intersections</th>\n",
       "      <th>distance</th>\n",
       "      <th>edge_length_ratio</th>\n",
       "      <th>mean_edge_length</th>\n",
       "      <th>mean_planar_segment_length</th>\n",
       "      <th>name</th>\n",
       "      <th>network_type</th>\n",
       "      <th>nodes</th>\n",
       "      <th>overcount_nonplanar_cleaned</th>\n",
       "      <th>overcount_planar_cleaned</th>\n",
       "      <th>overcount_planar_nonplanar</th>\n",
       "      <th>runtime</th>\n",
       "    </tr>\n",
       "  </thead>\n",
       "  <tbody>\n",
       "    <tr>\n",
       "      <th>0</th>\n",
       "      <td>(37.8132704666, -122.223502244)</td>\n",
       "      <td>156</td>\n",
       "      <td>176</td>\n",
       "      <td>176</td>\n",
       "      <td>805</td>\n",
       "      <td>0.999988</td>\n",
       "      <td>136.536593</td>\n",
       "      <td>136.534914</td>\n",
       "      <td>00_Oakland, California, USA</td>\n",
       "      <td>drive</td>\n",
       "      <td>245</td>\n",
       "      <td>1.128205</td>\n",
       "      <td>1.128205</td>\n",
       "      <td>1.000000</td>\n",
       "      <td>7.465080</td>\n",
       "    </tr>\n",
       "    <tr>\n",
       "      <th>1</th>\n",
       "      <td>(37.7701588187, -122.210489049)</td>\n",
       "      <td>173</td>\n",
       "      <td>200</td>\n",
       "      <td>206</td>\n",
       "      <td>805</td>\n",
       "      <td>0.977546</td>\n",
       "      <td>126.299011</td>\n",
       "      <td>123.463090</td>\n",
       "      <td>01_Oakland, California, USA</td>\n",
       "      <td>drive</td>\n",
       "      <td>269</td>\n",
       "      <td>1.156069</td>\n",
       "      <td>1.190751</td>\n",
       "      <td>1.030000</td>\n",
       "      <td>7.736993</td>\n",
       "    </tr>\n",
       "    <tr>\n",
       "      <th>2</th>\n",
       "      <td>(37.7957289276, -122.25369165)</td>\n",
       "      <td>172</td>\n",
       "      <td>196</td>\n",
       "      <td>199</td>\n",
       "      <td>805</td>\n",
       "      <td>0.988097</td>\n",
       "      <td>117.234219</td>\n",
       "      <td>115.838832</td>\n",
       "      <td>02_Oakland, California, USA</td>\n",
       "      <td>drive</td>\n",
       "      <td>240</td>\n",
       "      <td>1.139535</td>\n",
       "      <td>1.156977</td>\n",
       "      <td>1.015306</td>\n",
       "      <td>7.583998</td>\n",
       "    </tr>\n",
       "    <tr>\n",
       "      <th>3</th>\n",
       "      <td>(37.7661115178, -122.164909795)</td>\n",
       "      <td>137</td>\n",
       "      <td>147</td>\n",
       "      <td>149</td>\n",
       "      <td>805</td>\n",
       "      <td>0.990677</td>\n",
       "      <td>142.153314</td>\n",
       "      <td>140.828024</td>\n",
       "      <td>03_Oakland, California, USA</td>\n",
       "      <td>drive</td>\n",
       "      <td>200</td>\n",
       "      <td>1.072993</td>\n",
       "      <td>1.087591</td>\n",
       "      <td>1.013605</td>\n",
       "      <td>4.949770</td>\n",
       "    </tr>\n",
       "    <tr>\n",
       "      <th>4</th>\n",
       "      <td>(37.8298107167, -122.244568025)</td>\n",
       "      <td>143</td>\n",
       "      <td>168</td>\n",
       "      <td>168</td>\n",
       "      <td>805</td>\n",
       "      <td>0.999984</td>\n",
       "      <td>109.973009</td>\n",
       "      <td>109.971298</td>\n",
       "      <td>04_Oakland, California, USA</td>\n",
       "      <td>drive</td>\n",
       "      <td>226</td>\n",
       "      <td>1.174825</td>\n",
       "      <td>1.174825</td>\n",
       "      <td>1.000000</td>\n",
       "      <td>6.205001</td>\n",
       "    </tr>\n",
       "  </tbody>\n",
       "</table>\n",
       "</div>"
      ],
      "text/plain": [
       "                            coords  count_cleaned_intersections  \\\n",
       "0  (37.8132704666, -122.223502244)                          156   \n",
       "1  (37.7701588187, -122.210489049)                          173   \n",
       "2   (37.7957289276, -122.25369165)                          172   \n",
       "3  (37.7661115178, -122.164909795)                          137   \n",
       "4  (37.8298107167, -122.244568025)                          143   \n",
       "\n",
       "   count_nonplanar_intersections  count_planar_intersections  distance  \\\n",
       "0                            176                         176       805   \n",
       "1                            200                         206       805   \n",
       "2                            196                         199       805   \n",
       "3                            147                         149       805   \n",
       "4                            168                         168       805   \n",
       "\n",
       "   edge_length_ratio  mean_edge_length  mean_planar_segment_length  \\\n",
       "0           0.999988        136.536593                  136.534914   \n",
       "1           0.977546        126.299011                  123.463090   \n",
       "2           0.988097        117.234219                  115.838832   \n",
       "3           0.990677        142.153314                  140.828024   \n",
       "4           0.999984        109.973009                  109.971298   \n",
       "\n",
       "                          name network_type  nodes  \\\n",
       "0  00_Oakland, California, USA        drive    245   \n",
       "1  01_Oakland, California, USA        drive    269   \n",
       "2  02_Oakland, California, USA        drive    240   \n",
       "3  03_Oakland, California, USA        drive    200   \n",
       "4  04_Oakland, California, USA        drive    226   \n",
       "\n",
       "   overcount_nonplanar_cleaned  overcount_planar_cleaned  \\\n",
       "0                     1.128205                  1.128205   \n",
       "1                     1.156069                  1.190751   \n",
       "2                     1.139535                  1.156977   \n",
       "3                     1.072993                  1.087591   \n",
       "4                     1.174825                  1.174825   \n",
       "\n",
       "   overcount_planar_nonplanar   runtime  \n",
       "0                    1.000000  7.465080  \n",
       "1                    1.030000  7.736993  \n",
       "2                    1.015306  7.583998  \n",
       "3                    1.013605  4.949770  \n",
       "4                    1.000000  6.205001  "
      ]
     },
     "execution_count": 9,
     "metadata": {},
     "output_type": "execute_result"
    }
   ],
   "source": [
    "df.to_csv('data/city_samples.csv')\n",
    "df.head()"
   ]
  },
  {
   "cell_type": "code",
   "execution_count": 10,
   "metadata": {},
   "outputs": [],
   "source": [
    "cols = ['overcount_planar_nonplanar', 'overcount_nonplanar_cleaned', 'overcount_planar_cleaned', 'edge_length_ratio']\n",
    "table = df[cols].describe().T.round(3)"
   ]
  },
  {
   "cell_type": "code",
   "execution_count": 11,
   "metadata": {},
   "outputs": [
    {
     "name": "stdout",
     "output_type": "stream",
     "text": [
      "\\begin{tabular}{lrrrrrrrr}\n",
      "\\toprule\n",
      "{} &  count &   mean &    std &    min &    25\\% &    50\\% &    75\\% &    max \\\\\n",
      "\\midrule\n",
      "overcount\\_planar\\_nonplanar  &  148.0 &  1.069 &  0.120 &  1.000 &  1.000 &  1.032 &  1.085 &  1.692 \\\\\n",
      "overcount\\_nonplanar\\_cleaned &  148.0 &  1.158 &  0.164 &  1.000 &  1.077 &  1.124 &  1.178 &  2.000 \\\\\n",
      "overcount\\_planar\\_cleaned    &  148.0 &  1.240 &  0.227 &  1.000 &  1.112 &  1.166 &  1.265 &  2.000 \\\\\n",
      "edge\\_length\\_ratio           &  148.0 &  0.959 &  0.065 &  0.631 &  0.948 &  0.983 &  1.000 &  1.000 \\\\\n",
      "\\bottomrule\n",
      "\\end{tabular}\n",
      "\n"
     ]
    }
   ],
   "source": [
    "print(table.to_latex())"
   ]
  },
  {
   "cell_type": "markdown",
   "metadata": {},
   "source": [
    "## Get the whole city"
   ]
  },
  {
   "cell_type": "code",
   "execution_count": 12,
   "metadata": {},
   "outputs": [
    {
     "data": {
      "image/svg+xml": [
       "<svg xmlns=\"http://www.w3.org/2000/svg\" xmlns:xlink=\"http://www.w3.org/1999/xlink\" width=\"100.0\" height=\"100.0\" viewBox=\"-122.36600668 37.62210032 0.26146036000000095 0.27339336000000003\" preserveAspectRatio=\"xMinYMin meet\"><g transform=\"matrix(1,0,0,-1,0,75.517594)\"><path fill-rule=\"evenodd\" fill=\"#66cc99\" stroke=\"#555555\" stroke-width=\"0.0054678672000000005\" opacity=\"0.6\" d=\"M -122.355881,37.835727 L -122.3500919,37.8201616 L -122.3468451,37.8114822 L -122.3465852,37.8108476 L -122.340281,37.800628 L -122.33516,37.799448 L -122.3198,37.795908 L -122.31468,37.794728 L -122.312471,37.794484 L -122.305305,37.793692 L -122.29478,37.792528 L -122.29388,37.792628 L -122.292678,37.792778 L -122.286379,37.793565 L -122.28428,37.793828 L -122.282679,37.793548 L -122.27788,37.792708 L -122.27628,37.792428 L -122.275951,37.792272 L -122.274964,37.791804 L -122.274636,37.791648 L -122.274544,37.791584 L -122.274271,37.791392 L -122.27418,37.791328 L -122.27302,37.790668 L -122.26954,37.788688 L -122.26838,37.788028 L -122.26596,37.787152 L -122.264285,37.786545 L -122.260868,37.785308 L -122.258703,37.784525 L -122.25788,37.784228 L -122.25668,37.785428 L -122.25558,37.786328 L -122.25478,37.786728 L -122.253844,37.786594 L -122.25058,37.786127 L -122.246179,37.783426 L -122.245606,37.782233 L -122.244978,37.780925 L -122.244817,37.779123 L -122.24488,37.777354 L -122.244385,37.776997 L -122.242569,37.775687 L -122.240684,37.774327 L -122.238506,37.772954 L -122.236566,37.771731 L -122.236488,37.771696 L -122.235308,37.77114 L -122.231769,37.769474 L -122.23059,37.768919 L -122.230537,37.768899 L -122.230514,37.768891 L -122.230438,37.768864 L -122.230377,37.768842 L -122.230325,37.768823 L -122.229152,37.768077 L -122.226947,37.766675 L -122.225986,37.765454 L -122.225154,37.764397 L -122.225127,37.764363 L -122.224662,37.762402 L -122.224639,37.762302 L -122.224151,37.760241 L -122.223983,37.75953 L -122.2239157,37.7578529 L -122.223859,37.75644 L -122.2238617,37.7546503 L -122.223939,37.754148 L -122.224419,37.753308 L -122.224579,37.753028 L -122.224842,37.752361 L -122.225631,37.75036 L -122.225895,37.749694 L -122.226029,37.749335 L -122.226432,37.748261 L -122.2266426,37.747496 L -122.226634,37.7456907 L -122.2266,37.745501 L -122.226174,37.745402 L -122.225782,37.745347 L -122.225491,37.745305 L -122.22512,37.745253 L -122.225221,37.742207 L -122.2252677,37.7407975 L -122.2253386,37.7386598 L -122.225524,37.733071 L -122.225562,37.731959 L -122.225653,37.731766 L -122.225785,37.731462 L -122.226171,37.731039 L -122.22664,37.730371 L -122.226574,37.729607 L -122.226379,37.727316 L -122.226314,37.726553 L -122.226663,37.726615 L -122.22771,37.726804 L -122.22806,37.726867 L -122.228084,37.726841 L -122.228158,37.726763 L -122.228183,37.726738 L -122.228379,37.726529 L -122.228625,37.726277 L -122.231853,37.72297 L -122.232267,37.722546 L -122.235965,37.718759 L -122.236101,37.71862 L -122.236902,37.71902 L -122.2396303,37.7209887 L -122.244042,37.724172 L -122.244359,37.724401 L -122.246139,37.725685 L -122.247919,37.726969 L -122.248308,37.72725 L -122.248827,37.727808 L -122.257477,37.720448 L -122.261513,37.717015 L -122.251514,37.710788 L -122.255398,37.707621 L -122.269663,37.70795 L -122.28178,37.70823 L -122.28088,37.70723 L -122.27852,37.704389 L -122.268864,37.692763 L -122.265646,37.688888 L -122.262912,37.685596 L -122.254712,37.675722 L -122.251979,37.672431 L -122.250919,37.671091 L -122.247739,37.667071 L -122.246679,37.665731 L -122.243359,37.661693 L -122.233402,37.649579 L -122.230083,37.645542 L -122.228172,37.643217 L -122.222441,37.636244 L -122.220531,37.63392 L -122.220252,37.633581 L -122.219416,37.632564 L -122.219138,37.632226 L -122.210477,37.639931 L -122.192169,37.656224 L -122.185139,37.662923 L -122.184717,37.663288 L -122.184314,37.663638 L -122.181977,37.665731 L -122.176816,37.670712 L -122.1805886,37.6706514 L -122.1915576,37.6833296 L -122.1922955,37.6827235 L -122.2002987,37.6922869 L -122.2097346,37.7110809 L -122.2095614,37.7111215 L -122.2021718,37.7129762 L -122.1970363,37.7158231 L -122.1944265,37.7158239 L -122.1942729,37.7159061 L -122.1947225,37.7175321 L -122.1934095,37.7178236 L -122.1929432,37.716788 L -122.1928462,37.7168523 L -122.1894321,37.7178203 L -122.1894285,37.7178213 L -122.1894253,37.7178224 L -122.1894228,37.7178232 L -122.1894201,37.7178242 L -122.1894108,37.7178278 L -122.1894087,37.7178288 L -122.189406,37.71783 L -122.1894018,37.7178319 L -122.1893984,37.7178337 L -122.1893947,37.7178356 L -122.1893912,37.7178375 L -122.189387,37.71784 L -122.1893849,37.7178413 L -122.1893818,37.7178432 L -122.1893791,37.7178451 L -122.1893764,37.7178469 L -122.1893707,37.7178512 L -122.1893678,37.7178535 L -122.1893662,37.7178549 L -122.1893639,37.7178568 L -122.1893615,37.717859 L -122.1893586,37.7178617 L -122.1893527,37.7178678 L -122.1893497,37.717871 L -122.1893472,37.717874 L -122.1893434,37.7178788 L -122.1893419,37.717881 L -122.1893392,37.7178848 L -122.189338,37.7178867 L -122.1893366,37.7178889 L -122.1893348,37.7178919 L -122.1893334,37.7178943 L -122.1893319,37.7178972 L -122.1893308,37.7178994 L -122.1893291,37.717903 L -122.189328,37.7179055 L -122.1893271,37.7179076 L -122.1893262,37.7179102 L -122.1893248,37.7179141 L -122.1893234,37.7179185 L -122.1893226,37.7179213 L -122.1893217,37.717925 L -122.1893211,37.717928 L -122.1893207,37.7179305 L -122.1893196,37.717938 L -122.1893197,37.7179608 L -122.1893212,37.7179704 L -122.1893216,37.7179724 L -122.1893221,37.7179745 L -122.1893225,37.7179763 L -122.189323,37.7179782 L -122.1893239,37.7179814 L -122.1893248,37.7179842 L -122.1893256,37.7179866 L -122.1893265,37.7179889 L -122.189328,37.7179927 L -122.1893296,37.7179962 L -122.1893306,37.7179983 L -122.1893323,37.7180018 L -122.1893338,37.7180045 L -122.1893364,37.718009 L -122.1893376,37.7180109 L -122.1893388,37.7180128 L -122.1893406,37.7180155 L -122.1893417,37.7180171 L -122.1893446,37.7180209 L -122.1893468,37.7180237 L -122.1893481,37.7180252 L -122.1893496,37.718027 L -122.1893509,37.7180285 L -122.1893534,37.7180312 L -122.1893559,37.7180339 L -122.189359,37.7180369 L -122.1896191,37.7182671 L -122.1896771,37.7183184 L -122.189748,37.7183811 L -122.1899005,37.718516 L -122.191689,37.7200451 L -122.1941388,37.7221476 L -122.1962817,37.7233039 L -122.197404,37.7252566 L -122.1977541,37.7251652 L -122.1980629,37.7262216 L -122.1978788,37.7262982 L -122.1968054,37.7267427 L -122.1961528,37.7259974 L -122.195463,37.7262654 L -122.1952163,37.726399 L -122.1949018,37.726564 L -122.1928563,37.7276793 L -122.1928297,37.7276936 L -122.1919357,37.7272817 L -122.1913198,37.7281285 L -122.1912718,37.7281991 L -122.190983,37.7280678 L -122.1908757,37.7282159 L -122.1903833,37.7288823 L -122.1900052,37.728747 L -122.189116,37.7285063 L -122.1890531,37.7285924 L -122.1891571,37.7286201 L -122.1886069,37.7285014 L -122.1884775,37.7284654 L -122.1882633,37.7284198 L -122.187447,37.7279691 L -122.1868899,37.7278166 L -122.1864619,37.7275827 L -122.1857298,37.7267982 L -122.1852401,37.7266435 L -122.184695,37.7262223 L -122.1842884,37.7260474 L -122.1841962,37.7259949 L -122.1841369,37.7259411 L -122.1838394,37.7256708 L -122.1836141,37.7256091 L -122.1832994,37.7255463 L -122.1831021,37.725507 L -122.1826651,37.7254199 L -122.1825451,37.7253829 L -122.1823968,37.7253572 L -122.1820668,37.7253502 L -122.1819839,37.7253574 L -122.1811768,37.7254445 L -122.180697,37.7256497 L -122.1805141,37.7257279 L -122.1802995,37.7257374 L -122.1799921,37.7257062 L -122.1794241,37.7253692 L -122.1793917,37.7252428 L -122.1791452,37.7251794 L -122.1788456,37.7252161 L -122.1785759,37.7252682 L -122.178237,37.7253295 L -122.1778926,37.7253829 L -122.1775416,37.7253275 L -122.1768537,37.7252809 L -122.176356,37.7252455 L -122.1758113,37.7252247 L -122.1754525,37.7252967 L -122.1753517,37.7253779 L -122.1750214,37.7259275 L -122.1744362,37.7265507 L -122.1743485,37.7266437 L -122.1738415,37.7267323 L -122.1729987,37.7267497 L -122.1727106,37.7268091 L -122.1725622,37.7269876 L -122.1720073,37.7276392 L -122.1716714,37.7278924 L -122.1713014,37.7280003 L -122.1708563,37.7278968 L -122.1708263,37.7277853 L -122.1706258,37.727692 L -122.1706573,37.727815 L -122.1703211,37.7277266 L -122.171207,37.7285001 L -122.1714323,37.7286925 L -122.1737968,37.7307587 L -122.1738722,37.7308246 L -122.1742323,37.7311405 L -122.1738568,37.7312221 L -122.173863,37.7312275 L -122.1705046,37.7318622 L -122.1702545,37.7319799 L -122.1700554,37.7320735 L -122.1697571,37.7322138 L -122.1703336,37.7331004 L -122.1707125,37.7336827 L -122.1710111,37.7341418 L -122.1710381,37.7341835 L -122.1711699,37.7343861 L -122.1713923,37.7347281 L -122.1715635,37.7349913 L -122.1682431,37.7365495 L -122.165791,37.7377 L -122.1656193,37.7377586 L -122.1655284,37.7376586 L -122.1654178,37.7375084 L -122.1642214,37.7358999 L -122.161921,37.7369679 L -122.1609643,37.7374147 L -122.1608255,37.7374678 L -122.1604836,37.7375729 L -122.160071,37.7376831 L -122.1585568,37.7381037 L -122.1570203,37.7385325 L -122.1550746,37.7390725 L -122.1533904,37.7395494 L -122.1519704,37.7399295 L -122.1511386,37.740167 L -122.1502105,37.7404248 L -122.1487167,37.7408628 L -122.1483868,37.7409321 L -122.1476606,37.7411349 L -122.1475912,37.7411636 L -122.1474508,37.7412684 L -122.1472756,37.7414609 L -122.1470727,37.7417074 L -122.1468491,37.7420152 L -122.1466794,37.7422401 L -122.1465062,37.7424619 L -122.1460456,37.7427526 L -122.1458247,37.7425391 L -122.1456067,37.7422994 L -122.145477,37.7421425 L -122.1453595,37.7419917 L -122.1451901,37.7417617 L -122.1448595,37.741327 L -122.1443557,37.7406551 L -122.144205,37.7404666 L -122.1439762,37.7402061 L -122.1438009,37.7400238 L -122.1436543,37.739884 L -122.1434267,37.7396819 L -122.1432682,37.7395519 L -122.1420797,37.7386136 L -122.1417613,37.7383506 L -122.1416026,37.7382127 L -122.1413447,37.7379698 L -122.1411159,37.7377086 L -122.1409432,37.7374868 L -122.1408622,37.737375 L -122.1406368,37.7370106 L -122.1405013,37.736741 L -122.1403938,37.7364936 L -122.1403626,37.7364099 L -122.1403036,37.7362418 L -122.1402398,37.7360181 L -122.1401847,37.7357933 L -122.1398947,37.7344861 L -122.13953,37.7329106 L -122.1395115,37.7328269 L -122.1392806,37.7319666 L -122.138994,37.7309489 L -122.1389854,37.7309187 L -122.1382252,37.7309656 L -122.1381012,37.7310036 L -122.1376605,37.7313624 L -122.137082,37.7316072 L -122.1367081,37.7318518 L -122.1364564,37.732118 L -122.1360903,37.7327194 L -122.1357155,37.7331767 L -122.1354654,37.7336162 L -122.1348556,37.7343023 L -122.1344755,37.7342905 L -122.1344466,37.7342896 L -122.1343822,37.7342775 L -122.1335268,37.7341159 L -122.133186,37.7340516 L -122.132825,37.7339832 L -122.1320072,37.733661 L -122.1312331,37.7335812 L -122.1306313,37.7336884 L -122.1304013,37.7334194 L -122.130499,37.7327637 L -122.1308741,37.7323743 L -122.1311207,37.7322618 L -122.1321873,37.7317934 L -122.1323536,37.7317204 L -122.1315875,37.7308785 L -122.1312351,37.7304213 L -122.131073,37.7303271 L -122.1306578,37.7301158 L -122.1303637,37.7300731 L -122.1298457,37.7299995 L -122.129349,37.729954 L -122.1281305,37.7298786 L -122.1270106,37.7293253 L -122.126866,37.729587 L -122.126824,37.729576 L -122.126651,37.729532 L -122.126416,37.729477 L -122.126072,37.729434 L -122.125546,37.729396 L -122.125491,37.72938 L -122.125429,37.729352 L -122.125387,37.729352 L -122.125173,37.729297 L -122.125131,37.729275 L -122.125055,37.729253 L -122.124931,37.729204 L -122.124813,37.729149 L -122.12473,37.729122 L -122.12471,37.729111 L -122.124688,37.7291 L -122.124557,37.72905 L -122.124426,37.729012 L -122.124384,37.729006 L -122.124121,37.729007 L -122.124038,37.729023 L -122.124004,37.729034 L -122.123887,37.72908 L -122.12377,37.729127 L -122.123676,37.729174 L -122.122721,37.72966 L -122.122403,37.729823 L -122.122322,37.729873 L -122.122082,37.730027 L -122.122002,37.730078 L -122.121584,37.730417 L -122.120997,37.730894 L -122.120268,37.731348 L -122.119812,37.731633 L -122.117984,37.732559 L -122.117891,37.732668 L -122.116765,37.734006 L -122.116492,37.734329 L -122.115618,37.735886 L -122.115366,37.736704 L -122.1155,37.738461 L -122.11556,37.739233 L -122.114984,37.739994 L -122.114847,37.740178 L -122.114672,37.740334 L -122.114694,37.740381 L -122.11471,37.740414 L -122.114714,37.740533 L -122.114716,37.740586 L -122.114962,37.742155 L -122.114983,37.742284 L -122.115701,37.746865 L -122.115948,37.748436 L -122.115987,37.748725 L -122.116105,37.749593 L -122.116145,37.749883 L -122.116584,37.750715 L -122.117145,37.751777 L -122.117438,37.752331 L -122.117903,37.753212 L -122.11823,37.753831 L -122.118343,37.754045 L -122.118424,37.754156 L -122.118457,37.754256 L -122.118547,37.754543 L -122.120237,37.757223 L -122.12232,37.760528 L -122.125794,37.76687 L -122.126196,37.767603 L -122.128166,37.769701 L -122.1292499,37.7708957 L -122.129465,37.771127 L -122.130074,37.771795 L -122.130075,37.771797 L -122.1301207,37.771847 L -122.130382,37.772133 L -122.1312789,37.7734601 L -122.132361,37.775061 L -122.132768,37.775611 L -122.132837,37.775681 L -122.132915,37.775759 L -122.134276,37.777127 L -122.133852,37.777409 L -122.133676,37.777527 L -122.134376,37.778327 L -122.134608,37.778227 L -122.135076,37.778027 L -122.136872,37.779955 L -122.142263,37.78574 L -122.142634,37.786138 L -122.143312,37.786865 L -122.144061,37.787669 L -122.143517,37.78839 L -122.142207,37.790129 L -122.142645,37.790431 L -122.143389,37.790945 L -122.143527,37.790831 L -122.143943,37.79049 L -122.144082,37.790377 L -122.144368,37.790625 L -122.144885,37.791075 L -122.145227,37.791372 L -122.145514,37.791622 L -122.14627,37.79234 L -122.149924,37.792398 L -122.151171,37.792418 L -122.151473,37.796394 L -122.156874,37.796469 L -122.156874,37.796866 L -122.157874,37.797361 L -122.158575,37.796957 L -122.159276,37.797452 L -122.159078,37.797647 L -122.158576,37.798147 L -122.160077,37.799735 L -122.16187,37.799934 L -122.162229,37.800745 L -122.161961,37.800896 L -122.161868,37.800949 L -122.16192,37.801356 L -122.164266,37.803229 L -122.164289,37.803286 L -122.164733,37.804395 L -122.164477,37.804424 L -122.164779,37.805111 L -122.166682,37.805586 L -122.166936,37.805635 L -122.167022,37.805652 L -122.17059,37.804734 L -122.170192,37.802315 L -122.169399,37.801071 L -122.1686,37.801161 L -122.168502,37.800652 L -122.168703,37.800346 L -122.168703,37.800044 L -122.168705,37.799025 L -122.17081,37.799696 L -122.171733,37.8003 L -122.172321,37.800587 L -122.17569,37.802234 L -122.175286,37.803162 L -122.175758,37.803357 L -122.176581,37.803697 L -122.17736,37.803316 L -122.177527,37.803455 L -122.178031,37.803874 L -122.178199,37.804014 L -122.178182,37.804028 L -122.178134,37.80407 L -122.178118,37.804085 L -122.177736,37.804721 L -122.176592,37.806632 L -122.176477,37.806825 L -122.176129,37.807208 L -122.176057,37.807225 L -122.175995,37.807241 L -122.17593,37.807264 L -122.17585,37.807297 L -122.17583,37.807306 L -122.175785,37.80733 L -122.175599,37.807773 L -122.175577,37.807827 L -122.175424,37.808193 L -122.175111,37.808929 L -122.175036,37.809103 L -122.174849,37.809547 L -122.174477,37.810427 L -122.174562,37.810982 L -122.175077,37.814327 L -122.175903,37.815153 L -122.176977,37.816227 L -122.179093,37.817778 L -122.181333,37.8194193 L -122.181477,37.819526 L -122.185977,37.820726 L -122.18604,37.820979 L -122.186677,37.823526 L -122.186611,37.823677 L -122.186417,37.82413 L -122.186377,37.824226 L -122.186355,37.824283 L -122.186144,37.824829 L -122.186036,37.825113 L -122.185877,37.825526 L -122.186413,37.826381 L -122.186725,37.826877 L -122.186752,37.826972 L -122.186759,37.826993 L -122.186784,37.827043 L -122.186807,37.827065 L -122.186858,37.827075 L -122.186973,37.827146 L -122.187058,37.827199 L -122.187068,37.827329 L -122.187094,37.827665 L -122.187177,37.828726 L -122.187134,37.829062 L -122.187077,37.829526 L -122.186811,37.830003 L -122.186577,37.830426 L -122.186166,37.831013 L -122.185977,37.831226 L -122.18589,37.831357 L -122.185589,37.831813 L -122.185584,37.831818 L -122.185544,37.831859 L -122.185525,37.831878 L -122.185516,37.831889 L -122.185468,37.831945 L -122.185409,37.832042 L -122.185375,37.832107 L -122.185336,37.83219 L -122.185276,37.832297 L -122.185251,37.832343 L -122.185207,37.832434 L -122.185141,37.832542 L -122.185085,37.832612 L -122.18501,37.832709 L -122.184802,37.833012 L -122.184179,37.833922 L -122.184177,37.833926 L -122.184271,37.834277 L -122.184305,37.834406 L -122.184408,37.834793 L -122.184443,37.834923 L -122.18449,37.835103 L -122.184516,37.835199 L -122.184575,37.835427 L -122.184628,37.835646 L -122.184674,37.835828 L -122.184703,37.835887 L -122.184707,37.835893 L -122.184783,37.836047 L -122.185114,37.836703 L -122.185225,37.836923 L -122.185277,37.837026 L -122.185903,37.837143 L -122.186877,37.837326 L -122.188132,37.837514 L -122.188877,37.837626 L -122.188886,37.83763 L -122.188915,37.837645 L -122.188925,37.83765 L -122.189298,37.837836 L -122.189644,37.83801 L -122.189679,37.838027 L -122.19031,37.838559 L -122.190318,37.838565 L -122.19063,37.838828 L -122.190812,37.838981 L -122.191358,37.83944 L -122.19154,37.839594 L -122.191578,37.839626 L -122.191778,37.839826 L -122.191794,37.839833 L -122.191963,37.839906 L -122.193433,37.840545 L -122.193923,37.840758 L -122.193917,37.840834 L -122.193917,37.840859 L -122.193917,37.840963 L -122.193947,37.841028 L -122.194028,37.841126 L -122.194109,37.841159 L -122.194123,37.841164 L -122.194124,37.841193 L -122.194191,37.841284 L -122.194304,37.841366 L -122.194452,37.841426 L -122.194458,37.841427 L -122.1946,37.841468 L -122.194771,37.841487 L -122.194988,37.841524 L -122.195124,37.841553 L -122.195214,37.841593 L -122.195268,37.84163 L -122.195335,37.841688 L -122.195623,37.841913 L -122.195666,37.841936 L -122.195709,37.84196 L -122.195831,37.842004 L -122.195972,37.842012 L -122.196101,37.842005 L -122.19593,37.842174 L -122.195418,37.842685 L -122.195315,37.842789 L -122.195293,37.842799 L -122.195287,37.842817 L -122.195282,37.843113 L -122.1952772,37.8431795 L -122.195278,37.843312 L -122.195274,37.843587 L -122.196209,37.844361 L -122.196575,37.844663 L -122.196593,37.844678 L -122.196703,37.844765 L -122.196778,37.844825 L -122.19704,37.844983 L -122.197059,37.844994 L -122.19718,37.845068 L -122.197279,37.845123 L -122.197383,37.845197 L -122.197528,37.845307 L -122.198541,37.846069 L -122.198879,37.846324 L -122.199255,37.846566 L -122.19999,37.84704 L -122.200278,37.847225 L -122.200371,37.847309 L -122.200678,37.847589 L -122.200702,37.847612 L -122.200837,37.847734 L -122.201242,37.848103 L -122.201378,37.848226 L -122.201744,37.848684 L -122.202843,37.850058 L -122.20321,37.850516 L -122.203809,37.851106 L -122.204094,37.851387 L -122.206218,37.851474 L -122.207063,37.85151 L -122.207232,37.851511 L -122.207307,37.851526 L -122.207378,37.851555 L -122.207564,37.851649 L -122.207784,37.851737 L -122.207861,37.85175 L -122.207967,37.851751 L -122.208063,37.851754 L -122.208174,37.85174 L -122.208486,37.85169 L -122.209044,37.852325 L -122.210718,37.85423 L -122.210978,37.854526 L -122.21081,37.854946 L -122.210778,37.855026 L -122.210957,37.855322 L -122.211629,37.856431 L -122.211854,37.856801 L -122.211862,37.85682 L -122.211885,37.85687 L -122.21189,37.85688 L -122.211902,37.8569 L -122.211907,37.856909 L -122.211926,37.856937 L -122.211933,37.856946 L -122.212012,37.857013 L -122.21238,37.857234 L -122.212494,37.857269 L -122.212973,37.857503 L -122.213135,37.857583 L -122.213136,37.857583 L -122.213176,37.857623 L -122.213175,37.857658 L -122.213173,37.85778 L -122.213172,37.857822 L -122.213194,37.857835 L -122.213263,37.857874 L -122.213778,37.858026 L -122.213874,37.858546 L -122.214736,37.85951 L -122.215452,37.860147 L -122.217531,37.861998 L -122.218616,37.8629304 L -122.220389,37.864427 L -122.221488,37.865026 L -122.220315,37.866144 L -122.219181,37.867226 L -122.217999,37.867815 L -122.217897,37.867866 L -122.217778,37.867925 L -122.217583,37.868061 L -122.217227,37.868316 L -122.217075,37.868424 L -122.216995,37.868464 L -122.216783,37.868571 L -122.216769,37.868577 L -122.216276,37.868822 L -122.216738,37.870043 L -122.217376,37.871724 L -122.218721,37.872936 L -122.220211,37.874276 L -122.2213955,37.8753179 L -122.22156,37.875543 L -122.221573,37.875558 L -122.221711,37.875723 L -122.222448,37.876609 L -122.223878,37.878326 L -122.225567,37.879125 L -122.225778,37.879225 L -122.226831,37.87965 L -122.227116,37.879764 L -122.227117,37.879765 L -122.227661,37.879984 L -122.230149,37.880989 L -122.230979,37.881325 L -122.231999,37.881595 L -122.234378,37.882225 L -122.235068,37.882384 L -122.235679,37.882525 L -122.236029,37.88262 L -122.236038,37.882623 L -122.236095,37.882638 L -122.236382,37.882714 L -122.237249,37.882946 L -122.237538,37.883024 L -122.237543,37.883026 L -122.237597,37.88304 L -122.237916,37.883124 L -122.238679,37.883325 L -122.239042,37.883203 L -122.239353,37.8831 L -122.239413,37.88308 L -122.239506,37.883048 L -122.239785,37.882956 L -122.239879,37.882925 L -122.240261,37.882739 L -122.240273,37.882732 L -122.241459,37.882157 L -122.241855,37.881966 L -122.241971,37.881927 L -122.241979,37.881924 L -122.244079,37.883224 L -122.244114,37.883252 L -122.244615,37.883646 L -122.244635,37.883662 L -122.244803,37.883794 L -122.24531,37.884192 L -122.245479,37.884325 L -122.245716,37.884511 L -122.24643,37.885069 L -122.246586,37.885191 L -122.2469126,37.885368 L -122.2468285,37.8846227 L -122.2468285,37.8845997 L -122.246797,37.8845137 L -122.246782,37.8843897 L -122.2468341,37.8841026 L -122.246759,37.8840032 L -122.2466999,37.8835531 L -122.2466768,37.8833083 L -122.2465613,37.8822776 L -122.2465292,37.8819701 L -122.2464823,37.8816 L -122.2464564,37.8813696 L -122.2458657,37.8760803 L -122.2457429,37.8749799 L -122.2451848,37.8699791 L -122.2451769,37.8699366 L -122.245128,37.8694772 L -122.2451033,37.8693142 L -122.2450873,37.8691475 L -122.2450221,37.8685854 L -122.2450019,37.8684585 L -122.2449901,37.8683318 L -122.2449425,37.8679253 L -122.2449283,37.8676847 L -122.2448268,37.8675822 L -122.244603,37.8674008 L -122.2447496,37.8672107 L -122.244814,37.8670511 L -122.2450153,37.8669188 L -122.2450636,37.8668702 L -122.2447049,37.8666633 L -122.2447907,37.8665555 L -122.2448185,37.8664858 L -122.2448283,37.8663874 L -122.244818,37.8662784 L -122.2455346,37.8662374 L -122.2451916,37.8657979 L -122.2447332,37.8657883 L -122.2446211,37.8647213 L -122.2448737,37.8647056 L -122.2451046,37.8643863 L -122.2452505,37.8642577 L -122.2455253,37.8640367 L -122.2450246,37.8633557 L -122.2450077,37.8632025 L -122.2449498,37.8630586 L -122.244766,37.8628556 L -122.2444098,37.8627113 L -122.2443424,37.8620745 L -122.244415,37.8620742 L -122.2444112,37.8620459 L -122.2444734,37.8618713 L -122.2441376,37.8614963 L -122.244273,37.8614233 L -122.244235,37.8610662 L -122.2442521,37.8609628 L -122.2440452,37.8607118 L -122.2441741,37.8605911 L -122.2442395,37.8604995 L -122.2442608,37.8604491 L -122.2443073,37.8602233 L -122.2444704,37.8592479 L -122.2445203,37.8591076 L -122.2445697,37.8590004 L -122.2440523,37.8589753 L -122.2440171,37.8589649 L -122.2439845,37.8589455 L -122.2439634,37.8589249 L -122.243947,37.8588967 L -122.2439222,37.8586397 L -122.2438106,37.8586425 L -122.2426025,37.8587208 L -122.2425214,37.8579348 L -122.2427189,37.8579331 L -122.2425515,37.8577131 L -122.2423989,37.8576347 L -122.2423854,37.8576321 L -122.2421966,37.8575302 L -122.2420782,37.8574885 L -122.2419728,37.8574367 L -122.2418497,37.8573448 L -122.2414906,37.8573743 L -122.2417604,37.857253 L -122.2416854,37.8571477 L -122.2416432,37.8570529 L -122.2411547,37.8572623 L -122.2412131,37.8573975 L -122.2407935,37.8574323 L -122.2405321,37.8575453 L -122.2404511,37.8574342 L -122.2403659,37.8572964 L -122.2397933,37.8575393 L -122.2397198,37.8575681 L -122.2396459,37.8575023 L -122.2394198,37.85751 L -122.2391063,37.8577233 L -122.2389204,37.8575487 L -122.2386662,37.8575528 L -122.2382307,37.8576782 L -122.2381736,37.8576897 L -122.2381011,37.8575496 L -122.2380282,37.8575704 L -122.2376997,37.8575905 L -122.2371982,37.857637 L -122.2368218,37.8576585 L -122.23681,37.8575811 L -122.2367865,37.8575818 L -122.2367561,37.8575772 L -122.236729,37.8575682 L -122.236715,37.8575604 L -122.2367415,37.8576506 L -122.2364297,37.8576683 L -122.2362043,37.8576914 L -122.2347612,37.8577907 L -122.2346034,37.8563505 L -122.2345931,37.8562144 L -122.2345495,37.8557916 L -122.2345302,37.8556829 L -122.2345004,37.8554109 L -122.2344928,37.8554112 L -122.2344212,37.8546582 L -122.2343896,37.8543809 L -122.2342719,37.8532878 L -122.2342364,37.8529745 L -122.2341962,37.8525906 L -122.2342067,37.8525929 L -122.2342669,37.8524675 L -122.2344038,37.8523568 L -122.2351037,37.8523109 L -122.2361216,37.8522499 L -122.2362043,37.8522462 L -122.2383598,37.8521323 L -122.2417934,37.8519192 L -122.241932,37.8519069 L -122.243606,37.851807 L -122.2436612,37.8517964 L -122.2447812,37.8517335 L -122.2448805,37.8517234 L -122.2449929,37.8517168 L -122.245118,37.8517146 L -122.2460156,37.8516644 L -122.2460827,37.851664 L -122.2466184,37.8516177 L -122.2466188,37.85162 L -122.2471316,37.8515861 L -122.2472204,37.8515774 L -122.2473312,37.8516579 L -122.2473561,37.8516048 L -122.24918,37.8514354 L -122.2491586,37.8513803 L -122.2492552,37.8513507 L -122.2492927,37.8514205 L -122.2494073,37.8513809 L -122.2494362,37.8514626 L -122.2499799,37.8512798 L -122.2500379,37.8514166 L -122.2508216,37.8512003 L -122.25089,37.8511227 L -122.2510831,37.8512301 L -122.2515732,37.851078 L -122.2517295,37.8510228 L -122.251893,37.8509791 L -122.252333,37.8508346 L -122.2525331,37.8508241 L -122.2529193,37.8507728 L -122.2529636,37.8511006 L -122.2530026,37.8512793 L -122.2530622,37.8518279 L -122.253122,37.8523773 L -122.2531151,37.8523782 L -122.2531668,37.852789 L -122.2531966,37.8530635 L -122.253224,37.8530599 L -122.2533097,37.8534662 L -122.2532414,37.8534752 L -122.2532654,37.8536955 L -122.2533181,37.8536885 L -122.253341,37.8538203 L -122.2534824,37.8538027 L -122.2534462,37.8536715 L -122.2538339,37.8536201 L -122.2539358,37.8536141 L -122.2539709,37.8537411 L -122.2550916,37.8535946 L -122.2556813,37.8535067 L -122.2561085,37.8534552 L -122.2571154,37.8533152 L -122.2572325,37.8533004 L -122.2572083,37.8531785 L -122.2573217,37.8531694 L -122.2582092,37.8530515 L -122.2583146,37.8530436 L -122.2583397,37.8531727 L -122.259784,37.8530013 L -122.2597535,37.8528548 L -122.2617005,37.8526013 L -122.2622237,37.8525345 L -122.2622481,37.8526789 L -122.2634167,37.8525229 L -122.2635948,37.852512 L -122.2636448,37.8524222 L -122.2636082,37.8522956 L -122.2639236,37.852167 L -122.2639539,37.8523121 L -122.2690029,37.8516436 L -122.2684066,37.848763 L -122.2690002,37.8486873 L -122.2689944,37.8486549 L -122.2695198,37.8485869 L -122.2693883,37.8479999 L -122.2692367,37.8472708 L -122.2692143,37.8471097 L -122.2691445,37.8467401 L -122.2708519,37.8465165 L -122.2713299,37.846452 L -122.2723122,37.8463243 L -122.2732028,37.8462016 L -122.2758009,37.8458671 L -122.2759078,37.8463958 L -122.2761885,37.8477345 L -122.2797517,37.8472607 L -122.2797471,37.8472391 L -122.2798837,37.8472209 L -122.2798883,37.8472426 L -122.2818991,37.8469752 L -122.2819568,37.8472454 L -122.2819796,37.8474261 L -122.2820517,37.8477507 L -122.281863,37.8477757 L -122.2819905,37.848349 L -122.2821789,37.8483073 L -122.282464,37.8491182 L -122.2825974,37.8490887 L -122.2825881,37.8490622 L -122.2827049,37.8490364 L -122.2827142,37.8490629 L -122.2829644,37.8490076 L -122.2830574,37.8492721 L -122.2830829,37.8493615 L -122.2831933,37.8493363 L -122.2832454,37.8494898 L -122.2833838,37.8499481 L -122.2833465,37.8499564 L -122.2834408,37.8502207 L -122.2834648,37.8503294 L -122.2835447,37.8505774 L -122.2835514,37.850576 L -122.2835719,37.8506423 L -122.2843524,37.8504907 L -122.2843319,37.8504245 L -122.2845001,37.8503919 L -122.2845206,37.8504581 L -122.2858648,37.8501971 L -122.2860377,37.8501684 L -122.286151,37.8505322 L -122.2863159,37.8504775 L -122.2887006,37.8499981 L -122.2889528,37.849946 L -122.288859,37.849897 L -122.288697,37.849671 L -122.288643,37.849596 L -122.288577,37.849385 L -122.288567,37.849351 L -122.288485,37.849085 L -122.288397,37.848803 L -122.288382,37.848754 L -122.288317,37.848544 L -122.288244,37.848339 L -122.288026,37.847725 L -122.287954,37.847521 L -122.287936,37.847398 L -122.287883,37.847029 L -122.287866,37.846907 L -122.287837,37.846825 L -122.28775,37.84658 L -122.287722,37.846499 L -122.287677,37.846353 L -122.287543,37.845917 L -122.287499,37.845772 L -122.287441,37.845604 L -122.287268,37.845101 L -122.287211,37.844934 L -122.287157,37.844751 L -122.286996,37.844202 L -122.286943,37.84402 L -122.286897,37.843885 L -122.286759,37.84348 L -122.286714,37.843345 L -122.28663,37.843076 L -122.286378,37.842269 L -122.286294,37.842001 L -122.286179,37.84165 L -122.285835,37.840597 L -122.285721,37.840247 L -122.285698,37.840179 L -122.28569,37.840153 L -122.285604,37.839871 L -122.285576,37.839778 L -122.285463,37.839424 L -122.285124,37.838363 L -122.285012,37.83801 L -122.284964,37.837884 L -122.28482,37.837507 L -122.284773,37.837382 L -122.284742,37.837245 L -122.28465,37.836834 L -122.28462,37.836698 L -122.284582,37.836706 L -122.284529,37.836718 L -122.284467,37.836721 L -122.284429,37.836724 L -122.284343,37.836739 L -122.284085,37.836787 L -122.284,37.836803 L -122.283589,37.836879 L -122.282356,37.837109 L -122.282131,37.837152 L -122.282085,37.837154 L -122.282037,37.837149 L -122.281946,37.837124 L -122.281928,37.83707 L -122.281876,37.836911 L -122.281859,37.836858 L -122.281785,37.83687 L -122.28171,37.836884 L -122.281563,37.836909 L -122.28149,37.836922 L -122.280969,37.836983 L -122.280501,37.837039 L -122.279591,37.837147 L -122.27941,37.837102 L -122.278901,37.836976 L -122.278851,37.836958 L -122.278703,37.836907 L -122.278654,37.83689 L -122.278174,37.836854 L -122.2775483,37.8368074 L -122.276736,37.836747 L -122.276416,37.836724 L -122.276292,37.836623 L -122.276184,37.836663 L -122.276168,37.83667 L -122.276012,37.836729 L -122.276088,37.836588 L -122.276144,37.836488 L -122.276199,37.836339 L -122.276366,37.835893 L -122.276423,37.835745 L -122.276476,37.835603 L -122.276636,37.83518 L -122.27669,37.835039 L -122.276739,37.834903 L -122.276886,37.834498 L -122.276936,37.834363 L -122.27699,37.834223 L -122.277152,37.833804 L -122.277207,37.833665 L -122.277253,37.833528 L -122.277391,37.833119 L -122.277438,37.832983 L -122.277487,37.832843 L -122.277634,37.832425 L -122.277684,37.832286 L -122.277763,37.8321 L -122.278002,37.831541 L -122.278082,37.831356 L -122.278118,37.831266 L -122.278173,37.831125 L -122.278446,37.830435 L -122.278538,37.830205 L -122.278586,37.830042 L -122.2786613,37.8297915 L -122.278733,37.829553 L -122.278782,37.829391 L -122.278815,37.829247 L -122.278914,37.828814 L -122.278948,37.828671 L -122.278949,37.828646 L -122.278951,37.828606 L -122.278952,37.828573 L -122.278954,37.828549 L -122.278934,37.828484 L -122.278912,37.828412 L -122.278905,37.82839 L -122.278759,37.827914 L -122.278711,37.827756 L -122.278665,37.827631 L -122.2785061,37.82718 L -122.2787392,37.827075 L -122.2820062,37.8277893 L -122.3301569,37.841078 L -122.355881,37.835727 z M -122.249374,37.823649 L -122.249123,37.823883 L -122.248373,37.824586 L -122.248324,37.824632 L -122.248118,37.824815 L -122.248098,37.824894 L -122.24804,37.825131 L -122.248022,37.825211 L -122.247953,37.825417 L -122.247748,37.826034 L -122.24768,37.826241 L -122.247236,37.826496 L -122.245945,37.827239 L -122.245907,37.827263 L -122.245476,37.827538 L -122.245308,37.827648 L -122.244805,37.827978 L -122.244638,37.828089 L -122.244548,37.828135 L -122.244417,37.828205 L -122.244292,37.828293 L -122.24426,37.828317 L -122.244367,37.8285009 L -122.2444357,37.8286569 L -122.244279,37.828839 L -122.243557,37.829776 L -122.243348,37.830048 L -122.243317,37.830088 L -122.243311,37.830083 L -122.243293,37.830068 L -122.243288,37.830063 L -122.243025,37.830012 L -122.242915,37.830007 L -122.242825,37.830009 L -122.242715,37.830021 L -122.242402,37.830094 L -122.242351,37.830107 L -122.241229,37.830406 L -122.241087,37.830439 L -122.240935,37.830458 L -122.240781,37.830466 L -122.239748,37.830478 L -122.239668,37.830479 L -122.239064,37.830503 L -122.238852,37.830537 L -122.238596,37.830572 L -122.238456,37.830581 L -122.238227,37.830596 L -122.237892,37.830623 L -122.237723,37.830656 L -122.237552,37.830696 L -122.237327,37.830807 L -122.237299,37.830817 L -122.237251,37.830836 L -122.237151,37.830842 L -122.237048,37.830823 L -122.236966,37.830786 L -122.236921,37.830761 L -122.236656,37.830846 L -122.236059,37.831038 L -122.235855,37.831072 L -122.235581,37.831118 L -122.23533,37.831163 L -122.23458,37.831302 L -122.234331,37.831348 L -122.233055,37.831582 L -122.232279,37.831726 L -122.230566,37.8322557 L -122.2302181,37.8323633 L -122.229317,37.832642 L -122.228079,37.833026 L -122.227873,37.832887 L -122.227258,37.832473 L -122.227054,37.832335 L -122.227016,37.832247 L -122.226966,37.832155 L -122.226962,37.832148 L -122.226919,37.832109 L -122.226873,37.832079 L -122.22682,37.832052 L -122.226752,37.832029 L -122.22646,37.832 L -122.226408,37.831982 L -122.226392,37.831977 L -122.22628,37.831929 L -122.226229,37.831895 L -122.226139,37.831847 L -122.225871,37.831703 L -122.225782,37.831655 L -122.2256897,37.8316049 L -122.225631,37.831573 L -122.225178,37.83133 L -122.225028,37.831249 L -122.224919,37.831046 L -122.224594,37.83044 L -122.224486,37.830239 L -122.224083,37.829695 L -122.223721,37.829206 L -122.222798,37.828126 L -122.222741,37.828059 L -122.222666,37.827972 L -122.222591,37.827884 L -122.222359,37.827613 L -122.222307,37.827539 L -122.2222597,37.8274239 L -122.222151,37.827319 L -122.2221,37.827246 L -122.221949,37.82696 L -122.2216251,37.8263302 L -122.2215874,37.8262758 L -122.221499,37.826102 L -122.221349,37.825817 L -122.220777,37.825364 L -122.2194664,37.8243268 L -122.2193598,37.8242424 L -122.219061,37.824006 L -122.218785,37.823788 L -122.218489,37.823554 L -122.218212,37.823432 L -122.217381,37.823067 L -122.2172545,37.8230185 L -122.217104,37.822946 L -122.217006,37.822895 L -122.216911,37.822845 L -122.216714,37.822742 L -122.216617,37.822692 L -122.216491,37.822673 L -122.216473,37.822671 L -122.216302,37.822604 L -122.216185,37.822514 L -122.216172,37.822487 L -122.216144,37.822425 L -122.216127,37.82237 L -122.215999,37.822242 L -122.2157672,37.8220028 L -122.215615,37.821861 L -122.215488,37.821734 L -122.215278,37.82162 L -122.214649,37.821281 L -122.21444,37.821168 L -122.214013,37.820911 L -122.212732,37.820141 L -122.212719,37.8201173 L -122.212305,37.819885 L -122.212135,37.819791 L -122.211627,37.819512 L -122.211458,37.819419 L -122.211195,37.81928 L -122.21041,37.818866 L -122.210148,37.818728 L -122.210724,37.81832 L -122.211212,37.817981 L -122.21161,37.817707 L -122.211929,37.817457 L -122.212129,37.817268 L -122.212327,37.81704 L -122.21248,37.81683 L -122.212596,37.816646 L -122.212731,37.816384 L -122.2128,37.816227 L -122.212848,37.816077 L -122.21291,37.815812 L -122.212988,37.815202 L -122.213017,37.81506 L -122.213054,37.814913 L -122.213104,37.814779 L -122.213108,37.814772 L -122.21319,37.814636 L -122.213623,37.814122 L -122.213673,37.814058 L -122.213728,37.813968 L -122.213802,37.813822 L -122.213847,37.813712 L -122.213863,37.813669 L -122.213901,37.813591 L -122.213959,37.813499 L -122.213978,37.813473 L -122.214015,37.813423 L -122.214044,37.813383 L -122.214086,37.813336 L -122.214237,37.813201 L -122.214354,37.813107 L -122.214476,37.813024 L -122.21459,37.812934 L -122.214645,37.812892 L -122.214791,37.812749 L -122.214857,37.812695 L -122.214882,37.812668 L -122.214993,37.812554 L -122.215021,37.81252 L -122.215111,37.812381 L -122.215134,37.812347 L -122.215174,37.812276 L -122.215445,37.81237 L -122.215945,37.812543 L -122.216164,37.812646 L -122.21625,37.812677 L -122.216521,37.812776 L -122.21676,37.812818 L -122.2171962,37.812898 L -122.217478,37.812945 L -122.2175523,37.8129548 L -122.217718,37.812988 L -122.218206,37.813096 L -122.2182949,37.8131104 L -122.21967,37.813421 L -122.2196935,37.8134296 L -122.220159,37.81353 L -122.220355,37.813583 L -122.220944,37.813744 L -122.2210062,37.8137476 L -122.221141,37.813798 L -122.221439,37.813845 L -122.222336,37.813986 L -122.222635,37.814034 L -122.22291,37.814097 L -122.223735,37.814286 L -122.224011,37.81435 L -122.224256,37.81442 L -122.224992,37.814632 L -122.2250842,37.8146599 L -122.225238,37.814703 L -122.225912,37.814855 L -122.227934,37.815313 L -122.228609,37.815466 L -122.2289513,37.8155298 L -122.229332,37.815613 L -122.231504,37.816054 L -122.232228,37.816202 L -122.232438,37.81627 L -122.233067,37.816476 L -122.233278,37.816545 L -122.233549,37.816621 L -122.2341225,37.8167768 L -122.234363,37.81685 L -122.234635,37.816927 L -122.234761,37.816961 L -122.235139,37.817064 L -122.235265,37.817099 L -122.2355,37.817143 L -122.236208,37.817277 L -122.236444,37.817322 L -122.236673,37.817341 L -122.237361,37.817399 L -122.237591,37.817419 L -122.237934,37.817503 L -122.238966,37.817756 L -122.23931,37.817841 L -122.23957,37.817892 L -122.24035,37.818045 L -122.24061,37.818096 L -122.241007,37.818187 L -122.242198,37.81846 L -122.242596,37.818552 L -122.242747,37.818592 L -122.2432,37.818712 L -122.2431735,37.8187221 L -122.243351,37.818753 L -122.243518,37.818807 L -122.244022,37.818972 L -122.244191,37.819027 L -122.244287,37.819074 L -122.244554,37.819203 L -122.244578,37.819215 L -122.244676,37.819262 L -122.244851,37.819377 L -122.245378,37.819722 L -122.245554,37.819838 L -122.245579,37.819819 L -122.245604,37.81981 L -122.245643,37.819813 L -122.245688,37.819831 L -122.245753,37.819874 L -122.245788,37.819901 L -122.245841,37.819942 L -122.245992,37.820079 L -122.246123,37.820215 L -122.246322,37.820499 L -122.246395,37.820602 L -122.246468,37.820725 L -122.246667,37.820899 L -122.247267,37.821424 L -122.247414,37.821552 L -122.247468,37.821599 L -122.248041,37.82201 L -122.249336,37.822939 L -122.248953,37.8233 L -122.248859,37.82339 L -122.249374,37.823649 z\" /></g></svg>"
      ],
      "text/plain": [
       "<shapely.geometry.polygon.Polygon at 0x1df9e3034a8>"
      ]
     },
     "execution_count": 12,
     "metadata": {},
     "output_type": "execute_result"
    }
   ],
   "source": [
    "gdf = ox.gdf_from_place(query)\n",
    "poly = gdf.loc[0, 'geometry']\n",
    "poly"
   ]
  },
  {
   "cell_type": "code",
   "execution_count": 13,
   "metadata": {},
   "outputs": [],
   "source": [
    "start_time = time.time()\n",
    "G = ox.graph_from_place(query, network_type=network_type,\n",
    "                        simplify=True, truncate_by_edge=True, retain_all=True)\n",
    "\n",
    "# get a special buffered graph for planar analysis\n",
    "buffer = 500\n",
    "G_buff = ox.graph_from_place(query, network_type=network_type, buffer_dist=buffer,\n",
    "                             simplify=True, truncate_by_edge=True, retain_all=True)\n",
    "\n",
    "# how many planar line intersections are there?\n",
    "planar_intersections = calculate_planar_intersections(G_buff, bbox=poly)\n",
    "count_planar_intersections = len(planar_intersections)\n",
    "\n",
    "# how many nonplanar graph edge intersections are there?\n",
    "nonplanar_intersections = calculate_nonplanar_intersections(G, bbox=poly)\n",
    "count_nonplanar_intersections = len(nonplanar_intersections)\n",
    "\n",
    "# how many cleaned, clustered intersections are there?\n",
    "cleaned_intersections = calculate_cleaned_intersections(nonplanar_intersections, G.graph['crs'])\n",
    "count_cleaned_intersections = len(cleaned_intersections)\n",
    "\n",
    "# how does planarity affect average edge length?\n",
    "mean_edge_length, mean_planar_segment_length, edge_length_ratio = calculate_edge_length_ratios(G, planar_intersections)\n",
    "\n",
    "if count_nonplanar_intersections > 0:\n",
    "    # planar line intersections overcounts nonplanar graph edge intersections by xx%\n",
    "    # ie, planar graph shows xx% more intersections than nonplanar graph with bridges/tunnels\n",
    "    planar_nonplanar_overcount = count_planar_intersections / count_nonplanar_intersections\n",
    "else:\n",
    "    planar_nonplanar_overcount = None #avoid divide by zero errors\n",
    "\n",
    "if count_cleaned_intersections > 0:\n",
    "    # edge intersections overcounts street intersections by xx%\n",
    "    nonplanar_cleaned_overcount = count_nonplanar_intersections / count_cleaned_intersections\n",
    "\n",
    "    # line intersections overcounts street intersections by xx%\n",
    "    planar_cleaned_overcount = count_planar_intersections / count_cleaned_intersections\n",
    "else:\n",
    "    planar_cleaned_overcount = None #avoid divide by zero errors\n",
    "    nonplanar_cleaned_overcount = None\n",
    "\n",
    "# assemble the results\n",
    "result = {'name' : query,\n",
    "          'network_type' : network_type,\n",
    "          'nodes' : len(G.nodes()),\n",
    "          'count_planar_intersections' : count_planar_intersections,\n",
    "          'count_nonplanar_intersections' : count_nonplanar_intersections,\n",
    "          'count_cleaned_intersections' : count_cleaned_intersections,\n",
    "          'overcount_planar_nonplanar' : planar_nonplanar_overcount,\n",
    "          'overcount_nonplanar_cleaned' : nonplanar_cleaned_overcount,\n",
    "          'overcount_planar_cleaned' : planar_cleaned_overcount,\n",
    "          'mean_edge_length' : mean_edge_length,\n",
    "          'mean_planar_segment_length' : mean_planar_segment_length,\n",
    "          'edge_length_ratio' : edge_length_ratio,\n",
    "          'runtime' : time.time() - start_time}"
   ]
  },
  {
   "cell_type": "code",
   "execution_count": 14,
   "metadata": {},
   "outputs": [
    {
     "data": {
      "text/plain": [
       "count_cleaned_intersections                          6470\n",
       "count_nonplanar_intersections                        7393\n",
       "count_planar_intersections                           8050\n",
       "edge_length_ratio                                0.935786\n",
       "mean_edge_length                                  132.851\n",
       "mean_planar_segment_length                         124.32\n",
       "name                             Oakland, California, USA\n",
       "network_type                                        drive\n",
       "nodes                                                8433\n",
       "overcount_nonplanar_cleaned                       1.14266\n",
       "overcount_planar_cleaned                           1.2442\n",
       "overcount_planar_nonplanar                        1.08887\n",
       "runtime                                           6399.52\n",
       "dtype: object"
      ]
     },
     "execution_count": 14,
     "metadata": {},
     "output_type": "execute_result"
    }
   ],
   "source": [
    "# results for the entire city\n",
    "pd.Series(result)"
   ]
  },
  {
   "cell_type": "code",
   "execution_count": null,
   "metadata": {},
   "outputs": [],
   "source": []
  }
 ],
 "metadata": {
  "kernelspec": {
   "display_name": "Python 3",
   "language": "python",
   "name": "python3"
  },
  "language_info": {
   "codemirror_mode": {
    "name": "ipython",
    "version": 3
   },
   "file_extension": ".py",
   "mimetype": "text/x-python",
   "name": "python",
   "nbconvert_exporter": "python",
   "pygments_lexer": "ipython3",
   "version": "3.6.4"
  }
 },
 "nbformat": 4,
 "nbformat_minor": 2
}
